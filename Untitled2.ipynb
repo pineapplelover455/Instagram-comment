{
 "cells": [
  {
   "cell_type": "code",
   "execution_count": 2,
   "metadata": {},
   "outputs": [],
   "source": [
    "from time import sleep\n",
    "from selenium import webdriver\n",
    "import instascrape\n",
    "import pandas as pd\n",
    "from selenium.webdriver import Chrome \n",
    "from instascrape import Profile, scrape_posts\n",
    "from instascrape import *\n",
    "import instascrape\n",
    "from instascrape import Post\n",
    "\n",
    "\n",
    "\n",
    "\n"
   ]
  },
  {
   "cell_type": "code",
   "execution_count": 2,
   "metadata": {},
   "outputs": [
    {
     "name": "stderr",
     "output_type": "stream",
     "text": [
      "2021-05-15 20:54:37,645 - INFO - Instabot version: 0.117.0 Started\n",
      "2021-05-15 20:54:37,649 - INFO - Not yet logged in starting: PRE-LOGIN FLOW!\n",
      "2021-05-15 20:54:41,068 - INFO - Logged-in successfully as 'pineapple_lover8910'!\n",
      "2021-05-15 20:54:41,070 - INFO - LOGIN FLOW! Just logged-in: True\n"
     ]
    },
    {
     "data": {
      "text/plain": [
       "True"
      ]
     },
     "execution_count": 2,
     "metadata": {},
     "output_type": "execute_result"
    }
   ],
   "source": [
    "from instabot import Bot\n",
    "\n",
    "\n",
    "bot = Bot()\n",
    "\n",
    "\n",
    "bot.login(username=\"pineapple_lover8910\", password=\"rainajain@8910\")\n"
   ]
  },
  {
   "cell_type": "code",
   "execution_count": 3,
   "metadata": {},
   "outputs": [
    {
     "name": "stderr",
     "output_type": "stream",
     "text": [
      "C:\\ProgramData\\Anaconda3\\lib\\site-packages\\instascrape\\core\\_static_scraper.py:136: MissingCookiesWarning: Request header does not contain cookies! It's recommended you pass at least a valid sessionid otherwise Instagram will likely redirect you to their login page.\n",
      "  MissingCookiesWarning\n"
     ]
    },
    {
     "ename": "InstagramLoginRedirectError",
     "evalue": "Instagram is redirecting you to the login page instead of the page you are trying to scrape. This could be occuring because you made too many requests too quickly or are not logged into Instagram on your machine. Try passing a valid session ID to the scrape method as a cookie to bypass the login requirement",
     "output_type": "error",
     "traceback": [
      "\u001b[1;31m---------------------------------------------------------------------------\u001b[0m",
      "\u001b[1;31mInstagramLoginRedirectError\u001b[0m               Traceback (most recent call last)",
      "\u001b[1;32m<ipython-input-3-9df7d6a1b5c9>\u001b[0m in \u001b[0;36m<module>\u001b[1;34m\u001b[0m\n\u001b[0;32m      1\u001b[0m \u001b[0mpost1\u001b[0m \u001b[1;33m=\u001b[0m \u001b[0mPost\u001b[0m\u001b[1;33m(\u001b[0m\u001b[1;34m\"https://www.instagram.com/p/CFzxaf3sV5o/\"\u001b[0m\u001b[1;33m)\u001b[0m\u001b[1;33m\u001b[0m\u001b[1;33m\u001b[0m\u001b[0m\n\u001b[1;32m----> 2\u001b[1;33m \u001b[0mpost1\u001b[0m\u001b[1;33m.\u001b[0m\u001b[0mscrape\u001b[0m\u001b[1;33m(\u001b[0m\u001b[1;33m)\u001b[0m\u001b[1;33m\u001b[0m\u001b[1;33m\u001b[0m\u001b[0m\n\u001b[0m\u001b[0;32m      3\u001b[0m \u001b[0mpost1\u001b[0m\u001b[1;33m.\u001b[0m\u001b[0mget_recent_comments\u001b[0m\u001b[1;33m(\u001b[0m\u001b[1;33m)\u001b[0m\u001b[1;33m\u001b[0m\u001b[1;33m\u001b[0m\u001b[0m\n\u001b[0;32m      4\u001b[0m     \u001b[1;31m#post1.scrape()\u001b[0m\u001b[1;33m\u001b[0m\u001b[1;33m\u001b[0m\u001b[1;33m\u001b[0m\u001b[0m\n\u001b[0;32m      5\u001b[0m     \u001b[1;31m#comments_list.append(post1.get_recent_comments())\u001b[0m\u001b[1;33m\u001b[0m\u001b[1;33m\u001b[0m\u001b[1;33m\u001b[0m\u001b[0m\n",
      "\u001b[1;32mC:\\ProgramData\\Anaconda3\\lib\\site-packages\\instascrape\\scrapers\\post.py\u001b[0m in \u001b[0;36mscrape\u001b[1;34m(self, mapping, keys, exclude, headers, inplace, session, webdriver)\u001b[0m\n\u001b[0;32m     78\u001b[0m                             \u001b[0minplace\u001b[0m\u001b[1;33m=\u001b[0m\u001b[0minplace\u001b[0m\u001b[1;33m,\u001b[0m\u001b[1;33m\u001b[0m\u001b[1;33m\u001b[0m\u001b[0m\n\u001b[0;32m     79\u001b[0m                             \u001b[0msession\u001b[0m\u001b[1;33m=\u001b[0m\u001b[0msession\u001b[0m\u001b[1;33m,\u001b[0m\u001b[1;33m\u001b[0m\u001b[1;33m\u001b[0m\u001b[0m\n\u001b[1;32m---> 80\u001b[1;33m                             \u001b[0mwebdriver\u001b[0m\u001b[1;33m=\u001b[0m\u001b[0mwebdriver\u001b[0m\u001b[1;33m\u001b[0m\u001b[1;33m\u001b[0m\u001b[0m\n\u001b[0m\u001b[0;32m     81\u001b[0m                         )\n\u001b[0;32m     82\u001b[0m         \u001b[1;32mif\u001b[0m \u001b[0mreturn_instance\u001b[0m \u001b[1;32mis\u001b[0m \u001b[1;32mNone\u001b[0m\u001b[1;33m:\u001b[0m\u001b[1;33m\u001b[0m\u001b[1;33m\u001b[0m\u001b[0m\n",
      "\u001b[1;32mC:\\ProgramData\\Anaconda3\\lib\\site-packages\\instascrape\\core\\_static_scraper.py\u001b[0m in \u001b[0;36mscrape\u001b[1;34m(self, mapping, keys, exclude, headers, inplace, session, webdriver)\u001b[0m\n\u001b[0;32m    142\u001b[0m             \u001b[0mscraped_dict\u001b[0m \u001b[1;33m=\u001b[0m \u001b[0mself\u001b[0m\u001b[1;33m.\u001b[0m\u001b[0msource\u001b[0m\u001b[1;33m.\u001b[0m\u001b[0mto_dict\u001b[0m\u001b[1;33m(\u001b[0m\u001b[1;33m)\u001b[0m\u001b[1;33m\u001b[0m\u001b[1;33m\u001b[0m\u001b[0m\n\u001b[0;32m    143\u001b[0m         \u001b[1;32melse\u001b[0m\u001b[1;33m:\u001b[0m\u001b[1;33m\u001b[0m\u001b[1;33m\u001b[0m\u001b[0m\n\u001b[1;32m--> 144\u001b[1;33m             \u001b[0mreturn_data\u001b[0m \u001b[1;33m=\u001b[0m \u001b[0mself\u001b[0m\u001b[1;33m.\u001b[0m\u001b[0m_get_json_from_source\u001b[0m\u001b[1;33m(\u001b[0m\u001b[0mself\u001b[0m\u001b[1;33m.\u001b[0m\u001b[0msource\u001b[0m\u001b[1;33m,\u001b[0m \u001b[0mheaders\u001b[0m\u001b[1;33m=\u001b[0m\u001b[0mheaders\u001b[0m\u001b[1;33m,\u001b[0m \u001b[0msession\u001b[0m\u001b[1;33m=\u001b[0m\u001b[0msession\u001b[0m\u001b[1;33m)\u001b[0m\u001b[1;33m\u001b[0m\u001b[1;33m\u001b[0m\u001b[0m\n\u001b[0m\u001b[0;32m    145\u001b[0m             \u001b[0mflat_json_dict\u001b[0m \u001b[1;33m=\u001b[0m \u001b[0mflatten_dict\u001b[0m\u001b[1;33m(\u001b[0m\u001b[0mreturn_data\u001b[0m\u001b[1;33m[\u001b[0m\u001b[1;34m\"json_dict\"\u001b[0m\u001b[1;33m]\u001b[0m\u001b[1;33m)\u001b[0m\u001b[1;33m\u001b[0m\u001b[1;33m\u001b[0m\u001b[0m\n\u001b[0;32m    146\u001b[0m \u001b[1;33m\u001b[0m\u001b[0m\n",
      "\u001b[1;32mC:\\ProgramData\\Anaconda3\\lib\\site-packages\\instascrape\\core\\_static_scraper.py\u001b[0m in \u001b[0;36m_get_json_from_source\u001b[1;34m(self, source, headers, session)\u001b[0m\n\u001b[0;32m    263\u001b[0m             \u001b[1;32melse\u001b[0m\u001b[1;33m:\u001b[0m\u001b[1;33m\u001b[0m\u001b[1;33m\u001b[0m\u001b[0m\n\u001b[0;32m    264\u001b[0m                 \u001b[0mjson_dict\u001b[0m \u001b[1;33m=\u001b[0m \u001b[0mjson_dict_arr\u001b[0m\u001b[1;33m[\u001b[0m\u001b[1;36m1\u001b[0m\u001b[1;33m]\u001b[0m\u001b[1;33m\u001b[0m\u001b[1;33m\u001b[0m\u001b[0m\n\u001b[1;32m--> 265\u001b[1;33m             \u001b[0mself\u001b[0m\u001b[1;33m.\u001b[0m\u001b[0m_validate_scrape\u001b[0m\u001b[1;33m(\u001b[0m\u001b[0mjson_dict\u001b[0m\u001b[1;33m)\u001b[0m\u001b[1;33m\u001b[0m\u001b[1;33m\u001b[0m\u001b[0m\n\u001b[0m\u001b[0;32m    266\u001b[0m \u001b[1;33m\u001b[0m\u001b[0m\n\u001b[0;32m    267\u001b[0m         \u001b[0mreturn_data\u001b[0m\u001b[1;33m[\u001b[0m\u001b[1;34m\"json_dict\"\u001b[0m\u001b[1;33m]\u001b[0m \u001b[1;33m=\u001b[0m \u001b[0mjson_dict\u001b[0m\u001b[1;33m\u001b[0m\u001b[1;33m\u001b[0m\u001b[0m\n",
      "\u001b[1;32mC:\\ProgramData\\Anaconda3\\lib\\site-packages\\instascrape\\core\\_static_scraper.py\u001b[0m in \u001b[0;36m_validate_scrape\u001b[1;34m(self, json_dict)\u001b[0m\n\u001b[0;32m    299\u001b[0m         \u001b[0mjson_type\u001b[0m \u001b[1;33m=\u001b[0m \u001b[0mdetermine_json_type\u001b[0m\u001b[1;33m(\u001b[0m\u001b[0mjson_dict\u001b[0m\u001b[1;33m)\u001b[0m\u001b[1;33m\u001b[0m\u001b[1;33m\u001b[0m\u001b[0m\n\u001b[0;32m    300\u001b[0m         \u001b[1;32mif\u001b[0m \u001b[0mjson_type\u001b[0m \u001b[1;33m==\u001b[0m \u001b[1;34m\"LoginAndSignupPage\"\u001b[0m \u001b[1;32mand\u001b[0m \u001b[1;32mnot\u001b[0m \u001b[0mtype\u001b[0m\u001b[1;33m(\u001b[0m\u001b[0mself\u001b[0m\u001b[1;33m)\u001b[0m\u001b[1;33m.\u001b[0m\u001b[0m__name__\u001b[0m \u001b[1;33m==\u001b[0m \u001b[1;34m\"LoginAndSignupPage\"\u001b[0m\u001b[1;33m:\u001b[0m\u001b[1;33m\u001b[0m\u001b[1;33m\u001b[0m\u001b[0m\n\u001b[1;32m--> 301\u001b[1;33m             \u001b[1;32mraise\u001b[0m \u001b[0mInstagramLoginRedirectError\u001b[0m\u001b[1;33m\u001b[0m\u001b[1;33m\u001b[0m\u001b[0m\n\u001b[0m\u001b[0;32m    302\u001b[0m         \u001b[1;32melif\u001b[0m \u001b[0mjson_type\u001b[0m \u001b[1;33m==\u001b[0m \u001b[1;34m\"HttpErrorPage\"\u001b[0m \u001b[1;32mand\u001b[0m \u001b[1;32mnot\u001b[0m \u001b[0mtype\u001b[0m\u001b[1;33m(\u001b[0m\u001b[0mself\u001b[0m\u001b[1;33m)\u001b[0m\u001b[1;33m.\u001b[0m\u001b[0m__name__\u001b[0m \u001b[1;33m==\u001b[0m \u001b[1;34m\"HttpErrorPage\"\u001b[0m\u001b[1;33m:\u001b[0m\u001b[1;33m\u001b[0m\u001b[1;33m\u001b[0m\u001b[0m\n\u001b[0;32m    303\u001b[0m             \u001b[0msource_str\u001b[0m \u001b[1;33m=\u001b[0m \u001b[0mself\u001b[0m\u001b[1;33m.\u001b[0m\u001b[0murl\u001b[0m \u001b[1;32mif\u001b[0m \u001b[0mhasattr\u001b[0m\u001b[1;33m(\u001b[0m\u001b[0mself\u001b[0m\u001b[1;33m,\u001b[0m \u001b[1;34m\"url\"\u001b[0m\u001b[1;33m)\u001b[0m \u001b[1;32melse\u001b[0m \u001b[1;34m\"Source\"\u001b[0m\u001b[1;33m\u001b[0m\u001b[1;33m\u001b[0m\u001b[0m\n",
      "\u001b[1;31mInstagramLoginRedirectError\u001b[0m: Instagram is redirecting you to the login page instead of the page you are trying to scrape. This could be occuring because you made too many requests too quickly or are not logged into Instagram on your machine. Try passing a valid session ID to the scrape method as a cookie to bypass the login requirement"
     ]
    }
   ],
   "source": [
    "\n",
    "post1 = Post(\"https://www.instagram.com/p/CFzxaf3sV5o/\")\n",
    "post1.scrape()\n",
    "post1.get_recent_comments()\n",
    "    #post1.scrape()\n",
    "    #comments_list.append(post1.get_recent_comments())\n",
    "\n"
   ]
  },
  {
   "cell_type": "code",
   "execution_count": null,
   "metadata": {},
   "outputs": [],
   "source": [
    "str1='CE4ToA-MVz7,CE65nEED1Hb,CE-AlXysUpQ,CFAM41rMilq,CFHr59kjD3C,CFLREXXsNKK,CFNcmApMTFY,CFQgrydMOV1,CFSs1GOsbFQ,CFc_Q2vsk0C,CFgBMilsqRZ,CFkIMU3DG4z,CFvFG0IsMOr,CFx6cSKM9yq,CFzxaf3sV5o,CF7WB-bMyNg,CGDE-L2jN4x,CGH8ueInGKG,CGPv1h5FAKE,CGQn45xsS4M,CGS1uATMx2M,CGTS0QVMAsh,CGVP5ZtFgrS,CGYBhigF_wT,CGYR341Dy5G,CGaXs2klUuO,CGdBZ7FhCKR,CGisrkcDR9u,CGkWMchjqRa,CGrGwULLZKh,CGvJwlyAcjH,CG0u6Edlh9U,CG6H8ung7Oe,CG75o3aloGI,CG8YSf4JUeJ,CG-WMaUl2LF,CHDhgxhAkeh,CHF7Yq6lV9h,CHLFAGugTPX,CHQOlRoFMPk,CHbEFTYlrfi,CHbbmNyAZQq,CHdD9QtlyQq,CHdUJZIlmMx,CHiQOufMUFB,CHi5YxpnR7K,CHjFNjGACYC,CHk07AMLHfD,CHoQoY8Foju,CHp-g0vAZ7m,CHsjVbvDyjz,CHs-Fzjlqwo,CHvaCroFSWT,CHv_CYTDDpg,CHx3SIXhs2T,CH0RtHNjcZ9,CH0tKj8Fe8H,CH22g9zMmdV,CH3R-DhpYSO,CH-k4wRDlvo,CH-1jXLFQ3O,CIBJq11DkRf,CIB90kUsUow,CICPHGJhkPN,CIDuv_7D7ac,CIGTUNdsmN0,CII4DzfjYjo,CILV-YMD6XF,CIQmjt9Da1q,CIQsvPrAii1,CIRPp56F8S-,CIVpMccsSBz,CIV4LEwlbvC,CIWRs-Dl6EU,CIYU3SBjWfM,CIZSmUEl3DA,CIayvwnDjR6,CIbizPrno8h,CIdz6qjBaYO,CIgW7jWgEhk,CIioAuCjfF_,CIjYEPllAjK,CIjtVBsFPkT,CIlMzZIlzLi,CIl82NYFIKp,CInxnJLDqPQ,CIqWkerFSGg,CIybqTQA4bT,CI1SwaClVjv,CI3pVBLgM1E,CI5zNY3hXVn,CI8YAl0hHrl,CI_DnOZsEV-,CJGrlsggvCv,CJJP-pAHFWv,CJLuG72AKMi,CJOaI-VMoUj,CJRZxL0rTWP,CJWH8Nch_FU,CJYsuTnLHb_,CJbRhdhHkNv,CJd25naDIat,CJe68U9gH42,CJgbh8ElMcN,CJi_4UEs70W,CJoJ7VNATc2,CJquQpjjSWb,CJqypi4gmQs,CJwYJeIAWPH,CJycrFlnV5P,CJzF2Q4JVJO,CJ6dXbxAeL3,CJ9z3Img5P4,CJ_UPiogTC1,CKB5bU6D4bb,CKEeN59Afi3,CKHDEQ3DOuC,CKMMneVr_Ud,CKT6_K7An3d,CKZEj30rmVj,CKeONAsrts-,CKjXw3YsruP,CKkC-34AGsk,CKl8khJjS9h,CKme3S9FHV1,CKpSUcXhk4B,CKrhzQpJVCm,CKtq7GGg1KI,CKwPvQxjQkS,CKy0ma1DHOs,CK4Btt6AuGw,CK4nW3SpyYF,CK41Be_LNtc,CK5JnevFxD1,CK6jMx3gpH0,CK7MH6ypNbT,CK9Hr7GgKLV,CK_zZmMg4j9,CLEx9XjgNEI,CLEyGhagqMs,CLH9X99lgTK,CLP5U1hFOZS,CLRtPHkAJi5,CLSysUEDCPV,CLVXijWByKq,CLcBQK1D-Ap,CLcBqklDt09,CLchD4dAgqS,CLhK1h7nwU4,CLjvp4BAJYS,CLowCGuA_CG,CLuDDS5MxRH,CLxDEKiFZCT,CL4WFPzFvAU,CL4_MBWlj0H,CL664sWDz4a,CL9gTVIrUTK,CMKX2uEhcIf,CMSGBkBrV7E,CMhSdKlh5OL,CMuM77tAqOQ,CMw4O1lA9nr,CMzqcEkAIn9,CM17hYyg-v_,CM4mnBiLJpn,CNAzKWahcdL,CNC5537LGBz,CNF6bOXAOvt,CNcrmnFA_NC,CNdBSE3hWk-,CNdsMaVhaBk,CNiISQIl6Ff,CNkYiBDBB2H,CNlPbavlORg,CNpiG5NDN98,CN7ju-Ynumt,COO2r3LB9FR,COQLkD6gylZ,COQMZtggcrw,COn7WDPFGnk,COse9RBDUy2,CO3Jl3BADf-,'\n",
    "\n",
    "\n",
    "list3=str1\n",
    "list3=list3.replace(',',' ')\n",
    "list4=list(list3.split(\" \"))\n",
    "list4=list4[:-1]\n",
    "list4\n"
   ]
  },
  {
   "cell_type": "code",
   "execution_count": null,
   "metadata": {},
   "outputs": [],
   "source": [
    "comments_list =[]\n",
    "\n",
    "for i in list4:\n",
    "    post1 = Post(\"https://www.instagram.com/p/\"+i+\"/\")\n",
    "    post1.scrape()\n",
    "    post1.get_recent_comments()\n",
    "    #post1.scrape()\n",
    "    #comments_list.append(post1.get_recent_comments())"
   ]
  },
  {
   "cell_type": "code",
   "execution_count": null,
   "metadata": {},
   "outputs": [],
   "source": [
    "webdriver = Chrome(r\"C:\\Users\\raina\\Downloads\\chromedriver_win32 (1)\\chromedriver.exe\")"
   ]
  },
  {
   "cell_type": "code",
   "execution_count": null,
   "metadata": {},
   "outputs": [],
   "source": [
    "session_id='1515815403%3AjxrnKTcE5n8Ctv%3A1'\n",
    "\n",
    "\n",
    "headers = {\"user-agent\": \"Mozilla/5.0 (Linux; Android 6.0; Nexus 5 Build/MRA58N) AppleWebKit/537.36 (KHTML, like Gecko) Chrome/87.0.4280.88 Mobile Safari/537.36 Edg/87.0.664.57\",\n",
    "           \"cookie\": f\"sessionid={session_id};\"}\n",
    "\n",
    "tag = Profile('preventcovid19')\n",
    "tag.scrape(headers=headers)"
   ]
  },
  {
   "cell_type": "code",
   "execution_count": null,
   "metadata": {},
   "outputs": [],
   "source": [
    "posts = tag.get_posts(webdriver=webdriver, login_first=True)"
   ]
  },
  {
   "cell_type": "code",
   "execution_count": null,
   "metadata": {},
   "outputs": [],
   "source": [
    "\n",
    "import json\n",
    "from typing import Any, Dict, Union, Callable, List\n",
    "from collections import deque\n",
    "import datetime\n",
    "from functools import partial\n",
    "import copy\n",
    "import time\n",
    "\n",
    "import requests\n",
    "from bs4 import BeautifulSoup\n",
    "\n",
    "from instascrape.core.json_algos import _JSONTree, _parse_json_str\n",
    "\n",
    "\n",
    "\n",
    "\n",
    "\n",
    "def scrape_posts1(\n",
    "        posts: List[\"Post\"],\n",
    "        session: requests.Session = None,\n",
    "        webdriver: \"selenium.webdriver.chrome.webdriver.WebDriver\" = None,\n",
    "        limit: Union[int, datetime.datetime] = None,\n",
    "        headers: dict = {\n",
    "            \"user-agent\": \"Mozilla/5.0 (Linux; Android 6.0; Nexus 5 Build/MRA58N) AppleWebKit/537.36 (KHTML, like Gecko) Chrome/87.0.4280.88 Mobile Safari/537.36 Edg/87.0.664.57\"\n",
    "        },\n",
    "        pause: int = 5,\n",
    "        on_exception: str = \"raise\",\n",
    "        silent: bool = True,\n",
    "        inplace: bool = False\n",
    "    ):\n",
    "\n",
    "    # Default setup\n",
    "    output_str =''\n",
    "    if not inplace:\n",
    "        posts = copy.deepcopy(posts)\n",
    "    if limit is None:\n",
    "        limit = len(posts)\n",
    "\n",
    "    scraped_posts = []\n",
    "    for i, post in enumerate(posts):\n",
    "        temporary_post = copy.deepcopy(post)\n",
    "        try:\n",
    "            post.scrape(session=session, webdriver=webdriver, headers=headers)\n",
    "            scraped_posts.append(post)\n",
    "        except Exception as e:\n",
    "            if on_exception == \"raise\":\n",
    "                raise\n",
    "            elif on_exception == \"pass\":\n",
    "                if not silent:\n",
    "                    print(f\"PASSING EXCEPTION: {e}\")\n",
    "                pass\n",
    "            elif on_exception == \"return\":\n",
    "                if not silent:\n",
    "                    print(f\"{e}, RETURNING SCRAPED AND UNSCRAPED\")\n",
    "                break\n",
    "        if not silent:\n",
    "            #output_str = f\"{i}: {post.shortcode} - {post.upload_date}\"\n",
    "            output_str = f\"{post.shortcode}\"+\",\"+output_str\n",
    "            print(output_str)\n",
    "        if _stop_scraping(limit, post, i):\n",
    "            break\n",
    "        time.sleep(pause)\n",
    "\n",
    "    unscraped_posts = list(set(posts) - set(scraped_posts))\n",
    "    if not isinstance(limit, int):\n",
    "        scraped_posts.pop()\n",
    "        unscraped_posts.insert(0, temporary_post)\n",
    "\n",
    "    return output_str if not inplace else None\n",
    "\n",
    "def _stop_scraping(limit, post, i):\n",
    "    stop = False\n",
    "    if isinstance(limit, int):\n",
    "        if i == limit - 1:\n",
    "            stop = True\n",
    "    elif (isinstance(limit, datetime.datetime) or isinstance(limit, datetime.date)):\n",
    "        if post.upload_date <= limit:\n",
    "            stop = True\n",
    "    return stop\n"
   ]
  },
  {
   "cell_type": "code",
   "execution_count": null,
   "metadata": {
    "scrolled": true
   },
   "outputs": [],
   "source": [
    "list2=scrape_posts1(posts, headers=headers, pause=1, silent=False)\n",
    "list2"
   ]
  },
  {
   "cell_type": "code",
   "execution_count": null,
   "metadata": {},
   "outputs": [],
   "source": [
    "list2"
   ]
  },
  {
   "cell_type": "code",
   "execution_count": null,
   "metadata": {},
   "outputs": [],
   "source": [
    "list2\n",
    "list3=list2\n",
    "list3=list3.replace(',',' ')"
   ]
  },
  {
   "cell_type": "code",
   "execution_count": null,
   "metadata": {},
   "outputs": [],
   "source": [
    "list4=list(list3.split(\" \"))\n",
    "list4=list4[:-1]"
   ]
  },
  {
   "cell_type": "code",
   "execution_count": null,
   "metadata": {
    "scrolled": true
   },
   "outputs": [],
   "source": [
    "comments_list =[]\n",
    "\n",
    "for i in list4:\n",
    "    post1 = Post(\"https://www.instagram.com/p/\"+i+\"/\")\n",
    "    post1.scrape(headers=headers)\n",
    "    post1.get_recent_comments()\n",
    "    #post1.scrape()\n",
    "    #comments_list.append(post1.get_recent_comments())"
   ]
  },
  {
   "cell_type": "code",
   "execution_count": null,
   "metadata": {},
   "outputs": [],
   "source": []
  }
 ],
 "metadata": {
  "kernelspec": {
   "display_name": "Python 3",
   "language": "python",
   "name": "python3"
  },
  "language_info": {
   "codemirror_mode": {
    "name": "ipython",
    "version": 3
   },
   "file_extension": ".py",
   "mimetype": "text/x-python",
   "name": "python",
   "nbconvert_exporter": "python",
   "pygments_lexer": "ipython3",
   "version": "3.7.4"
  }
 },
 "nbformat": 4,
 "nbformat_minor": 4
}
