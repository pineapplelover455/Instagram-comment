{
 "cells": [
  {
   "cell_type": "code",
   "execution_count": 1,
   "metadata": {},
   "outputs": [],
   "source": [
    "from time import sleep\n",
    "from selenium import webdriver\n",
    "import instascrape\n",
    "import pandas as pd\n",
    "from selenium.webdriver import Chrome \n",
    "from instascrape import Profile, scrape_posts\n",
    "from instascrape import *"
   ]
  },
  {
   "cell_type": "code",
   "execution_count": 2,
   "metadata": {},
   "outputs": [],
   "source": [
    "webdriver = Chrome(r\"C:\\Users\\raina\\Downloads\\chromedriver_win32 (1)\\chromedriver.exe\")"
   ]
  },
  {
   "cell_type": "code",
   "execution_count": 3,
   "metadata": {},
   "outputs": [],
   "source": [
    "headers = {\n",
    "    \"user-agent\": \"Mozilla/5.0 (Linux; Android 6.0; Nexus 5 Build/MRA58N) AppleWebKit/537.36 (KHTML, like Gecko) Chrome/87.0.4280.88 Mobile Safari/537.36 Edg/87.0.664.57\",\n",
    "    \"cookie\": \"sessionid=7246354813%3AQvU8N3teJxDgX8%3A7;\"\n",
    "}\n",
    "tag = Profile('preventcovid19')\n",
    "tag.scrape(headers=headers)"
   ]
  },
  {
   "cell_type": "code",
   "execution_count": 4,
   "metadata": {},
   "outputs": [],
   "source": [
    "posts = tag.get_posts(webdriver=webdriver, login_first=True)"
   ]
  },
  {
   "cell_type": "code",
   "execution_count": 5,
   "metadata": {},
   "outputs": [],
   "source": [
    "from __future__ import annotations\n",
    "\n",
    "import json\n",
    "from typing import Any, Dict, Union, Callable, List\n",
    "from collections import deque\n",
    "import datetime\n",
    "from functools import partial\n",
    "import copy\n",
    "import time\n",
    "\n",
    "import requests\n",
    "from bs4 import BeautifulSoup\n",
    "\n",
    "from instascrape.core.json_algos import _JSONTree, _parse_json_str\n",
    "\n",
    "\n",
    "\n"
   ]
  },
  {
   "cell_type": "code",
   "execution_count": 6,
   "metadata": {},
   "outputs": [],
   "source": [
    "output_str=''\n",
    "\n",
    "\n",
    "def scrape_posts(\n",
    "        posts: List[\"Post\"],\n",
    "        session: requests.Session = None,\n",
    "        webdriver: \"selenium.webdriver.chrome.webdriver.WebDriver\" = None,\n",
    "        limit: Union[int, datetime.datetime] = None,\n",
    "        headers: dict = {\n",
    "            \"user-agent\": \"Mozilla/5.0 (Linux; Android 6.0; Nexus 5 Build/MRA58N) AppleWebKit/537.36 (KHTML, like Gecko) Chrome/87.0.4280.88 Mobile Safari/537.36 Edg/87.0.664.57\"\n",
    "        },\n",
    "        pause: int = 5,\n",
    "        on_exception: str = \"raise\",\n",
    "        silent: bool = True,\n",
    "        inplace: bool = False\n",
    "    ):\n",
    "\n",
    "    # Default setup\n",
    "    if not inplace:\n",
    "        posts = copy.deepcopy(posts)\n",
    "    if limit is None:\n",
    "        limit = len(posts)\n",
    "\n",
    "    scraped_posts = []\n",
    "    for i, post in enumerate(posts):\n",
    "        temporary_post = copy.deepcopy(post)\n",
    "        try:\n",
    "            post.scrape(session=session, webdriver=webdriver, headers=headers)\n",
    "            scraped_posts.append(post)\n",
    "        except Exception as e:\n",
    "            if on_exception == \"raise\":\n",
    "                raise\n",
    "            elif on_exception == \"pass\":\n",
    "                if not silent:\n",
    "                    print(f\"PASSING EXCEPTION: {e}\")\n",
    "                pass\n",
    "            elif on_exception == \"return\":\n",
    "                if not silent:\n",
    "                    print(f\"{e}, RETURNING SCRAPED AND UNSCRAPED\")\n",
    "                break\n",
    "        if not silent:\n",
    "            #output_str = f\"{i}: {post.shortcode} - {post.upload_date}\"\n",
    "            output_str = f\"\"+output+\",\"+\"{post.shortcode}\"\n",
    "            print(output_str)\n",
    "        if _stop_scraping(limit, post, i):\n",
    "            break\n",
    "        time.sleep(pause)\n",
    "\n",
    "    unscraped_posts = list(set(posts) - set(scraped_posts))\n",
    "    if not isinstance(limit, int):\n",
    "        scraped_posts.pop()\n",
    "        unscraped_posts.insert(0, temporary_post)\n",
    "\n",
    "    return output_str if not inplace else None\n",
    "\n",
    "def _stop_scraping(limit, post, i):\n",
    "    stop = False\n",
    "    if isinstance(limit, int):\n",
    "        if i == limit - 1:\n",
    "            stop = True\n",
    "    elif (isinstance(limit, datetime.datetime) or isinstance(limit, datetime.date)):\n",
    "        if post.upload_date <= limit:\n",
    "            stop = True\n",
    "    return stop\n"
   ]
  },
  {
   "cell_type": "code",
   "execution_count": 7,
   "metadata": {},
   "outputs": [
    {
     "ename": "IndexError",
     "evalue": "list index out of range",
     "output_type": "error",
     "traceback": [
      "\u001b[1;31m---------------------------------------------------------------------------\u001b[0m",
      "\u001b[1;31mIndexError\u001b[0m                                Traceback (most recent call last)",
      "\u001b[1;32m<ipython-input-7-08cd06e4a495>\u001b[0m in \u001b[0;36m<module>\u001b[1;34m\u001b[0m\n\u001b[1;32m----> 1\u001b[1;33m \u001b[0mscrape_posts\u001b[0m\u001b[1;33m(\u001b[0m\u001b[0mposts\u001b[0m\u001b[1;33m,\u001b[0m \u001b[0mheaders\u001b[0m\u001b[1;33m=\u001b[0m\u001b[0mheaders\u001b[0m\u001b[1;33m,\u001b[0m \u001b[0mpause\u001b[0m\u001b[1;33m=\u001b[0m\u001b[1;36m10\u001b[0m\u001b[1;33m,\u001b[0m \u001b[0msilent\u001b[0m\u001b[1;33m=\u001b[0m\u001b[1;32mFalse\u001b[0m\u001b[1;33m)\u001b[0m\u001b[1;33m\u001b[0m\u001b[1;33m\u001b[0m\u001b[0m\n\u001b[0m",
      "\u001b[1;32m<ipython-input-6-08ff9e8ebbaf>\u001b[0m in \u001b[0;36mscrape_posts\u001b[1;34m(posts, session, webdriver, limit, headers, pause, on_exception, silent, inplace)\u001b[0m\n\u001b[0;32m     26\u001b[0m         \u001b[0mtemporary_post\u001b[0m \u001b[1;33m=\u001b[0m \u001b[0mcopy\u001b[0m\u001b[1;33m.\u001b[0m\u001b[0mdeepcopy\u001b[0m\u001b[1;33m(\u001b[0m\u001b[0mpost\u001b[0m\u001b[1;33m)\u001b[0m\u001b[1;33m\u001b[0m\u001b[1;33m\u001b[0m\u001b[0m\n\u001b[0;32m     27\u001b[0m         \u001b[1;32mtry\u001b[0m\u001b[1;33m:\u001b[0m\u001b[1;33m\u001b[0m\u001b[1;33m\u001b[0m\u001b[0m\n\u001b[1;32m---> 28\u001b[1;33m             \u001b[0mpost\u001b[0m\u001b[1;33m.\u001b[0m\u001b[0mscrape\u001b[0m\u001b[1;33m(\u001b[0m\u001b[0msession\u001b[0m\u001b[1;33m=\u001b[0m\u001b[0msession\u001b[0m\u001b[1;33m,\u001b[0m \u001b[0mwebdriver\u001b[0m\u001b[1;33m=\u001b[0m\u001b[0mwebdriver\u001b[0m\u001b[1;33m,\u001b[0m \u001b[0mheaders\u001b[0m\u001b[1;33m=\u001b[0m\u001b[0mheaders\u001b[0m\u001b[1;33m)\u001b[0m\u001b[1;33m\u001b[0m\u001b[1;33m\u001b[0m\u001b[0m\n\u001b[0m\u001b[0;32m     29\u001b[0m             \u001b[0mscraped_posts\u001b[0m\u001b[1;33m.\u001b[0m\u001b[0mappend\u001b[0m\u001b[1;33m(\u001b[0m\u001b[0mpost\u001b[0m\u001b[1;33m)\u001b[0m\u001b[1;33m\u001b[0m\u001b[1;33m\u001b[0m\u001b[0m\n\u001b[0;32m     30\u001b[0m         \u001b[1;32mexcept\u001b[0m \u001b[0mException\u001b[0m \u001b[1;32mas\u001b[0m \u001b[0me\u001b[0m\u001b[1;33m:\u001b[0m\u001b[1;33m\u001b[0m\u001b[1;33m\u001b[0m\u001b[0m\n",
      "\u001b[1;32mC:\\ProgramData\\Anaconda3\\lib\\site-packages\\instascrape\\scrapers\\post.py\u001b[0m in \u001b[0;36mscrape\u001b[1;34m(self, mapping, keys, exclude, headers, inplace, session, webdriver)\u001b[0m\n\u001b[0;32m     78\u001b[0m                             \u001b[0minplace\u001b[0m\u001b[1;33m=\u001b[0m\u001b[0minplace\u001b[0m\u001b[1;33m,\u001b[0m\u001b[1;33m\u001b[0m\u001b[1;33m\u001b[0m\u001b[0m\n\u001b[0;32m     79\u001b[0m                             \u001b[0msession\u001b[0m\u001b[1;33m=\u001b[0m\u001b[0msession\u001b[0m\u001b[1;33m,\u001b[0m\u001b[1;33m\u001b[0m\u001b[1;33m\u001b[0m\u001b[0m\n\u001b[1;32m---> 80\u001b[1;33m                             \u001b[0mwebdriver\u001b[0m\u001b[1;33m=\u001b[0m\u001b[0mwebdriver\u001b[0m\u001b[1;33m\u001b[0m\u001b[1;33m\u001b[0m\u001b[0m\n\u001b[0m\u001b[0;32m     81\u001b[0m                         )\n\u001b[0;32m     82\u001b[0m         \u001b[1;32mif\u001b[0m \u001b[0mreturn_instance\u001b[0m \u001b[1;32mis\u001b[0m \u001b[1;32mNone\u001b[0m\u001b[1;33m:\u001b[0m\u001b[1;33m\u001b[0m\u001b[1;33m\u001b[0m\u001b[0m\n",
      "\u001b[1;32mC:\\ProgramData\\Anaconda3\\lib\\site-packages\\instascrape\\core\\_static_scraper.py\u001b[0m in \u001b[0;36mscrape\u001b[1;34m(self, mapping, keys, exclude, headers, inplace, session, webdriver)\u001b[0m\n\u001b[0;32m    142\u001b[0m             \u001b[0mscraped_dict\u001b[0m \u001b[1;33m=\u001b[0m \u001b[0mself\u001b[0m\u001b[1;33m.\u001b[0m\u001b[0msource\u001b[0m\u001b[1;33m.\u001b[0m\u001b[0mto_dict\u001b[0m\u001b[1;33m(\u001b[0m\u001b[1;33m)\u001b[0m\u001b[1;33m\u001b[0m\u001b[1;33m\u001b[0m\u001b[0m\n\u001b[0;32m    143\u001b[0m         \u001b[1;32melse\u001b[0m\u001b[1;33m:\u001b[0m\u001b[1;33m\u001b[0m\u001b[1;33m\u001b[0m\u001b[0m\n\u001b[1;32m--> 144\u001b[1;33m             \u001b[0mreturn_data\u001b[0m \u001b[1;33m=\u001b[0m \u001b[0mself\u001b[0m\u001b[1;33m.\u001b[0m\u001b[0m_get_json_from_source\u001b[0m\u001b[1;33m(\u001b[0m\u001b[0mself\u001b[0m\u001b[1;33m.\u001b[0m\u001b[0msource\u001b[0m\u001b[1;33m,\u001b[0m \u001b[0mheaders\u001b[0m\u001b[1;33m=\u001b[0m\u001b[0mheaders\u001b[0m\u001b[1;33m,\u001b[0m \u001b[0msession\u001b[0m\u001b[1;33m=\u001b[0m\u001b[0msession\u001b[0m\u001b[1;33m)\u001b[0m\u001b[1;33m\u001b[0m\u001b[1;33m\u001b[0m\u001b[0m\n\u001b[0m\u001b[0;32m    145\u001b[0m             \u001b[0mflat_json_dict\u001b[0m \u001b[1;33m=\u001b[0m \u001b[0mflatten_dict\u001b[0m\u001b[1;33m(\u001b[0m\u001b[0mreturn_data\u001b[0m\u001b[1;33m[\u001b[0m\u001b[1;34m\"json_dict\"\u001b[0m\u001b[1;33m]\u001b[0m\u001b[1;33m)\u001b[0m\u001b[1;33m\u001b[0m\u001b[1;33m\u001b[0m\u001b[0m\n\u001b[0;32m    146\u001b[0m \u001b[1;33m\u001b[0m\u001b[0m\n",
      "\u001b[1;32mC:\\ProgramData\\Anaconda3\\lib\\site-packages\\instascrape\\core\\_static_scraper.py\u001b[0m in \u001b[0;36m_get_json_from_source\u001b[1;34m(self, source, headers, session)\u001b[0m\n\u001b[0;32m    262\u001b[0m                 \u001b[0mjson_dict\u001b[0m \u001b[1;33m=\u001b[0m \u001b[0mjson_dict_arr\u001b[0m\u001b[1;33m[\u001b[0m\u001b[1;36m0\u001b[0m\u001b[1;33m]\u001b[0m\u001b[1;33m\u001b[0m\u001b[1;33m\u001b[0m\u001b[0m\n\u001b[0;32m    263\u001b[0m             \u001b[1;32melse\u001b[0m\u001b[1;33m:\u001b[0m\u001b[1;33m\u001b[0m\u001b[1;33m\u001b[0m\u001b[0m\n\u001b[1;32m--> 264\u001b[1;33m                 \u001b[0mjson_dict\u001b[0m \u001b[1;33m=\u001b[0m \u001b[0mjson_dict_arr\u001b[0m\u001b[1;33m[\u001b[0m\u001b[1;36m1\u001b[0m\u001b[1;33m]\u001b[0m\u001b[1;33m\u001b[0m\u001b[1;33m\u001b[0m\u001b[0m\n\u001b[0m\u001b[0;32m    265\u001b[0m             \u001b[0mself\u001b[0m\u001b[1;33m.\u001b[0m\u001b[0m_validate_scrape\u001b[0m\u001b[1;33m(\u001b[0m\u001b[0mjson_dict\u001b[0m\u001b[1;33m)\u001b[0m\u001b[1;33m\u001b[0m\u001b[1;33m\u001b[0m\u001b[0m\n\u001b[0;32m    266\u001b[0m \u001b[1;33m\u001b[0m\u001b[0m\n",
      "\u001b[1;31mIndexError\u001b[0m: list index out of range"
     ]
    }
   ],
   "source": [
    "scrape_posts(posts, headers=headers, pause=10, silent=False)"
   ]
  },
  {
   "cell_type": "code",
   "execution_count": null,
   "metadata": {},
   "outputs": [],
   "source": []
  }
 ],
 "metadata": {
  "kernelspec": {
   "display_name": "Python 3",
   "language": "python",
   "name": "python3"
  },
  "language_info": {
   "codemirror_mode": {
    "name": "ipython",
    "version": 3
   },
   "file_extension": ".py",
   "mimetype": "text/x-python",
   "name": "python",
   "nbconvert_exporter": "python",
   "pygments_lexer": "ipython3",
   "version": "3.7.4"
  }
 },
 "nbformat": 4,
 "nbformat_minor": 4
}
