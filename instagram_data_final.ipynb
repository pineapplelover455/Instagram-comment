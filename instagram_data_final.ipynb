{
 "cells": [
  {
   "cell_type": "code",
   "execution_count": 45,
   "metadata": {},
   "outputs": [],
   "source": [
    "from instascrape import Post\n",
    "from selenium.webdriver import Chrome \n",
    "from instascrape import Profile, scrape_posts\n",
    "from time import sleep\n",
    "from selenium import webdriver\n",
    "import instascrape\n",
    "import pandas as pd\n",
    "from instascrape import *\n",
    "from instascrape import Hashtag\n"
   ]
  },
  {
   "cell_type": "code",
   "execution_count": 46,
   "metadata": {},
   "outputs": [],
   "source": [
    "webdriver = Chrome(r\"C:\\Users\\raina\\Downloads\\chromedriver_win32 (1)\\chromedriver.exe\")"
   ]
  },
  {
   "cell_type": "code",
   "execution_count": 47,
   "metadata": {},
   "outputs": [],
   "source": [
    "#tag = Profile('preventcovid19')\n",
    "#tag.scrape()\n",
    "\n",
    "\n",
    "\n",
    "\n",
    "\n",
    " \n",
    "tag = Hashtag('primemonster')\n",
    "tag.scrape(webdriver=webdriver)"
   ]
  },
  {
   "cell_type": "code",
   "execution_count": 48,
   "metadata": {},
   "outputs": [],
   "source": [
    "posts = tag.get_recent_posts()"
   ]
  },
  {
   "cell_type": "code",
   "execution_count": 49,
   "metadata": {},
   "outputs": [],
   "source": [
    "import json\n",
    "from typing import Any, Dict, Union, Callable, List\n",
    "from collections import deque\n",
    "import datetime\n",
    "from functools import partial\n",
    "import copy\n",
    "import time\n",
    "\n",
    "import requests\n",
    "from bs4 import BeautifulSoup\n",
    "\n",
    "from instascrape.core.json_algos import _JSONTree, _parse_json_str\n",
    "\n",
    "\n",
    "\n",
    "\n",
    "\n",
    "def scrape_posts1(\n",
    "        posts: List[\"Post\"],\n",
    "        session: requests.Session = None,\n",
    "        webdriver: \"selenium.webdriver.chrome.webdriver.WebDriver\" = None,\n",
    "        limit: Union[int, datetime.datetime] = None,\n",
    "        headers: dict = {\n",
    "            \"user-agent\": \"Mozilla/5.0 (Linux; Android 6.0; Nexus 5 Build/MRA58N) AppleWebKit/537.36 (KHTML, like Gecko) Chrome/87.0.4280.88 Mobile Safari/537.36 Edg/87.0.664.57\"\n",
    "        },\n",
    "        pause: int = 5,\n",
    "        on_exception: str = \"raise\",\n",
    "        silent: bool = True,\n",
    "        inplace: bool = False\n",
    "    ):\n",
    "\n",
    "    # Default setup\n",
    "    output_str =''\n",
    "    if not inplace:\n",
    "        posts = copy.deepcopy(posts)\n",
    "    if limit is None:\n",
    "        limit = len(posts)\n",
    "\n",
    "    scraped_posts = []\n",
    "    for i, post in enumerate(posts):\n",
    "        temporary_post = copy.deepcopy(post)\n",
    "        try:\n",
    "            post.scrape(session=session, webdriver=webdriver, headers=headers)\n",
    "        except Exception as e:\n",
    "            if on_exception == \"raise\":\n",
    "                raise\n",
    "            elif on_exception == \"pass\":\n",
    "                if not silent:\n",
    "                    print(f\"PASSING EXCEPTION: {e}\")\n",
    "                pass\n",
    "            elif on_exception == \"return\":\n",
    "                if not silent:\n",
    "                    print(f\"{e}, RETURNING SCRAPED AND UNSCRAPED\")\n",
    "                break\n",
    "        if not silent:\n",
    "            #output_str = f\"{i}: {post.shortcode} - {post.upload_date}\"\n",
    "            output_str = f\"{post.shortcode}\"+\",\"+output_str\n",
    "            print(output_str)\n",
    "        if _stop_scraping(limit, post, i):\n",
    "            break\n",
    "        time.sleep(pause)\n",
    "\n",
    "    unscraped_posts = list(set(posts) - set(scraped_posts))\n",
    "    if not isinstance(limit, int):\n",
    "        scraped_posts.pop()\n",
    "        unscraped_posts.insert(0, temporary_post)\n",
    "\n",
    "    return output_str if not inplace else None\n",
    "\n",
    "\n",
    "def _stop_scraping(limit, post, i):\n",
    "    stop = False\n",
    "    if isinstance(limit, int):\n",
    "        if i == limit - 1:\n",
    "            stop = True\n",
    "    elif (isinstance(limit, datetime.datetime) or isinstance(limit, datetime.date)):\n",
    "        if post.upload_date <= limit:\n",
    "            stop = True\n",
    "    return stop"
   ]
  },
  {
   "cell_type": "code",
   "execution_count": 50,
   "metadata": {},
   "outputs": [],
   "source": [
    "j=0\n",
    "for i in posts:\n",
    "    j=j+1"
   ]
  },
  {
   "cell_type": "code",
   "execution_count": 51,
   "metadata": {},
   "outputs": [
    {
     "data": {
      "text/plain": [
       "71"
      ]
     },
     "execution_count": 51,
     "metadata": {},
     "output_type": "execute_result"
    }
   ],
   "source": [
    "j"
   ]
  },
  {
   "cell_type": "code",
   "execution_count": 54,
   "metadata": {},
   "outputs": [
    {
     "name": "stdout",
     "output_type": "stream",
     "text": [
      "CPVFyq_hUzq,\n",
      "CPVFwrfD_S_,CPVFyq_hUzq,\n",
      "CPVFDMAjcN0,CPVFwrfD_S_,CPVFyq_hUzq,\n",
      "CPSqubHHRjX,CPVFDMAjcN0,CPVFwrfD_S_,CPVFyq_hUzq,\n",
      "CPQrLrfnXw0,CPSqubHHRjX,CPVFDMAjcN0,CPVFwrfD_S_,CPVFyq_hUzq,\n",
      "CPQg9R0nPTk,CPQrLrfnXw0,CPSqubHHRjX,CPVFDMAjcN0,CPVFwrfD_S_,CPVFyq_hUzq,\n",
      "CPPgJ1NDlhJ,CPQg9R0nPTk,CPQrLrfnXw0,CPSqubHHRjX,CPVFDMAjcN0,CPVFwrfD_S_,CPVFyq_hUzq,\n",
      "CPPewThDu8M,CPPgJ1NDlhJ,CPQg9R0nPTk,CPQrLrfnXw0,CPSqubHHRjX,CPVFDMAjcN0,CPVFwrfD_S_,CPVFyq_hUzq,\n",
      "CPNBMj5HdWa,CPPewThDu8M,CPPgJ1NDlhJ,CPQg9R0nPTk,CPQrLrfnXw0,CPSqubHHRjX,CPVFDMAjcN0,CPVFwrfD_S_,CPVFyq_hUzq,\n",
      "CPM3C4YjbOI,CPNBMj5HdWa,CPPewThDu8M,CPPgJ1NDlhJ,CPQg9R0nPTk,CPQrLrfnXw0,CPSqubHHRjX,CPVFDMAjcN0,CPVFwrfD_S_,CPVFyq_hUzq,\n",
      "CPM2iA8j_Ej,CPM3C4YjbOI,CPNBMj5HdWa,CPPewThDu8M,CPPgJ1NDlhJ,CPQg9R0nPTk,CPQrLrfnXw0,CPSqubHHRjX,CPVFDMAjcN0,CPVFwrfD_S_,CPVFyq_hUzq,\n",
      "CPLLKQsnhmQ,CPM2iA8j_Ej,CPM3C4YjbOI,CPNBMj5HdWa,CPPewThDu8M,CPPgJ1NDlhJ,CPQg9R0nPTk,CPQrLrfnXw0,CPSqubHHRjX,CPVFDMAjcN0,CPVFwrfD_S_,CPVFyq_hUzq,\n",
      "CPLK-LXn-_Y,CPLLKQsnhmQ,CPM2iA8j_Ej,CPM3C4YjbOI,CPNBMj5HdWa,CPPewThDu8M,CPPgJ1NDlhJ,CPQg9R0nPTk,CPQrLrfnXw0,CPSqubHHRjX,CPVFDMAjcN0,CPVFwrfD_S_,CPVFyq_hUzq,\n",
      "CPKSIpwjanc,CPLK-LXn-_Y,CPLLKQsnhmQ,CPM2iA8j_Ej,CPM3C4YjbOI,CPNBMj5HdWa,CPPewThDu8M,CPPgJ1NDlhJ,CPQg9R0nPTk,CPQrLrfnXw0,CPSqubHHRjX,CPVFDMAjcN0,CPVFwrfD_S_,CPVFyq_hUzq,\n",
      "CPH5Ox_j9K8,CPKSIpwjanc,CPLK-LXn-_Y,CPLLKQsnhmQ,CPM2iA8j_Ej,CPM3C4YjbOI,CPNBMj5HdWa,CPPewThDu8M,CPPgJ1NDlhJ,CPQg9R0nPTk,CPQrLrfnXw0,CPSqubHHRjX,CPVFDMAjcN0,CPVFwrfD_S_,CPVFyq_hUzq,\n",
      "CPHCk2WHkQo,CPH5Ox_j9K8,CPKSIpwjanc,CPLK-LXn-_Y,CPLLKQsnhmQ,CPM2iA8j_Ej,CPM3C4YjbOI,CPNBMj5HdWa,CPPewThDu8M,CPPgJ1NDlhJ,CPQg9R0nPTk,CPQrLrfnXw0,CPSqubHHRjX,CPVFDMAjcN0,CPVFwrfD_S_,CPVFyq_hUzq,\n",
      "CPGVupIhygs,CPHCk2WHkQo,CPH5Ox_j9K8,CPKSIpwjanc,CPLK-LXn-_Y,CPLLKQsnhmQ,CPM2iA8j_Ej,CPM3C4YjbOI,CPNBMj5HdWa,CPPewThDu8M,CPPgJ1NDlhJ,CPQg9R0nPTk,CPQrLrfnXw0,CPSqubHHRjX,CPVFDMAjcN0,CPVFwrfD_S_,CPVFyq_hUzq,\n",
      "CPGJFV3nTSx,CPGVupIhygs,CPHCk2WHkQo,CPH5Ox_j9K8,CPKSIpwjanc,CPLK-LXn-_Y,CPLLKQsnhmQ,CPM2iA8j_Ej,CPM3C4YjbOI,CPNBMj5HdWa,CPPewThDu8M,CPPgJ1NDlhJ,CPQg9R0nPTk,CPQrLrfnXw0,CPSqubHHRjX,CPVFDMAjcN0,CPVFwrfD_S_,CPVFyq_hUzq,\n",
      "CPGJAwXH82m,CPGJFV3nTSx,CPGVupIhygs,CPHCk2WHkQo,CPH5Ox_j9K8,CPKSIpwjanc,CPLK-LXn-_Y,CPLLKQsnhmQ,CPM2iA8j_Ej,CPM3C4YjbOI,CPNBMj5HdWa,CPPewThDu8M,CPPgJ1NDlhJ,CPQg9R0nPTk,CPQrLrfnXw0,CPSqubHHRjX,CPVFDMAjcN0,CPVFwrfD_S_,CPVFyq_hUzq,\n",
      "CPGI8s3Hs-8,CPGJAwXH82m,CPGJFV3nTSx,CPGVupIhygs,CPHCk2WHkQo,CPH5Ox_j9K8,CPKSIpwjanc,CPLK-LXn-_Y,CPLLKQsnhmQ,CPM2iA8j_Ej,CPM3C4YjbOI,CPNBMj5HdWa,CPPewThDu8M,CPPgJ1NDlhJ,CPQg9R0nPTk,CPQrLrfnXw0,CPSqubHHRjX,CPVFDMAjcN0,CPVFwrfD_S_,CPVFyq_hUzq,\n",
      "CPGI4U-ndX3,CPGI8s3Hs-8,CPGJAwXH82m,CPGJFV3nTSx,CPGVupIhygs,CPHCk2WHkQo,CPH5Ox_j9K8,CPKSIpwjanc,CPLK-LXn-_Y,CPLLKQsnhmQ,CPM2iA8j_Ej,CPM3C4YjbOI,CPNBMj5HdWa,CPPewThDu8M,CPPgJ1NDlhJ,CPQg9R0nPTk,CPQrLrfnXw0,CPSqubHHRjX,CPVFDMAjcN0,CPVFwrfD_S_,CPVFyq_hUzq,\n",
      "CPGI1hjHjSE,CPGI4U-ndX3,CPGI8s3Hs-8,CPGJAwXH82m,CPGJFV3nTSx,CPGVupIhygs,CPHCk2WHkQo,CPH5Ox_j9K8,CPKSIpwjanc,CPLK-LXn-_Y,CPLLKQsnhmQ,CPM2iA8j_Ej,CPM3C4YjbOI,CPNBMj5HdWa,CPPewThDu8M,CPPgJ1NDlhJ,CPQg9R0nPTk,CPQrLrfnXw0,CPSqubHHRjX,CPVFDMAjcN0,CPVFwrfD_S_,CPVFyq_hUzq,\n",
      "CPGIyi7nlLK,CPGI1hjHjSE,CPGI4U-ndX3,CPGI8s3Hs-8,CPGJAwXH82m,CPGJFV3nTSx,CPGVupIhygs,CPHCk2WHkQo,CPH5Ox_j9K8,CPKSIpwjanc,CPLK-LXn-_Y,CPLLKQsnhmQ,CPM2iA8j_Ej,CPM3C4YjbOI,CPNBMj5HdWa,CPPewThDu8M,CPPgJ1NDlhJ,CPQg9R0nPTk,CPQrLrfnXw0,CPSqubHHRjX,CPVFDMAjcN0,CPVFwrfD_S_,CPVFyq_hUzq,\n",
      "CPGIpRAHZTL,CPGIyi7nlLK,CPGI1hjHjSE,CPGI4U-ndX3,CPGI8s3Hs-8,CPGJAwXH82m,CPGJFV3nTSx,CPGVupIhygs,CPHCk2WHkQo,CPH5Ox_j9K8,CPKSIpwjanc,CPLK-LXn-_Y,CPLLKQsnhmQ,CPM2iA8j_Ej,CPM3C4YjbOI,CPNBMj5HdWa,CPPewThDu8M,CPPgJ1NDlhJ,CPQg9R0nPTk,CPQrLrfnXw0,CPSqubHHRjX,CPVFDMAjcN0,CPVFwrfD_S_,CPVFyq_hUzq,\n",
      "CPGImsjn64b,CPGIpRAHZTL,CPGIyi7nlLK,CPGI1hjHjSE,CPGI4U-ndX3,CPGI8s3Hs-8,CPGJAwXH82m,CPGJFV3nTSx,CPGVupIhygs,CPHCk2WHkQo,CPH5Ox_j9K8,CPKSIpwjanc,CPLK-LXn-_Y,CPLLKQsnhmQ,CPM2iA8j_Ej,CPM3C4YjbOI,CPNBMj5HdWa,CPPewThDu8M,CPPgJ1NDlhJ,CPQg9R0nPTk,CPQrLrfnXw0,CPSqubHHRjX,CPVFDMAjcN0,CPVFwrfD_S_,CPVFyq_hUzq,\n",
      "CPGIlC-nMYj,CPGImsjn64b,CPGIpRAHZTL,CPGIyi7nlLK,CPGI1hjHjSE,CPGI4U-ndX3,CPGI8s3Hs-8,CPGJAwXH82m,CPGJFV3nTSx,CPGVupIhygs,CPHCk2WHkQo,CPH5Ox_j9K8,CPKSIpwjanc,CPLK-LXn-_Y,CPLLKQsnhmQ,CPM2iA8j_Ej,CPM3C4YjbOI,CPNBMj5HdWa,CPPewThDu8M,CPPgJ1NDlhJ,CPQg9R0nPTk,CPQrLrfnXw0,CPSqubHHRjX,CPVFDMAjcN0,CPVFwrfD_S_,CPVFyq_hUzq,\n",
      "CPGIip0Hf2Z,CPGIlC-nMYj,CPGImsjn64b,CPGIpRAHZTL,CPGIyi7nlLK,CPGI1hjHjSE,CPGI4U-ndX3,CPGI8s3Hs-8,CPGJAwXH82m,CPGJFV3nTSx,CPGVupIhygs,CPHCk2WHkQo,CPH5Ox_j9K8,CPKSIpwjanc,CPLK-LXn-_Y,CPLLKQsnhmQ,CPM2iA8j_Ej,CPM3C4YjbOI,CPNBMj5HdWa,CPPewThDu8M,CPPgJ1NDlhJ,CPQg9R0nPTk,CPQrLrfnXw0,CPSqubHHRjX,CPVFDMAjcN0,CPVFwrfD_S_,CPVFyq_hUzq,\n",
      "CPGIgzHHkQd,CPGIip0Hf2Z,CPGIlC-nMYj,CPGImsjn64b,CPGIpRAHZTL,CPGIyi7nlLK,CPGI1hjHjSE,CPGI4U-ndX3,CPGI8s3Hs-8,CPGJAwXH82m,CPGJFV3nTSx,CPGVupIhygs,CPHCk2WHkQo,CPH5Ox_j9K8,CPKSIpwjanc,CPLK-LXn-_Y,CPLLKQsnhmQ,CPM2iA8j_Ej,CPM3C4YjbOI,CPNBMj5HdWa,CPPewThDu8M,CPPgJ1NDlhJ,CPQg9R0nPTk,CPQrLrfnXw0,CPSqubHHRjX,CPVFDMAjcN0,CPVFwrfD_S_,CPVFyq_hUzq,\n",
      "CPGIdqIHzx-,CPGIgzHHkQd,CPGIip0Hf2Z,CPGIlC-nMYj,CPGImsjn64b,CPGIpRAHZTL,CPGIyi7nlLK,CPGI1hjHjSE,CPGI4U-ndX3,CPGI8s3Hs-8,CPGJAwXH82m,CPGJFV3nTSx,CPGVupIhygs,CPHCk2WHkQo,CPH5Ox_j9K8,CPKSIpwjanc,CPLK-LXn-_Y,CPLLKQsnhmQ,CPM2iA8j_Ej,CPM3C4YjbOI,CPNBMj5HdWa,CPPewThDu8M,CPPgJ1NDlhJ,CPQg9R0nPTk,CPQrLrfnXw0,CPSqubHHRjX,CPVFDMAjcN0,CPVFwrfD_S_,CPVFyq_hUzq,\n",
      "CPGIcJYnpo5,CPGIdqIHzx-,CPGIgzHHkQd,CPGIip0Hf2Z,CPGIlC-nMYj,CPGImsjn64b,CPGIpRAHZTL,CPGIyi7nlLK,CPGI1hjHjSE,CPGI4U-ndX3,CPGI8s3Hs-8,CPGJAwXH82m,CPGJFV3nTSx,CPGVupIhygs,CPHCk2WHkQo,CPH5Ox_j9K8,CPKSIpwjanc,CPLK-LXn-_Y,CPLLKQsnhmQ,CPM2iA8j_Ej,CPM3C4YjbOI,CPNBMj5HdWa,CPPewThDu8M,CPPgJ1NDlhJ,CPQg9R0nPTk,CPQrLrfnXw0,CPSqubHHRjX,CPVFDMAjcN0,CPVFwrfD_S_,CPVFyq_hUzq,\n",
      "CPGIaw2HncA,CPGIcJYnpo5,CPGIdqIHzx-,CPGIgzHHkQd,CPGIip0Hf2Z,CPGIlC-nMYj,CPGImsjn64b,CPGIpRAHZTL,CPGIyi7nlLK,CPGI1hjHjSE,CPGI4U-ndX3,CPGI8s3Hs-8,CPGJAwXH82m,CPGJFV3nTSx,CPGVupIhygs,CPHCk2WHkQo,CPH5Ox_j9K8,CPKSIpwjanc,CPLK-LXn-_Y,CPLLKQsnhmQ,CPM2iA8j_Ej,CPM3C4YjbOI,CPNBMj5HdWa,CPPewThDu8M,CPPgJ1NDlhJ,CPQg9R0nPTk,CPQrLrfnXw0,CPSqubHHRjX,CPVFDMAjcN0,CPVFwrfD_S_,CPVFyq_hUzq,\n",
      "CPF3l0YHSLp,CPGIaw2HncA,CPGIcJYnpo5,CPGIdqIHzx-,CPGIgzHHkQd,CPGIip0Hf2Z,CPGIlC-nMYj,CPGImsjn64b,CPGIpRAHZTL,CPGIyi7nlLK,CPGI1hjHjSE,CPGI4U-ndX3,CPGI8s3Hs-8,CPGJAwXH82m,CPGJFV3nTSx,CPGVupIhygs,CPHCk2WHkQo,CPH5Ox_j9K8,CPKSIpwjanc,CPLK-LXn-_Y,CPLLKQsnhmQ,CPM2iA8j_Ej,CPM3C4YjbOI,CPNBMj5HdWa,CPPewThDu8M,CPPgJ1NDlhJ,CPQg9R0nPTk,CPQrLrfnXw0,CPSqubHHRjX,CPVFDMAjcN0,CPVFwrfD_S_,CPVFyq_hUzq,\n",
      "CPF2rs5Hdz3,CPF3l0YHSLp,CPGIaw2HncA,CPGIcJYnpo5,CPGIdqIHzx-,CPGIgzHHkQd,CPGIip0Hf2Z,CPGIlC-nMYj,CPGImsjn64b,CPGIpRAHZTL,CPGIyi7nlLK,CPGI1hjHjSE,CPGI4U-ndX3,CPGI8s3Hs-8,CPGJAwXH82m,CPGJFV3nTSx,CPGVupIhygs,CPHCk2WHkQo,CPH5Ox_j9K8,CPKSIpwjanc,CPLK-LXn-_Y,CPLLKQsnhmQ,CPM2iA8j_Ej,CPM3C4YjbOI,CPNBMj5HdWa,CPPewThDu8M,CPPgJ1NDlhJ,CPQg9R0nPTk,CPQrLrfnXw0,CPSqubHHRjX,CPVFDMAjcN0,CPVFwrfD_S_,CPVFyq_hUzq,\n",
      "CPF0a8pncdD,CPF2rs5Hdz3,CPF3l0YHSLp,CPGIaw2HncA,CPGIcJYnpo5,CPGIdqIHzx-,CPGIgzHHkQd,CPGIip0Hf2Z,CPGIlC-nMYj,CPGImsjn64b,CPGIpRAHZTL,CPGIyi7nlLK,CPGI1hjHjSE,CPGI4U-ndX3,CPGI8s3Hs-8,CPGJAwXH82m,CPGJFV3nTSx,CPGVupIhygs,CPHCk2WHkQo,CPH5Ox_j9K8,CPKSIpwjanc,CPLK-LXn-_Y,CPLLKQsnhmQ,CPM2iA8j_Ej,CPM3C4YjbOI,CPNBMj5HdWa,CPPewThDu8M,CPPgJ1NDlhJ,CPQg9R0nPTk,CPQrLrfnXw0,CPSqubHHRjX,CPVFDMAjcN0,CPVFwrfD_S_,CPVFyq_hUzq,\n",
      "CPFgTsXHHMk,CPF0a8pncdD,CPF2rs5Hdz3,CPF3l0YHSLp,CPGIaw2HncA,CPGIcJYnpo5,CPGIdqIHzx-,CPGIgzHHkQd,CPGIip0Hf2Z,CPGIlC-nMYj,CPGImsjn64b,CPGIpRAHZTL,CPGIyi7nlLK,CPGI1hjHjSE,CPGI4U-ndX3,CPGI8s3Hs-8,CPGJAwXH82m,CPGJFV3nTSx,CPGVupIhygs,CPHCk2WHkQo,CPH5Ox_j9K8,CPKSIpwjanc,CPLK-LXn-_Y,CPLLKQsnhmQ,CPM2iA8j_Ej,CPM3C4YjbOI,CPNBMj5HdWa,CPPewThDu8M,CPPgJ1NDlhJ,CPQg9R0nPTk,CPQrLrfnXw0,CPSqubHHRjX,CPVFDMAjcN0,CPVFwrfD_S_,CPVFyq_hUzq,\n",
      "CPFRjAgjTrj,CPFgTsXHHMk,CPF0a8pncdD,CPF2rs5Hdz3,CPF3l0YHSLp,CPGIaw2HncA,CPGIcJYnpo5,CPGIdqIHzx-,CPGIgzHHkQd,CPGIip0Hf2Z,CPGIlC-nMYj,CPGImsjn64b,CPGIpRAHZTL,CPGIyi7nlLK,CPGI1hjHjSE,CPGI4U-ndX3,CPGI8s3Hs-8,CPGJAwXH82m,CPGJFV3nTSx,CPGVupIhygs,CPHCk2WHkQo,CPH5Ox_j9K8,CPKSIpwjanc,CPLK-LXn-_Y,CPLLKQsnhmQ,CPM2iA8j_Ej,CPM3C4YjbOI,CPNBMj5HdWa,CPPewThDu8M,CPPgJ1NDlhJ,CPQg9R0nPTk,CPQrLrfnXw0,CPSqubHHRjX,CPVFDMAjcN0,CPVFwrfD_S_,CPVFyq_hUzq,\n",
      "CPFRTtKD9_T,CPFRjAgjTrj,CPFgTsXHHMk,CPF0a8pncdD,CPF2rs5Hdz3,CPF3l0YHSLp,CPGIaw2HncA,CPGIcJYnpo5,CPGIdqIHzx-,CPGIgzHHkQd,CPGIip0Hf2Z,CPGIlC-nMYj,CPGImsjn64b,CPGIpRAHZTL,CPGIyi7nlLK,CPGI1hjHjSE,CPGI4U-ndX3,CPGI8s3Hs-8,CPGJAwXH82m,CPGJFV3nTSx,CPGVupIhygs,CPHCk2WHkQo,CPH5Ox_j9K8,CPKSIpwjanc,CPLK-LXn-_Y,CPLLKQsnhmQ,CPM2iA8j_Ej,CPM3C4YjbOI,CPNBMj5HdWa,CPPewThDu8M,CPPgJ1NDlhJ,CPQg9R0nPTk,CPQrLrfnXw0,CPSqubHHRjX,CPVFDMAjcN0,CPVFwrfD_S_,CPVFyq_hUzq,\n"
     ]
    },
    {
     "name": "stdout",
     "output_type": "stream",
     "text": [
      "CPEMbfuBUFs,CPFRTtKD9_T,CPFRjAgjTrj,CPFgTsXHHMk,CPF0a8pncdD,CPF2rs5Hdz3,CPF3l0YHSLp,CPGIaw2HncA,CPGIcJYnpo5,CPGIdqIHzx-,CPGIgzHHkQd,CPGIip0Hf2Z,CPGIlC-nMYj,CPGImsjn64b,CPGIpRAHZTL,CPGIyi7nlLK,CPGI1hjHjSE,CPGI4U-ndX3,CPGI8s3Hs-8,CPGJAwXH82m,CPGJFV3nTSx,CPGVupIhygs,CPHCk2WHkQo,CPH5Ox_j9K8,CPKSIpwjanc,CPLK-LXn-_Y,CPLLKQsnhmQ,CPM2iA8j_Ej,CPM3C4YjbOI,CPNBMj5HdWa,CPPewThDu8M,CPPgJ1NDlhJ,CPQg9R0nPTk,CPQrLrfnXw0,CPSqubHHRjX,CPVFDMAjcN0,CPVFwrfD_S_,CPVFyq_hUzq,\n",
      "CPEMCIznmuq,CPEMbfuBUFs,CPFRTtKD9_T,CPFRjAgjTrj,CPFgTsXHHMk,CPF0a8pncdD,CPF2rs5Hdz3,CPF3l0YHSLp,CPGIaw2HncA,CPGIcJYnpo5,CPGIdqIHzx-,CPGIgzHHkQd,CPGIip0Hf2Z,CPGIlC-nMYj,CPGImsjn64b,CPGIpRAHZTL,CPGIyi7nlLK,CPGI1hjHjSE,CPGI4U-ndX3,CPGI8s3Hs-8,CPGJAwXH82m,CPGJFV3nTSx,CPGVupIhygs,CPHCk2WHkQo,CPH5Ox_j9K8,CPKSIpwjanc,CPLK-LXn-_Y,CPLLKQsnhmQ,CPM2iA8j_Ej,CPM3C4YjbOI,CPNBMj5HdWa,CPPewThDu8M,CPPgJ1NDlhJ,CPQg9R0nPTk,CPQrLrfnXw0,CPSqubHHRjX,CPVFDMAjcN0,CPVFwrfD_S_,CPVFyq_hUzq,\n",
      "CPDqQGYJOVl,CPEMCIznmuq,CPEMbfuBUFs,CPFRTtKD9_T,CPFRjAgjTrj,CPFgTsXHHMk,CPF0a8pncdD,CPF2rs5Hdz3,CPF3l0YHSLp,CPGIaw2HncA,CPGIcJYnpo5,CPGIdqIHzx-,CPGIgzHHkQd,CPGIip0Hf2Z,CPGIlC-nMYj,CPGImsjn64b,CPGIpRAHZTL,CPGIyi7nlLK,CPGI1hjHjSE,CPGI4U-ndX3,CPGI8s3Hs-8,CPGJAwXH82m,CPGJFV3nTSx,CPGVupIhygs,CPHCk2WHkQo,CPH5Ox_j9K8,CPKSIpwjanc,CPLK-LXn-_Y,CPLLKQsnhmQ,CPM2iA8j_Ej,CPM3C4YjbOI,CPNBMj5HdWa,CPPewThDu8M,CPPgJ1NDlhJ,CPQg9R0nPTk,CPQrLrfnXw0,CPSqubHHRjX,CPVFDMAjcN0,CPVFwrfD_S_,CPVFyq_hUzq,\n",
      "CPDqO28MBYg,CPDqQGYJOVl,CPEMCIznmuq,CPEMbfuBUFs,CPFRTtKD9_T,CPFRjAgjTrj,CPFgTsXHHMk,CPF0a8pncdD,CPF2rs5Hdz3,CPF3l0YHSLp,CPGIaw2HncA,CPGIcJYnpo5,CPGIdqIHzx-,CPGIgzHHkQd,CPGIip0Hf2Z,CPGIlC-nMYj,CPGImsjn64b,CPGIpRAHZTL,CPGIyi7nlLK,CPGI1hjHjSE,CPGI4U-ndX3,CPGI8s3Hs-8,CPGJAwXH82m,CPGJFV3nTSx,CPGVupIhygs,CPHCk2WHkQo,CPH5Ox_j9K8,CPKSIpwjanc,CPLK-LXn-_Y,CPLLKQsnhmQ,CPM2iA8j_Ej,CPM3C4YjbOI,CPNBMj5HdWa,CPPewThDu8M,CPPgJ1NDlhJ,CPQg9R0nPTk,CPQrLrfnXw0,CPSqubHHRjX,CPVFDMAjcN0,CPVFwrfD_S_,CPVFyq_hUzq,\n",
      "CPDp5NKDsIc,CPDqO28MBYg,CPDqQGYJOVl,CPEMCIznmuq,CPEMbfuBUFs,CPFRTtKD9_T,CPFRjAgjTrj,CPFgTsXHHMk,CPF0a8pncdD,CPF2rs5Hdz3,CPF3l0YHSLp,CPGIaw2HncA,CPGIcJYnpo5,CPGIdqIHzx-,CPGIgzHHkQd,CPGIip0Hf2Z,CPGIlC-nMYj,CPGImsjn64b,CPGIpRAHZTL,CPGIyi7nlLK,CPGI1hjHjSE,CPGI4U-ndX3,CPGI8s3Hs-8,CPGJAwXH82m,CPGJFV3nTSx,CPGVupIhygs,CPHCk2WHkQo,CPH5Ox_j9K8,CPKSIpwjanc,CPLK-LXn-_Y,CPLLKQsnhmQ,CPM2iA8j_Ej,CPM3C4YjbOI,CPNBMj5HdWa,CPPewThDu8M,CPPgJ1NDlhJ,CPQg9R0nPTk,CPQrLrfnXw0,CPSqubHHRjX,CPVFDMAjcN0,CPVFwrfD_S_,CPVFyq_hUzq,\n",
      "CPDl3fXHP64,CPDp5NKDsIc,CPDqO28MBYg,CPDqQGYJOVl,CPEMCIznmuq,CPEMbfuBUFs,CPFRTtKD9_T,CPFRjAgjTrj,CPFgTsXHHMk,CPF0a8pncdD,CPF2rs5Hdz3,CPF3l0YHSLp,CPGIaw2HncA,CPGIcJYnpo5,CPGIdqIHzx-,CPGIgzHHkQd,CPGIip0Hf2Z,CPGIlC-nMYj,CPGImsjn64b,CPGIpRAHZTL,CPGIyi7nlLK,CPGI1hjHjSE,CPGI4U-ndX3,CPGI8s3Hs-8,CPGJAwXH82m,CPGJFV3nTSx,CPGVupIhygs,CPHCk2WHkQo,CPH5Ox_j9K8,CPKSIpwjanc,CPLK-LXn-_Y,CPLLKQsnhmQ,CPM2iA8j_Ej,CPM3C4YjbOI,CPNBMj5HdWa,CPPewThDu8M,CPPgJ1NDlhJ,CPQg9R0nPTk,CPQrLrfnXw0,CPSqubHHRjX,CPVFDMAjcN0,CPVFwrfD_S_,CPVFyq_hUzq,\n",
      "CPDkXmTn8bs,CPDl3fXHP64,CPDp5NKDsIc,CPDqO28MBYg,CPDqQGYJOVl,CPEMCIznmuq,CPEMbfuBUFs,CPFRTtKD9_T,CPFRjAgjTrj,CPFgTsXHHMk,CPF0a8pncdD,CPF2rs5Hdz3,CPF3l0YHSLp,CPGIaw2HncA,CPGIcJYnpo5,CPGIdqIHzx-,CPGIgzHHkQd,CPGIip0Hf2Z,CPGIlC-nMYj,CPGImsjn64b,CPGIpRAHZTL,CPGIyi7nlLK,CPGI1hjHjSE,CPGI4U-ndX3,CPGI8s3Hs-8,CPGJAwXH82m,CPGJFV3nTSx,CPGVupIhygs,CPHCk2WHkQo,CPH5Ox_j9K8,CPKSIpwjanc,CPLK-LXn-_Y,CPLLKQsnhmQ,CPM2iA8j_Ej,CPM3C4YjbOI,CPNBMj5HdWa,CPPewThDu8M,CPPgJ1NDlhJ,CPQg9R0nPTk,CPQrLrfnXw0,CPSqubHHRjX,CPVFDMAjcN0,CPVFwrfD_S_,CPVFyq_hUzq,\n",
      "CPDh6I-hekx,CPDkXmTn8bs,CPDl3fXHP64,CPDp5NKDsIc,CPDqO28MBYg,CPDqQGYJOVl,CPEMCIznmuq,CPEMbfuBUFs,CPFRTtKD9_T,CPFRjAgjTrj,CPFgTsXHHMk,CPF0a8pncdD,CPF2rs5Hdz3,CPF3l0YHSLp,CPGIaw2HncA,CPGIcJYnpo5,CPGIdqIHzx-,CPGIgzHHkQd,CPGIip0Hf2Z,CPGIlC-nMYj,CPGImsjn64b,CPGIpRAHZTL,CPGIyi7nlLK,CPGI1hjHjSE,CPGI4U-ndX3,CPGI8s3Hs-8,CPGJAwXH82m,CPGJFV3nTSx,CPGVupIhygs,CPHCk2WHkQo,CPH5Ox_j9K8,CPKSIpwjanc,CPLK-LXn-_Y,CPLLKQsnhmQ,CPM2iA8j_Ej,CPM3C4YjbOI,CPNBMj5HdWa,CPPewThDu8M,CPPgJ1NDlhJ,CPQg9R0nPTk,CPQrLrfnXw0,CPSqubHHRjX,CPVFDMAjcN0,CPVFwrfD_S_,CPVFyq_hUzq,\n",
      "CPDhTwHhPxZ,CPDh6I-hekx,CPDkXmTn8bs,CPDl3fXHP64,CPDp5NKDsIc,CPDqO28MBYg,CPDqQGYJOVl,CPEMCIznmuq,CPEMbfuBUFs,CPFRTtKD9_T,CPFRjAgjTrj,CPFgTsXHHMk,CPF0a8pncdD,CPF2rs5Hdz3,CPF3l0YHSLp,CPGIaw2HncA,CPGIcJYnpo5,CPGIdqIHzx-,CPGIgzHHkQd,CPGIip0Hf2Z,CPGIlC-nMYj,CPGImsjn64b,CPGIpRAHZTL,CPGIyi7nlLK,CPGI1hjHjSE,CPGI4U-ndX3,CPGI8s3Hs-8,CPGJAwXH82m,CPGJFV3nTSx,CPGVupIhygs,CPHCk2WHkQo,CPH5Ox_j9K8,CPKSIpwjanc,CPLK-LXn-_Y,CPLLKQsnhmQ,CPM2iA8j_Ej,CPM3C4YjbOI,CPNBMj5HdWa,CPPewThDu8M,CPPgJ1NDlhJ,CPQg9R0nPTk,CPQrLrfnXw0,CPSqubHHRjX,CPVFDMAjcN0,CPVFwrfD_S_,CPVFyq_hUzq,\n",
      "CPDeX_0p01N,CPDhTwHhPxZ,CPDh6I-hekx,CPDkXmTn8bs,CPDl3fXHP64,CPDp5NKDsIc,CPDqO28MBYg,CPDqQGYJOVl,CPEMCIznmuq,CPEMbfuBUFs,CPFRTtKD9_T,CPFRjAgjTrj,CPFgTsXHHMk,CPF0a8pncdD,CPF2rs5Hdz3,CPF3l0YHSLp,CPGIaw2HncA,CPGIcJYnpo5,CPGIdqIHzx-,CPGIgzHHkQd,CPGIip0Hf2Z,CPGIlC-nMYj,CPGImsjn64b,CPGIpRAHZTL,CPGIyi7nlLK,CPGI1hjHjSE,CPGI4U-ndX3,CPGI8s3Hs-8,CPGJAwXH82m,CPGJFV3nTSx,CPGVupIhygs,CPHCk2WHkQo,CPH5Ox_j9K8,CPKSIpwjanc,CPLK-LXn-_Y,CPLLKQsnhmQ,CPM2iA8j_Ej,CPM3C4YjbOI,CPNBMj5HdWa,CPPewThDu8M,CPPgJ1NDlhJ,CPQg9R0nPTk,CPQrLrfnXw0,CPSqubHHRjX,CPVFDMAjcN0,CPVFwrfD_S_,CPVFyq_hUzq,\n",
      "CPDdHLxJhJM,CPDeX_0p01N,CPDhTwHhPxZ,CPDh6I-hekx,CPDkXmTn8bs,CPDl3fXHP64,CPDp5NKDsIc,CPDqO28MBYg,CPDqQGYJOVl,CPEMCIznmuq,CPEMbfuBUFs,CPFRTtKD9_T,CPFRjAgjTrj,CPFgTsXHHMk,CPF0a8pncdD,CPF2rs5Hdz3,CPF3l0YHSLp,CPGIaw2HncA,CPGIcJYnpo5,CPGIdqIHzx-,CPGIgzHHkQd,CPGIip0Hf2Z,CPGIlC-nMYj,CPGImsjn64b,CPGIpRAHZTL,CPGIyi7nlLK,CPGI1hjHjSE,CPGI4U-ndX3,CPGI8s3Hs-8,CPGJAwXH82m,CPGJFV3nTSx,CPGVupIhygs,CPHCk2WHkQo,CPH5Ox_j9K8,CPKSIpwjanc,CPLK-LXn-_Y,CPLLKQsnhmQ,CPM2iA8j_Ej,CPM3C4YjbOI,CPNBMj5HdWa,CPPewThDu8M,CPPgJ1NDlhJ,CPQg9R0nPTk,CPQrLrfnXw0,CPSqubHHRjX,CPVFDMAjcN0,CPVFwrfD_S_,CPVFyq_hUzq,\n",
      "CPDbH9CD2It,CPDdHLxJhJM,CPDeX_0p01N,CPDhTwHhPxZ,CPDh6I-hekx,CPDkXmTn8bs,CPDl3fXHP64,CPDp5NKDsIc,CPDqO28MBYg,CPDqQGYJOVl,CPEMCIznmuq,CPEMbfuBUFs,CPFRTtKD9_T,CPFRjAgjTrj,CPFgTsXHHMk,CPF0a8pncdD,CPF2rs5Hdz3,CPF3l0YHSLp,CPGIaw2HncA,CPGIcJYnpo5,CPGIdqIHzx-,CPGIgzHHkQd,CPGIip0Hf2Z,CPGIlC-nMYj,CPGImsjn64b,CPGIpRAHZTL,CPGIyi7nlLK,CPGI1hjHjSE,CPGI4U-ndX3,CPGI8s3Hs-8,CPGJAwXH82m,CPGJFV3nTSx,CPGVupIhygs,CPHCk2WHkQo,CPH5Ox_j9K8,CPKSIpwjanc,CPLK-LXn-_Y,CPLLKQsnhmQ,CPM2iA8j_Ej,CPM3C4YjbOI,CPNBMj5HdWa,CPPewThDu8M,CPPgJ1NDlhJ,CPQg9R0nPTk,CPQrLrfnXw0,CPSqubHHRjX,CPVFDMAjcN0,CPVFwrfD_S_,CPVFyq_hUzq,\n",
      "CPDbwKSpUhw,CPDbH9CD2It,CPDdHLxJhJM,CPDeX_0p01N,CPDhTwHhPxZ,CPDh6I-hekx,CPDkXmTn8bs,CPDl3fXHP64,CPDp5NKDsIc,CPDqO28MBYg,CPDqQGYJOVl,CPEMCIznmuq,CPEMbfuBUFs,CPFRTtKD9_T,CPFRjAgjTrj,CPFgTsXHHMk,CPF0a8pncdD,CPF2rs5Hdz3,CPF3l0YHSLp,CPGIaw2HncA,CPGIcJYnpo5,CPGIdqIHzx-,CPGIgzHHkQd,CPGIip0Hf2Z,CPGIlC-nMYj,CPGImsjn64b,CPGIpRAHZTL,CPGIyi7nlLK,CPGI1hjHjSE,CPGI4U-ndX3,CPGI8s3Hs-8,CPGJAwXH82m,CPGJFV3nTSx,CPGVupIhygs,CPHCk2WHkQo,CPH5Ox_j9K8,CPKSIpwjanc,CPLK-LXn-_Y,CPLLKQsnhmQ,CPM2iA8j_Ej,CPM3C4YjbOI,CPNBMj5HdWa,CPPewThDu8M,CPPgJ1NDlhJ,CPQg9R0nPTk,CPQrLrfnXw0,CPSqubHHRjX,CPVFDMAjcN0,CPVFwrfD_S_,CPVFyq_hUzq,\n",
      "CPDaMkaCoM_,CPDbwKSpUhw,CPDbH9CD2It,CPDdHLxJhJM,CPDeX_0p01N,CPDhTwHhPxZ,CPDh6I-hekx,CPDkXmTn8bs,CPDl3fXHP64,CPDp5NKDsIc,CPDqO28MBYg,CPDqQGYJOVl,CPEMCIznmuq,CPEMbfuBUFs,CPFRTtKD9_T,CPFRjAgjTrj,CPFgTsXHHMk,CPF0a8pncdD,CPF2rs5Hdz3,CPF3l0YHSLp,CPGIaw2HncA,CPGIcJYnpo5,CPGIdqIHzx-,CPGIgzHHkQd,CPGIip0Hf2Z,CPGIlC-nMYj,CPGImsjn64b,CPGIpRAHZTL,CPGIyi7nlLK,CPGI1hjHjSE,CPGI4U-ndX3,CPGI8s3Hs-8,CPGJAwXH82m,CPGJFV3nTSx,CPGVupIhygs,CPHCk2WHkQo,CPH5Ox_j9K8,CPKSIpwjanc,CPLK-LXn-_Y,CPLLKQsnhmQ,CPM2iA8j_Ej,CPM3C4YjbOI,CPNBMj5HdWa,CPPewThDu8M,CPPgJ1NDlhJ,CPQg9R0nPTk,CPQrLrfnXw0,CPSqubHHRjX,CPVFDMAjcN0,CPVFwrfD_S_,CPVFyq_hUzq,\n",
      "CPDYvQIgSSK,CPDaMkaCoM_,CPDbwKSpUhw,CPDbH9CD2It,CPDdHLxJhJM,CPDeX_0p01N,CPDhTwHhPxZ,CPDh6I-hekx,CPDkXmTn8bs,CPDl3fXHP64,CPDp5NKDsIc,CPDqO28MBYg,CPDqQGYJOVl,CPEMCIznmuq,CPEMbfuBUFs,CPFRTtKD9_T,CPFRjAgjTrj,CPFgTsXHHMk,CPF0a8pncdD,CPF2rs5Hdz3,CPF3l0YHSLp,CPGIaw2HncA,CPGIcJYnpo5,CPGIdqIHzx-,CPGIgzHHkQd,CPGIip0Hf2Z,CPGIlC-nMYj,CPGImsjn64b,CPGIpRAHZTL,CPGIyi7nlLK,CPGI1hjHjSE,CPGI4U-ndX3,CPGI8s3Hs-8,CPGJAwXH82m,CPGJFV3nTSx,CPGVupIhygs,CPHCk2WHkQo,CPH5Ox_j9K8,CPKSIpwjanc,CPLK-LXn-_Y,CPLLKQsnhmQ,CPM2iA8j_Ej,CPM3C4YjbOI,CPNBMj5HdWa,CPPewThDu8M,CPPgJ1NDlhJ,CPQg9R0nPTk,CPQrLrfnXw0,CPSqubHHRjX,CPVFDMAjcN0,CPVFwrfD_S_,CPVFyq_hUzq,\n",
      "CPDYk_sgI-d,CPDYvQIgSSK,CPDaMkaCoM_,CPDbwKSpUhw,CPDbH9CD2It,CPDdHLxJhJM,CPDeX_0p01N,CPDhTwHhPxZ,CPDh6I-hekx,CPDkXmTn8bs,CPDl3fXHP64,CPDp5NKDsIc,CPDqO28MBYg,CPDqQGYJOVl,CPEMCIznmuq,CPEMbfuBUFs,CPFRTtKD9_T,CPFRjAgjTrj,CPFgTsXHHMk,CPF0a8pncdD,CPF2rs5Hdz3,CPF3l0YHSLp,CPGIaw2HncA,CPGIcJYnpo5,CPGIdqIHzx-,CPGIgzHHkQd,CPGIip0Hf2Z,CPGIlC-nMYj,CPGImsjn64b,CPGIpRAHZTL,CPGIyi7nlLK,CPGI1hjHjSE,CPGI4U-ndX3,CPGI8s3Hs-8,CPGJAwXH82m,CPGJFV3nTSx,CPGVupIhygs,CPHCk2WHkQo,CPH5Ox_j9K8,CPKSIpwjanc,CPLK-LXn-_Y,CPLLKQsnhmQ,CPM2iA8j_Ej,CPM3C4YjbOI,CPNBMj5HdWa,CPPewThDu8M,CPPgJ1NDlhJ,CPQg9R0nPTk,CPQrLrfnXw0,CPSqubHHRjX,CPVFDMAjcN0,CPVFwrfD_S_,CPVFyq_hUzq,\n"
     ]
    },
    {
     "name": "stdout",
     "output_type": "stream",
     "text": [
      "CPDYa1KgIag,CPDYk_sgI-d,CPDYvQIgSSK,CPDaMkaCoM_,CPDbwKSpUhw,CPDbH9CD2It,CPDdHLxJhJM,CPDeX_0p01N,CPDhTwHhPxZ,CPDh6I-hekx,CPDkXmTn8bs,CPDl3fXHP64,CPDp5NKDsIc,CPDqO28MBYg,CPDqQGYJOVl,CPEMCIznmuq,CPEMbfuBUFs,CPFRTtKD9_T,CPFRjAgjTrj,CPFgTsXHHMk,CPF0a8pncdD,CPF2rs5Hdz3,CPF3l0YHSLp,CPGIaw2HncA,CPGIcJYnpo5,CPGIdqIHzx-,CPGIgzHHkQd,CPGIip0Hf2Z,CPGIlC-nMYj,CPGImsjn64b,CPGIpRAHZTL,CPGIyi7nlLK,CPGI1hjHjSE,CPGI4U-ndX3,CPGI8s3Hs-8,CPGJAwXH82m,CPGJFV3nTSx,CPGVupIhygs,CPHCk2WHkQo,CPH5Ox_j9K8,CPKSIpwjanc,CPLK-LXn-_Y,CPLLKQsnhmQ,CPM2iA8j_Ej,CPM3C4YjbOI,CPNBMj5HdWa,CPPewThDu8M,CPPgJ1NDlhJ,CPQg9R0nPTk,CPQrLrfnXw0,CPSqubHHRjX,CPVFDMAjcN0,CPVFwrfD_S_,CPVFyq_hUzq,\n",
      "CPDYQodgDO6,CPDYa1KgIag,CPDYk_sgI-d,CPDYvQIgSSK,CPDaMkaCoM_,CPDbwKSpUhw,CPDbH9CD2It,CPDdHLxJhJM,CPDeX_0p01N,CPDhTwHhPxZ,CPDh6I-hekx,CPDkXmTn8bs,CPDl3fXHP64,CPDp5NKDsIc,CPDqO28MBYg,CPDqQGYJOVl,CPEMCIznmuq,CPEMbfuBUFs,CPFRTtKD9_T,CPFRjAgjTrj,CPFgTsXHHMk,CPF0a8pncdD,CPF2rs5Hdz3,CPF3l0YHSLp,CPGIaw2HncA,CPGIcJYnpo5,CPGIdqIHzx-,CPGIgzHHkQd,CPGIip0Hf2Z,CPGIlC-nMYj,CPGImsjn64b,CPGIpRAHZTL,CPGIyi7nlLK,CPGI1hjHjSE,CPGI4U-ndX3,CPGI8s3Hs-8,CPGJAwXH82m,CPGJFV3nTSx,CPGVupIhygs,CPHCk2WHkQo,CPH5Ox_j9K8,CPKSIpwjanc,CPLK-LXn-_Y,CPLLKQsnhmQ,CPM2iA8j_Ej,CPM3C4YjbOI,CPNBMj5HdWa,CPPewThDu8M,CPPgJ1NDlhJ,CPQg9R0nPTk,CPQrLrfnXw0,CPSqubHHRjX,CPVFDMAjcN0,CPVFwrfD_S_,CPVFyq_hUzq,\n",
      "CPDYFj5gpwi,CPDYQodgDO6,CPDYa1KgIag,CPDYk_sgI-d,CPDYvQIgSSK,CPDaMkaCoM_,CPDbwKSpUhw,CPDbH9CD2It,CPDdHLxJhJM,CPDeX_0p01N,CPDhTwHhPxZ,CPDh6I-hekx,CPDkXmTn8bs,CPDl3fXHP64,CPDp5NKDsIc,CPDqO28MBYg,CPDqQGYJOVl,CPEMCIznmuq,CPEMbfuBUFs,CPFRTtKD9_T,CPFRjAgjTrj,CPFgTsXHHMk,CPF0a8pncdD,CPF2rs5Hdz3,CPF3l0YHSLp,CPGIaw2HncA,CPGIcJYnpo5,CPGIdqIHzx-,CPGIgzHHkQd,CPGIip0Hf2Z,CPGIlC-nMYj,CPGImsjn64b,CPGIpRAHZTL,CPGIyi7nlLK,CPGI1hjHjSE,CPGI4U-ndX3,CPGI8s3Hs-8,CPGJAwXH82m,CPGJFV3nTSx,CPGVupIhygs,CPHCk2WHkQo,CPH5Ox_j9K8,CPKSIpwjanc,CPLK-LXn-_Y,CPLLKQsnhmQ,CPM2iA8j_Ej,CPM3C4YjbOI,CPNBMj5HdWa,CPPewThDu8M,CPPgJ1NDlhJ,CPQg9R0nPTk,CPQrLrfnXw0,CPSqubHHRjX,CPVFDMAjcN0,CPVFwrfD_S_,CPVFyq_hUzq,\n",
      "CPDX5mLAORj,CPDYFj5gpwi,CPDYQodgDO6,CPDYa1KgIag,CPDYk_sgI-d,CPDYvQIgSSK,CPDaMkaCoM_,CPDbwKSpUhw,CPDbH9CD2It,CPDdHLxJhJM,CPDeX_0p01N,CPDhTwHhPxZ,CPDh6I-hekx,CPDkXmTn8bs,CPDl3fXHP64,CPDp5NKDsIc,CPDqO28MBYg,CPDqQGYJOVl,CPEMCIznmuq,CPEMbfuBUFs,CPFRTtKD9_T,CPFRjAgjTrj,CPFgTsXHHMk,CPF0a8pncdD,CPF2rs5Hdz3,CPF3l0YHSLp,CPGIaw2HncA,CPGIcJYnpo5,CPGIdqIHzx-,CPGIgzHHkQd,CPGIip0Hf2Z,CPGIlC-nMYj,CPGImsjn64b,CPGIpRAHZTL,CPGIyi7nlLK,CPGI1hjHjSE,CPGI4U-ndX3,CPGI8s3Hs-8,CPGJAwXH82m,CPGJFV3nTSx,CPGVupIhygs,CPHCk2WHkQo,CPH5Ox_j9K8,CPKSIpwjanc,CPLK-LXn-_Y,CPLLKQsnhmQ,CPM2iA8j_Ej,CPM3C4YjbOI,CPNBMj5HdWa,CPPewThDu8M,CPPgJ1NDlhJ,CPQg9R0nPTk,CPQrLrfnXw0,CPSqubHHRjX,CPVFDMAjcN0,CPVFwrfD_S_,CPVFyq_hUzq,\n",
      "CPDWr1bnox5,CPDX5mLAORj,CPDYFj5gpwi,CPDYQodgDO6,CPDYa1KgIag,CPDYk_sgI-d,CPDYvQIgSSK,CPDaMkaCoM_,CPDbwKSpUhw,CPDbH9CD2It,CPDdHLxJhJM,CPDeX_0p01N,CPDhTwHhPxZ,CPDh6I-hekx,CPDkXmTn8bs,CPDl3fXHP64,CPDp5NKDsIc,CPDqO28MBYg,CPDqQGYJOVl,CPEMCIznmuq,CPEMbfuBUFs,CPFRTtKD9_T,CPFRjAgjTrj,CPFgTsXHHMk,CPF0a8pncdD,CPF2rs5Hdz3,CPF3l0YHSLp,CPGIaw2HncA,CPGIcJYnpo5,CPGIdqIHzx-,CPGIgzHHkQd,CPGIip0Hf2Z,CPGIlC-nMYj,CPGImsjn64b,CPGIpRAHZTL,CPGIyi7nlLK,CPGI1hjHjSE,CPGI4U-ndX3,CPGI8s3Hs-8,CPGJAwXH82m,CPGJFV3nTSx,CPGVupIhygs,CPHCk2WHkQo,CPH5Ox_j9K8,CPKSIpwjanc,CPLK-LXn-_Y,CPLLKQsnhmQ,CPM2iA8j_Ej,CPM3C4YjbOI,CPNBMj5HdWa,CPPewThDu8M,CPPgJ1NDlhJ,CPQg9R0nPTk,CPQrLrfnXw0,CPSqubHHRjX,CPVFDMAjcN0,CPVFwrfD_S_,CPVFyq_hUzq,\n",
      "CPDWLuWJjPp,CPDWr1bnox5,CPDX5mLAORj,CPDYFj5gpwi,CPDYQodgDO6,CPDYa1KgIag,CPDYk_sgI-d,CPDYvQIgSSK,CPDaMkaCoM_,CPDbwKSpUhw,CPDbH9CD2It,CPDdHLxJhJM,CPDeX_0p01N,CPDhTwHhPxZ,CPDh6I-hekx,CPDkXmTn8bs,CPDl3fXHP64,CPDp5NKDsIc,CPDqO28MBYg,CPDqQGYJOVl,CPEMCIznmuq,CPEMbfuBUFs,CPFRTtKD9_T,CPFRjAgjTrj,CPFgTsXHHMk,CPF0a8pncdD,CPF2rs5Hdz3,CPF3l0YHSLp,CPGIaw2HncA,CPGIcJYnpo5,CPGIdqIHzx-,CPGIgzHHkQd,CPGIip0Hf2Z,CPGIlC-nMYj,CPGImsjn64b,CPGIpRAHZTL,CPGIyi7nlLK,CPGI1hjHjSE,CPGI4U-ndX3,CPGI8s3Hs-8,CPGJAwXH82m,CPGJFV3nTSx,CPGVupIhygs,CPHCk2WHkQo,CPH5Ox_j9K8,CPKSIpwjanc,CPLK-LXn-_Y,CPLLKQsnhmQ,CPM2iA8j_Ej,CPM3C4YjbOI,CPNBMj5HdWa,CPPewThDu8M,CPPgJ1NDlhJ,CPQg9R0nPTk,CPQrLrfnXw0,CPSqubHHRjX,CPVFDMAjcN0,CPVFwrfD_S_,CPVFyq_hUzq,\n",
      "CPDV1iTJP-G,CPDWLuWJjPp,CPDWr1bnox5,CPDX5mLAORj,CPDYFj5gpwi,CPDYQodgDO6,CPDYa1KgIag,CPDYk_sgI-d,CPDYvQIgSSK,CPDaMkaCoM_,CPDbwKSpUhw,CPDbH9CD2It,CPDdHLxJhJM,CPDeX_0p01N,CPDhTwHhPxZ,CPDh6I-hekx,CPDkXmTn8bs,CPDl3fXHP64,CPDp5NKDsIc,CPDqO28MBYg,CPDqQGYJOVl,CPEMCIznmuq,CPEMbfuBUFs,CPFRTtKD9_T,CPFRjAgjTrj,CPFgTsXHHMk,CPF0a8pncdD,CPF2rs5Hdz3,CPF3l0YHSLp,CPGIaw2HncA,CPGIcJYnpo5,CPGIdqIHzx-,CPGIgzHHkQd,CPGIip0Hf2Z,CPGIlC-nMYj,CPGImsjn64b,CPGIpRAHZTL,CPGIyi7nlLK,CPGI1hjHjSE,CPGI4U-ndX3,CPGI8s3Hs-8,CPGJAwXH82m,CPGJFV3nTSx,CPGVupIhygs,CPHCk2WHkQo,CPH5Ox_j9K8,CPKSIpwjanc,CPLK-LXn-_Y,CPLLKQsnhmQ,CPM2iA8j_Ej,CPM3C4YjbOI,CPNBMj5HdWa,CPPewThDu8M,CPPgJ1NDlhJ,CPQg9R0nPTk,CPQrLrfnXw0,CPSqubHHRjX,CPVFDMAjcN0,CPVFwrfD_S_,CPVFyq_hUzq,\n",
      "CPDVjFvDmg2,CPDV1iTJP-G,CPDWLuWJjPp,CPDWr1bnox5,CPDX5mLAORj,CPDYFj5gpwi,CPDYQodgDO6,CPDYa1KgIag,CPDYk_sgI-d,CPDYvQIgSSK,CPDaMkaCoM_,CPDbwKSpUhw,CPDbH9CD2It,CPDdHLxJhJM,CPDeX_0p01N,CPDhTwHhPxZ,CPDh6I-hekx,CPDkXmTn8bs,CPDl3fXHP64,CPDp5NKDsIc,CPDqO28MBYg,CPDqQGYJOVl,CPEMCIznmuq,CPEMbfuBUFs,CPFRTtKD9_T,CPFRjAgjTrj,CPFgTsXHHMk,CPF0a8pncdD,CPF2rs5Hdz3,CPF3l0YHSLp,CPGIaw2HncA,CPGIcJYnpo5,CPGIdqIHzx-,CPGIgzHHkQd,CPGIip0Hf2Z,CPGIlC-nMYj,CPGImsjn64b,CPGIpRAHZTL,CPGIyi7nlLK,CPGI1hjHjSE,CPGI4U-ndX3,CPGI8s3Hs-8,CPGJAwXH82m,CPGJFV3nTSx,CPGVupIhygs,CPHCk2WHkQo,CPH5Ox_j9K8,CPKSIpwjanc,CPLK-LXn-_Y,CPLLKQsnhmQ,CPM2iA8j_Ej,CPM3C4YjbOI,CPNBMj5HdWa,CPPewThDu8M,CPPgJ1NDlhJ,CPQg9R0nPTk,CPQrLrfnXw0,CPSqubHHRjX,CPVFDMAjcN0,CPVFwrfD_S_,CPVFyq_hUzq,\n",
      "CPDUxEupYAU,CPDVjFvDmg2,CPDV1iTJP-G,CPDWLuWJjPp,CPDWr1bnox5,CPDX5mLAORj,CPDYFj5gpwi,CPDYQodgDO6,CPDYa1KgIag,CPDYk_sgI-d,CPDYvQIgSSK,CPDaMkaCoM_,CPDbwKSpUhw,CPDbH9CD2It,CPDdHLxJhJM,CPDeX_0p01N,CPDhTwHhPxZ,CPDh6I-hekx,CPDkXmTn8bs,CPDl3fXHP64,CPDp5NKDsIc,CPDqO28MBYg,CPDqQGYJOVl,CPEMCIznmuq,CPEMbfuBUFs,CPFRTtKD9_T,CPFRjAgjTrj,CPFgTsXHHMk,CPF0a8pncdD,CPF2rs5Hdz3,CPF3l0YHSLp,CPGIaw2HncA,CPGIcJYnpo5,CPGIdqIHzx-,CPGIgzHHkQd,CPGIip0Hf2Z,CPGIlC-nMYj,CPGImsjn64b,CPGIpRAHZTL,CPGIyi7nlLK,CPGI1hjHjSE,CPGI4U-ndX3,CPGI8s3Hs-8,CPGJAwXH82m,CPGJFV3nTSx,CPGVupIhygs,CPHCk2WHkQo,CPH5Ox_j9K8,CPKSIpwjanc,CPLK-LXn-_Y,CPLLKQsnhmQ,CPM2iA8j_Ej,CPM3C4YjbOI,CPNBMj5HdWa,CPPewThDu8M,CPPgJ1NDlhJ,CPQg9R0nPTk,CPQrLrfnXw0,CPSqubHHRjX,CPVFDMAjcN0,CPVFwrfD_S_,CPVFyq_hUzq,\n",
      "CPDST1iB1I9,CPDUxEupYAU,CPDVjFvDmg2,CPDV1iTJP-G,CPDWLuWJjPp,CPDWr1bnox5,CPDX5mLAORj,CPDYFj5gpwi,CPDYQodgDO6,CPDYa1KgIag,CPDYk_sgI-d,CPDYvQIgSSK,CPDaMkaCoM_,CPDbwKSpUhw,CPDbH9CD2It,CPDdHLxJhJM,CPDeX_0p01N,CPDhTwHhPxZ,CPDh6I-hekx,CPDkXmTn8bs,CPDl3fXHP64,CPDp5NKDsIc,CPDqO28MBYg,CPDqQGYJOVl,CPEMCIznmuq,CPEMbfuBUFs,CPFRTtKD9_T,CPFRjAgjTrj,CPFgTsXHHMk,CPF0a8pncdD,CPF2rs5Hdz3,CPF3l0YHSLp,CPGIaw2HncA,CPGIcJYnpo5,CPGIdqIHzx-,CPGIgzHHkQd,CPGIip0Hf2Z,CPGIlC-nMYj,CPGImsjn64b,CPGIpRAHZTL,CPGIyi7nlLK,CPGI1hjHjSE,CPGI4U-ndX3,CPGI8s3Hs-8,CPGJAwXH82m,CPGJFV3nTSx,CPGVupIhygs,CPHCk2WHkQo,CPH5Ox_j9K8,CPKSIpwjanc,CPLK-LXn-_Y,CPLLKQsnhmQ,CPM2iA8j_Ej,CPM3C4YjbOI,CPNBMj5HdWa,CPPewThDu8M,CPPgJ1NDlhJ,CPQg9R0nPTk,CPQrLrfnXw0,CPSqubHHRjX,CPVFDMAjcN0,CPVFwrfD_S_,CPVFyq_hUzq,\n",
      "CPDQeXNHNHx,CPDST1iB1I9,CPDUxEupYAU,CPDVjFvDmg2,CPDV1iTJP-G,CPDWLuWJjPp,CPDWr1bnox5,CPDX5mLAORj,CPDYFj5gpwi,CPDYQodgDO6,CPDYa1KgIag,CPDYk_sgI-d,CPDYvQIgSSK,CPDaMkaCoM_,CPDbwKSpUhw,CPDbH9CD2It,CPDdHLxJhJM,CPDeX_0p01N,CPDhTwHhPxZ,CPDh6I-hekx,CPDkXmTn8bs,CPDl3fXHP64,CPDp5NKDsIc,CPDqO28MBYg,CPDqQGYJOVl,CPEMCIznmuq,CPEMbfuBUFs,CPFRTtKD9_T,CPFRjAgjTrj,CPFgTsXHHMk,CPF0a8pncdD,CPF2rs5Hdz3,CPF3l0YHSLp,CPGIaw2HncA,CPGIcJYnpo5,CPGIdqIHzx-,CPGIgzHHkQd,CPGIip0Hf2Z,CPGIlC-nMYj,CPGImsjn64b,CPGIpRAHZTL,CPGIyi7nlLK,CPGI1hjHjSE,CPGI4U-ndX3,CPGI8s3Hs-8,CPGJAwXH82m,CPGJFV3nTSx,CPGVupIhygs,CPHCk2WHkQo,CPH5Ox_j9K8,CPKSIpwjanc,CPLK-LXn-_Y,CPLLKQsnhmQ,CPM2iA8j_Ej,CPM3C4YjbOI,CPNBMj5HdWa,CPPewThDu8M,CPPgJ1NDlhJ,CPQg9R0nPTk,CPQrLrfnXw0,CPSqubHHRjX,CPVFDMAjcN0,CPVFwrfD_S_,CPVFyq_hUzq,\n",
      "CPDPvcSDBi4,CPDQeXNHNHx,CPDST1iB1I9,CPDUxEupYAU,CPDVjFvDmg2,CPDV1iTJP-G,CPDWLuWJjPp,CPDWr1bnox5,CPDX5mLAORj,CPDYFj5gpwi,CPDYQodgDO6,CPDYa1KgIag,CPDYk_sgI-d,CPDYvQIgSSK,CPDaMkaCoM_,CPDbwKSpUhw,CPDbH9CD2It,CPDdHLxJhJM,CPDeX_0p01N,CPDhTwHhPxZ,CPDh6I-hekx,CPDkXmTn8bs,CPDl3fXHP64,CPDp5NKDsIc,CPDqO28MBYg,CPDqQGYJOVl,CPEMCIznmuq,CPEMbfuBUFs,CPFRTtKD9_T,CPFRjAgjTrj,CPFgTsXHHMk,CPF0a8pncdD,CPF2rs5Hdz3,CPF3l0YHSLp,CPGIaw2HncA,CPGIcJYnpo5,CPGIdqIHzx-,CPGIgzHHkQd,CPGIip0Hf2Z,CPGIlC-nMYj,CPGImsjn64b,CPGIpRAHZTL,CPGIyi7nlLK,CPGI1hjHjSE,CPGI4U-ndX3,CPGI8s3Hs-8,CPGJAwXH82m,CPGJFV3nTSx,CPGVupIhygs,CPHCk2WHkQo,CPH5Ox_j9K8,CPKSIpwjanc,CPLK-LXn-_Y,CPLLKQsnhmQ,CPM2iA8j_Ej,CPM3C4YjbOI,CPNBMj5HdWa,CPPewThDu8M,CPPgJ1NDlhJ,CPQg9R0nPTk,CPQrLrfnXw0,CPSqubHHRjX,CPVFDMAjcN0,CPVFwrfD_S_,CPVFyq_hUzq,\n"
     ]
    },
    {
     "name": "stdout",
     "output_type": "stream",
     "text": [
      "CPDMxJjBZgc,CPDPvcSDBi4,CPDQeXNHNHx,CPDST1iB1I9,CPDUxEupYAU,CPDVjFvDmg2,CPDV1iTJP-G,CPDWLuWJjPp,CPDWr1bnox5,CPDX5mLAORj,CPDYFj5gpwi,CPDYQodgDO6,CPDYa1KgIag,CPDYk_sgI-d,CPDYvQIgSSK,CPDaMkaCoM_,CPDbwKSpUhw,CPDbH9CD2It,CPDdHLxJhJM,CPDeX_0p01N,CPDhTwHhPxZ,CPDh6I-hekx,CPDkXmTn8bs,CPDl3fXHP64,CPDp5NKDsIc,CPDqO28MBYg,CPDqQGYJOVl,CPEMCIznmuq,CPEMbfuBUFs,CPFRTtKD9_T,CPFRjAgjTrj,CPFgTsXHHMk,CPF0a8pncdD,CPF2rs5Hdz3,CPF3l0YHSLp,CPGIaw2HncA,CPGIcJYnpo5,CPGIdqIHzx-,CPGIgzHHkQd,CPGIip0Hf2Z,CPGIlC-nMYj,CPGImsjn64b,CPGIpRAHZTL,CPGIyi7nlLK,CPGI1hjHjSE,CPGI4U-ndX3,CPGI8s3Hs-8,CPGJAwXH82m,CPGJFV3nTSx,CPGVupIhygs,CPHCk2WHkQo,CPH5Ox_j9K8,CPKSIpwjanc,CPLK-LXn-_Y,CPLLKQsnhmQ,CPM2iA8j_Ej,CPM3C4YjbOI,CPNBMj5HdWa,CPPewThDu8M,CPPgJ1NDlhJ,CPQg9R0nPTk,CPQrLrfnXw0,CPSqubHHRjX,CPVFDMAjcN0,CPVFwrfD_S_,CPVFyq_hUzq,\n",
      "CPDLE6LJvMm,CPDMxJjBZgc,CPDPvcSDBi4,CPDQeXNHNHx,CPDST1iB1I9,CPDUxEupYAU,CPDVjFvDmg2,CPDV1iTJP-G,CPDWLuWJjPp,CPDWr1bnox5,CPDX5mLAORj,CPDYFj5gpwi,CPDYQodgDO6,CPDYa1KgIag,CPDYk_sgI-d,CPDYvQIgSSK,CPDaMkaCoM_,CPDbwKSpUhw,CPDbH9CD2It,CPDdHLxJhJM,CPDeX_0p01N,CPDhTwHhPxZ,CPDh6I-hekx,CPDkXmTn8bs,CPDl3fXHP64,CPDp5NKDsIc,CPDqO28MBYg,CPDqQGYJOVl,CPEMCIznmuq,CPEMbfuBUFs,CPFRTtKD9_T,CPFRjAgjTrj,CPFgTsXHHMk,CPF0a8pncdD,CPF2rs5Hdz3,CPF3l0YHSLp,CPGIaw2HncA,CPGIcJYnpo5,CPGIdqIHzx-,CPGIgzHHkQd,CPGIip0Hf2Z,CPGIlC-nMYj,CPGImsjn64b,CPGIpRAHZTL,CPGIyi7nlLK,CPGI1hjHjSE,CPGI4U-ndX3,CPGI8s3Hs-8,CPGJAwXH82m,CPGJFV3nTSx,CPGVupIhygs,CPHCk2WHkQo,CPH5Ox_j9K8,CPKSIpwjanc,CPLK-LXn-_Y,CPLLKQsnhmQ,CPM2iA8j_Ej,CPM3C4YjbOI,CPNBMj5HdWa,CPPewThDu8M,CPPgJ1NDlhJ,CPQg9R0nPTk,CPQrLrfnXw0,CPSqubHHRjX,CPVFDMAjcN0,CPVFwrfD_S_,CPVFyq_hUzq,\n",
      "CPDIoyQpdsT,CPDLE6LJvMm,CPDMxJjBZgc,CPDPvcSDBi4,CPDQeXNHNHx,CPDST1iB1I9,CPDUxEupYAU,CPDVjFvDmg2,CPDV1iTJP-G,CPDWLuWJjPp,CPDWr1bnox5,CPDX5mLAORj,CPDYFj5gpwi,CPDYQodgDO6,CPDYa1KgIag,CPDYk_sgI-d,CPDYvQIgSSK,CPDaMkaCoM_,CPDbwKSpUhw,CPDbH9CD2It,CPDdHLxJhJM,CPDeX_0p01N,CPDhTwHhPxZ,CPDh6I-hekx,CPDkXmTn8bs,CPDl3fXHP64,CPDp5NKDsIc,CPDqO28MBYg,CPDqQGYJOVl,CPEMCIznmuq,CPEMbfuBUFs,CPFRTtKD9_T,CPFRjAgjTrj,CPFgTsXHHMk,CPF0a8pncdD,CPF2rs5Hdz3,CPF3l0YHSLp,CPGIaw2HncA,CPGIcJYnpo5,CPGIdqIHzx-,CPGIgzHHkQd,CPGIip0Hf2Z,CPGIlC-nMYj,CPGImsjn64b,CPGIpRAHZTL,CPGIyi7nlLK,CPGI1hjHjSE,CPGI4U-ndX3,CPGI8s3Hs-8,CPGJAwXH82m,CPGJFV3nTSx,CPGVupIhygs,CPHCk2WHkQo,CPH5Ox_j9K8,CPKSIpwjanc,CPLK-LXn-_Y,CPLLKQsnhmQ,CPM2iA8j_Ej,CPM3C4YjbOI,CPNBMj5HdWa,CPPewThDu8M,CPPgJ1NDlhJ,CPQg9R0nPTk,CPQrLrfnXw0,CPSqubHHRjX,CPVFDMAjcN0,CPVFwrfD_S_,CPVFyq_hUzq,\n",
      "CPDHjgCJG2X,CPDIoyQpdsT,CPDLE6LJvMm,CPDMxJjBZgc,CPDPvcSDBi4,CPDQeXNHNHx,CPDST1iB1I9,CPDUxEupYAU,CPDVjFvDmg2,CPDV1iTJP-G,CPDWLuWJjPp,CPDWr1bnox5,CPDX5mLAORj,CPDYFj5gpwi,CPDYQodgDO6,CPDYa1KgIag,CPDYk_sgI-d,CPDYvQIgSSK,CPDaMkaCoM_,CPDbwKSpUhw,CPDbH9CD2It,CPDdHLxJhJM,CPDeX_0p01N,CPDhTwHhPxZ,CPDh6I-hekx,CPDkXmTn8bs,CPDl3fXHP64,CPDp5NKDsIc,CPDqO28MBYg,CPDqQGYJOVl,CPEMCIznmuq,CPEMbfuBUFs,CPFRTtKD9_T,CPFRjAgjTrj,CPFgTsXHHMk,CPF0a8pncdD,CPF2rs5Hdz3,CPF3l0YHSLp,CPGIaw2HncA,CPGIcJYnpo5,CPGIdqIHzx-,CPGIgzHHkQd,CPGIip0Hf2Z,CPGIlC-nMYj,CPGImsjn64b,CPGIpRAHZTL,CPGIyi7nlLK,CPGI1hjHjSE,CPGI4U-ndX3,CPGI8s3Hs-8,CPGJAwXH82m,CPGJFV3nTSx,CPGVupIhygs,CPHCk2WHkQo,CPH5Ox_j9K8,CPKSIpwjanc,CPLK-LXn-_Y,CPLLKQsnhmQ,CPM2iA8j_Ej,CPM3C4YjbOI,CPNBMj5HdWa,CPPewThDu8M,CPPgJ1NDlhJ,CPQg9R0nPTk,CPQrLrfnXw0,CPSqubHHRjX,CPVFDMAjcN0,CPVFwrfD_S_,CPVFyq_hUzq,\n",
      "CPDB-v1py8G,CPDHjgCJG2X,CPDIoyQpdsT,CPDLE6LJvMm,CPDMxJjBZgc,CPDPvcSDBi4,CPDQeXNHNHx,CPDST1iB1I9,CPDUxEupYAU,CPDVjFvDmg2,CPDV1iTJP-G,CPDWLuWJjPp,CPDWr1bnox5,CPDX5mLAORj,CPDYFj5gpwi,CPDYQodgDO6,CPDYa1KgIag,CPDYk_sgI-d,CPDYvQIgSSK,CPDaMkaCoM_,CPDbwKSpUhw,CPDbH9CD2It,CPDdHLxJhJM,CPDeX_0p01N,CPDhTwHhPxZ,CPDh6I-hekx,CPDkXmTn8bs,CPDl3fXHP64,CPDp5NKDsIc,CPDqO28MBYg,CPDqQGYJOVl,CPEMCIznmuq,CPEMbfuBUFs,CPFRTtKD9_T,CPFRjAgjTrj,CPFgTsXHHMk,CPF0a8pncdD,CPF2rs5Hdz3,CPF3l0YHSLp,CPGIaw2HncA,CPGIcJYnpo5,CPGIdqIHzx-,CPGIgzHHkQd,CPGIip0Hf2Z,CPGIlC-nMYj,CPGImsjn64b,CPGIpRAHZTL,CPGIyi7nlLK,CPGI1hjHjSE,CPGI4U-ndX3,CPGI8s3Hs-8,CPGJAwXH82m,CPGJFV3nTSx,CPGVupIhygs,CPHCk2WHkQo,CPH5Ox_j9K8,CPKSIpwjanc,CPLK-LXn-_Y,CPLLKQsnhmQ,CPM2iA8j_Ej,CPM3C4YjbOI,CPNBMj5HdWa,CPPewThDu8M,CPPgJ1NDlhJ,CPQg9R0nPTk,CPQrLrfnXw0,CPSqubHHRjX,CPVFDMAjcN0,CPVFwrfD_S_,CPVFyq_hUzq,\n",
      "CPC_z6LBS6K,CPDB-v1py8G,CPDHjgCJG2X,CPDIoyQpdsT,CPDLE6LJvMm,CPDMxJjBZgc,CPDPvcSDBi4,CPDQeXNHNHx,CPDST1iB1I9,CPDUxEupYAU,CPDVjFvDmg2,CPDV1iTJP-G,CPDWLuWJjPp,CPDWr1bnox5,CPDX5mLAORj,CPDYFj5gpwi,CPDYQodgDO6,CPDYa1KgIag,CPDYk_sgI-d,CPDYvQIgSSK,CPDaMkaCoM_,CPDbwKSpUhw,CPDbH9CD2It,CPDdHLxJhJM,CPDeX_0p01N,CPDhTwHhPxZ,CPDh6I-hekx,CPDkXmTn8bs,CPDl3fXHP64,CPDp5NKDsIc,CPDqO28MBYg,CPDqQGYJOVl,CPEMCIznmuq,CPEMbfuBUFs,CPFRTtKD9_T,CPFRjAgjTrj,CPFgTsXHHMk,CPF0a8pncdD,CPF2rs5Hdz3,CPF3l0YHSLp,CPGIaw2HncA,CPGIcJYnpo5,CPGIdqIHzx-,CPGIgzHHkQd,CPGIip0Hf2Z,CPGIlC-nMYj,CPGImsjn64b,CPGIpRAHZTL,CPGIyi7nlLK,CPGI1hjHjSE,CPGI4U-ndX3,CPGI8s3Hs-8,CPGJAwXH82m,CPGJFV3nTSx,CPGVupIhygs,CPHCk2WHkQo,CPH5Ox_j9K8,CPKSIpwjanc,CPLK-LXn-_Y,CPLLKQsnhmQ,CPM2iA8j_Ej,CPM3C4YjbOI,CPNBMj5HdWa,CPPewThDu8M,CPPgJ1NDlhJ,CPQg9R0nPTk,CPQrLrfnXw0,CPSqubHHRjX,CPVFDMAjcN0,CPVFwrfD_S_,CPVFyq_hUzq,\n"
     ]
    },
    {
     "data": {
      "text/plain": [
       "'CPC_z6LBS6K,CPDB-v1py8G,CPDHjgCJG2X,CPDIoyQpdsT,CPDLE6LJvMm,CPDMxJjBZgc,CPDPvcSDBi4,CPDQeXNHNHx,CPDST1iB1I9,CPDUxEupYAU,CPDVjFvDmg2,CPDV1iTJP-G,CPDWLuWJjPp,CPDWr1bnox5,CPDX5mLAORj,CPDYFj5gpwi,CPDYQodgDO6,CPDYa1KgIag,CPDYk_sgI-d,CPDYvQIgSSK,CPDaMkaCoM_,CPDbwKSpUhw,CPDbH9CD2It,CPDdHLxJhJM,CPDeX_0p01N,CPDhTwHhPxZ,CPDh6I-hekx,CPDkXmTn8bs,CPDl3fXHP64,CPDp5NKDsIc,CPDqO28MBYg,CPDqQGYJOVl,CPEMCIznmuq,CPEMbfuBUFs,CPFRTtKD9_T,CPFRjAgjTrj,CPFgTsXHHMk,CPF0a8pncdD,CPF2rs5Hdz3,CPF3l0YHSLp,CPGIaw2HncA,CPGIcJYnpo5,CPGIdqIHzx-,CPGIgzHHkQd,CPGIip0Hf2Z,CPGIlC-nMYj,CPGImsjn64b,CPGIpRAHZTL,CPGIyi7nlLK,CPGI1hjHjSE,CPGI4U-ndX3,CPGI8s3Hs-8,CPGJAwXH82m,CPGJFV3nTSx,CPGVupIhygs,CPHCk2WHkQo,CPH5Ox_j9K8,CPKSIpwjanc,CPLK-LXn-_Y,CPLLKQsnhmQ,CPM2iA8j_Ej,CPM3C4YjbOI,CPNBMj5HdWa,CPPewThDu8M,CPPgJ1NDlhJ,CPQg9R0nPTk,CPQrLrfnXw0,CPSqubHHRjX,CPVFDMAjcN0,CPVFwrfD_S_,CPVFyq_hUzq,'"
      ]
     },
     "execution_count": 54,
     "metadata": {},
     "output_type": "execute_result"
    }
   ],
   "source": [
    "session_id='7246354813%3Ais1DG29R1ckDo5%3A19'\n",
    "\n",
    "\n",
    "headers = {\"user-agent\": \"Mozilla/5.0 (Linux; Android 6.0; Nexus 5 Build/MRA58N) AppleWebKit/537.36 (KHTML, like Gecko) Chrome/87.0.4280.88 Mobile Safari/537.36 Edg/87.0.664.57\",\n",
    "           \"cookie\": f\"sessionid={session_id};\"}\n",
    "\n",
    "list2=scrape_posts1(posts, headers=headers, pause=5, silent=False)\n",
    "list2"
   ]
  },
  {
   "cell_type": "code",
   "execution_count": 55,
   "metadata": {},
   "outputs": [],
   "source": [
    "list2\n",
    "list3=list2\n",
    "list3=list3.replace(',',' ')"
   ]
  },
  {
   "cell_type": "code",
   "execution_count": 56,
   "metadata": {},
   "outputs": [],
   "source": [
    "list4=list(list3.split(\" \"))\n",
    "list4=list4[:-1]"
   ]
  },
  {
   "cell_type": "code",
   "execution_count": 23,
   "metadata": {},
   "outputs": [],
   "source": [
    "comments_list =[]\n",
    "\n",
    "#webdriver = Chrome(r\"C:\\Users\\raina\\Downloads\\chromedriver_win32 (1)\\chromedriver.exe\")\n",
    "\n",
    "for i in list4:\n",
    "    post1 = Post(\"https://www.instagram.com/p/\"+i+\"/\")\n",
    "    post1.scrape(webdriver=webdriver)\n",
    "    webdriver.execute_script(\"window.scrollTo(0, document.body.scrollHeight);\")\n",
    "    #post1.get_recent_comments()\n",
    "    #post1.scrape()\n",
    "    comments_list.append(post1.get_recent_comments())"
   ]
  },
  {
   "cell_type": "code",
   "execution_count": 74,
   "metadata": {},
   "outputs": [],
   "source": [
    "from selenium.webdriver import ActionChains\n",
    "comment_list1=[]\n",
    "\n",
    "\n",
    "post1 = Post(\"https://www.instagram.com/p/CPVKr8NLWaW/\")\n",
    "post1.scrape(webdriver=webdriver)\n",
    "button = webdriver.find_elements_by_css_selector(\"button.dCJp8 afkep\")\n",
    "#post1.get_recent_comments()\n",
    "#post1.scrape()\n",
    "comment_list1.append(post1.get_recent_comments())"
   ]
  },
  {
   "cell_type": "code",
   "execution_count": 75,
   "metadata": {},
   "outputs": [
    {
     "data": {
      "text/plain": [
       "[[<Comment: mill.mkt: 📸📸📸🌄🌄🌄❤️,\n",
       "  <Comment: nalinischeper: @specializedmommy,\n",
       "  <Comment: sivertsens: Sick shot 🔥👏,\n",
       "  <Comment: colbybrownphotography: That’s pure magic 🙌,\n",
       "  <Comment: sivertsens: Sick shot 🔥👏,\n",
       "  <Comment: jefferywaymon: 😍😍😍😍🔥🔥🔥🔥🔥🔥🔥🔥🔥,\n",
       "  <Comment: alesalmenara: 😱😱😍😍,\n",
       "  <Comment: alisahdy76: amazing,\n",
       "  <Comment: charmak__village: 👏👏,\n",
       "  <Comment: beautyofthenation__27: 😍😍,\n",
       "  <Comment: abdesignphoto: Epic 🔥,\n",
       "  <Comment: abdesignphoto: Epic 🔥,\n",
       "  <Comment: vanessachampaneri: 😮😮,\n",
       "  <Comment: sarvesh_singh___: Wow😮😮🔥,\n",
       "  <Comment: dogleparis: 😍🔥,\n",
       "  <Comment: gavin_wadleigh_photography: 😍😍😍,\n",
       "  <Comment: marie.eds: 😲😲😲,\n",
       "  <Comment: grandmastacy5: Yikes!,\n",
       "  <Comment: icelandic_explorer: Yeah that’s wild,\n",
       "  <Comment: valeriasennasenna: @canon_photos vcs são os melhores ❤️❤️,\n",
       "  <Comment: valeriasennasenna: 😍😍😍,\n",
       "  <Comment: valeriasennasenna: 👏👏👏,\n",
       "  <Comment: phvictorlopez: Magistral 👏👏👏👏,\n",
       "  <Comment: adm.ivon.jesus: Wow]]"
      ]
     },
     "execution_count": 75,
     "metadata": {},
     "output_type": "execute_result"
    }
   ],
   "source": [
    "comment_list1"
   ]
  },
  {
   "cell_type": "code",
   "execution_count": 24,
   "metadata": {
    "scrolled": false
   },
   "outputs": [
    {
     "data": {
      "text/plain": [
       "[[],\n",
       " [],\n",
       " [],\n",
       " [],\n",
       " [<Comment: mecameraguy: man I got a job in IT but I have to buy own laptop and paid in shit,\n",
       "  <Comment: ___bhavit___: @akshatkhandelwal20 bhai agr itta asaan ho jaye toh kya baat ho h na,\n",
       "  <Comment: justkianabs: @sean_whitelock literally you,\n",
       "  <Comment: karim.elhou: Is it possible ?],\n",
       " [],\n",
       " [<Comment: nulldeveloperr: 🔥🔥🔥🔥🔥🔥🔥🔥,\n",
       "  <Comment: s3.ayed: 🙌,\n",
       "  <Comment: sh.khandagi: عالی😍👏🔥👏👏,\n",
       "  <Comment: sh.khandagi: 😍🔥🔥👏👏,\n",
       "  <Comment: reza.aslani_kh: 😍👌ممنون خیلی خوب بود,\n",
       "  <Comment: mehrshad_mod: 🔥🔥🔥🔥🔥🔥🔥🔥🔥🔥🔥,\n",
       "  <Comment: mehrab.code: خیلی کاربردی پستتون خخسته نباشید😍👏👏👏🔥,\n",
       "  <Comment: sinakratos80: میشع برا vs هم بگید 😬😍,\n",
       "  <Comment: narges.mhmdi_81: بسیار بسیار کاربردی👌🏻💯,\n",
       "  <Comment: studycode_ir: عالی و مفید 👏👏,\n",
       "  <Comment: solaiman.dev: خیلی عالی و کاربردی🔥,\n",
       "  <Comment: _icegirll___: 👏👏],\n",
       " [],\n",
       " [<Comment: code_21.py: Wonderful!! 😍 I would be honored if you would checkout my page and tell me what you think about it. 😉],\n",
       " [],\n",
       " [<Comment: agung.baskoro53: ❤️❤️],\n",
       " [],\n",
       " [],\n",
       " [<Comment: click_ldn: #click_ldn #homeinspireuk #interiorphotography #luxuryhomes  #property #dreamhome #homes #luxury #design #londonarchitecture #propertyphotography #home #styleblogger #interiors #styling #interiorinspo #design #interiorinspiration #details #lifestyle  #houseandhome #interiorphotography #interiordesign #developer #exteriordesign #londonarchitecture #artwork #interiordesigner],\n",
       " [],\n",
       " [],\n",
       " [<Comment: partecipazionicomo.it: #google #web #print #graphicdesign #graphics #wedding #weddingday #weddingideas #weddingidea #developer #javascript #javascriptdeveloper #websitedesign #grafica #digitalprinting #como #weddingard #weddingcards #weddingcomo #weddingcomolake #comolake #nozze #partecipazioninozze #partecipazionimatrimonio #partecipazioni #drservice.it #tesicomo.it #19maggio #19maggio2021],\n",
       " [],\n",
       " [],\n",
       " [],\n",
       " [],\n",
       " [],\n",
       " [<Comment: intelleeit: 😆😅],\n",
       " [<Comment: code_21.py: This is awesome!! 😍  maybe you like my post, too? 😉],\n",
       " [<Comment: code_21.py: Great !! 😃 👍 What do you think of my recent program?],\n",
       " [],\n",
       " [],\n",
       " [],\n",
       " [<Comment: abazudosen: Keep going bro,\n",
       "  <Comment: enjoytocode: Congrats, greet job! 🔥,\n",
       "  <Comment: mrwn.dev: Huge congrats buddy ! Looking forward to your 100k ! 🔥,\n",
       "  <Comment: its.icode: Congrats 🔥🔥🔥,\n",
       "  <Comment: anishwebdev: Congrats, bro🔥 check my reels,\n",
       "  <Comment: kushal_221: Congratulations 🎊,\n",
       "  <Comment: girlsdotech: Congratulations 👏🎉],\n",
       " [],\n",
       " [<Comment: bakinka_boutique: 🔥],\n",
       " [<Comment: job_interview_questions: 😂😂.. check out our page for some essential Interview tips and to enhance your communication skills and performance during interviews .. Thank you,\n",
       "  <Comment: kthaktha09: 😂😂😂😂😂😂,\n",
       "  <Comment: i_prashant.mittal_2.0: @ag0_1],\n",
       " [<Comment: isolutionsbarcelona: #isolutions #Barcelona #FantasticPeople #WorkCulture #WorkInBarcelona #BarcelonaJobs #Jobs #WeAreHiring #ITJobs #TechJobs #Careers #WorkLife #SoftwareDevelopment #SoftwareDeveloper #Developer #Coding #DeveloperLife #Engineering #Dynamics365 #Microsoft #SharePoint #CloudDevOps #dotNET #Mascots #Pets #Dog #Cat #Raccoon],\n",
       " [],\n",
       " [],\n",
       " [],\n",
       " [<Comment: nordfels_austria: .\n",
       "  .\n",
       "  .\n",
       "  .\n",
       "  .\n",
       "  #technology #robot #machine #ai #development #concept #developer #future #geek #automation #lovemyjob #job #innovation #networking #badleonfelden #beruf #elektrik #mechatronik #lehre #team #work #office #holiday #spring #hardwork  #love #instagood],\n",
       " [],\n",
       " [],\n",
       " [],\n",
       " [],\n",
       " [],\n",
       " [],\n",
       " [<Comment: technicallyf: 👏👏 awesome,\n",
       "  <Comment: java_rocjssss: 👏👏 loved the way you explained😍,\n",
       "  <Comment: ritik_singh_z: 👏👏🔥🔥,\n",
       "  <Comment: typovgjnvc: 👏👏👏],\n",
       " [],\n",
       " [<Comment: military.sd___deepu456: Dm for shoutout @militarystroong],\n",
       " [],\n",
       " [],\n",
       " [],\n",
       " [],\n",
       " [],\n",
       " [],\n",
       " [],\n",
       " [],\n",
       " [],\n",
       " [],\n",
       " [],\n",
       " [],\n",
       " [<Comment: doyoutech: 👀🍌💯],\n",
       " [<Comment: codingmemesofficial: Tags,\n",
       "  <Comment: _arjun.g.sanal_: const meme= ()=>{ console.log(\"A simple truth of Programmers \")}],\n",
       " [],\n",
       " [],\n",
       " [],\n",
       " [],\n",
       " []]"
      ]
     },
     "execution_count": 24,
     "metadata": {},
     "output_type": "execute_result"
    }
   ],
   "source": [
    "comments_list"
   ]
  },
  {
   "cell_type": "code",
   "execution_count": null,
   "metadata": {},
   "outputs": [],
   "source": []
  }
 ],
 "metadata": {
  "kernelspec": {
   "display_name": "Python 3",
   "language": "python",
   "name": "python3"
  },
  "language_info": {
   "codemirror_mode": {
    "name": "ipython",
    "version": 3
   },
   "file_extension": ".py",
   "mimetype": "text/x-python",
   "name": "python",
   "nbconvert_exporter": "python",
   "pygments_lexer": "ipython3",
   "version": "3.7.4"
  }
 },
 "nbformat": 4,
 "nbformat_minor": 4
}
