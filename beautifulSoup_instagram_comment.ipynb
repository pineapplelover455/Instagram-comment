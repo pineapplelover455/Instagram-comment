{
 "cells": [
  {
   "cell_type": "code",
   "execution_count": 1,
   "id": "126b3683",
   "metadata": {},
   "outputs": [],
   "source": [
    "from selenium import webdriver\n",
    "from bs4 import BeautifulSoup as bs\n",
    "import time\n",
    "import re\n",
    "from urllib.request import urlopen\n",
    "import json\n",
    "from pandas.io.json import json_normalize\n",
    "import pandas as pd, numpy as np\n",
    "import requests"
   ]
  },
  {
   "cell_type": "code",
   "execution_count": 2,
   "id": "99c5fe34",
   "metadata": {},
   "outputs": [],
   "source": [
    "def scroll(driver, timeout):\n",
    "    scroll_pause_time = timeout\n",
    "\n",
    "    # Get scroll height\n",
    "    last_height = driver.execute_script(\"return document.body.scrollHeight\")\n",
    "\n",
    "    while True:\n",
    "        # Scroll down to bottom\n",
    "        driver.execute_script(\"window.scrollTo(0, document.body.scrollHeight);\")\n",
    "\n",
    "        # Wait to load page\n",
    "        time.sleep(scroll_pause_time)\n",
    "\n",
    "        # Calculate new scroll height and compare with last scroll height\n",
    "        new_height = driver.execute_script(\"return document.body.scrollHeight\")\n",
    "        if new_height == last_height:\n",
    "            # If heights are the same it will exit the function\n",
    "            break\n",
    "        last_height = new_height"
   ]
  },
  {
   "cell_type": "code",
   "execution_count": 3,
   "id": "fd16dd9b",
   "metadata": {},
   "outputs": [
    {
     "name": "stderr",
     "output_type": "stream",
     "text": [
      "C:\\Users\\raina\\AppData\\Local\\Temp/ipykernel_8028/3981996571.py:2: DeprecationWarning: executable_path has been deprecated, please pass in a Service object\n",
      "  browser = webdriver.Chrome(r\"C:\\Users\\raina\\OneDrive\\Desktop\\chromedriver_win32\\chromedriver.exe\")\n"
     ]
    }
   ],
   "source": [
    "hashtag='instagram'\n",
    "browser = webdriver.Chrome(r\"C:\\Users\\raina\\OneDrive\\Desktop\\chromedriver_win32\\chromedriver.exe\")\n",
    "browser.get('https://www.instagram.com/explore/tags/'+hashtag)\n",
    "Pagelength = scroll(browser,5)"
   ]
  },
  {
   "cell_type": "code",
   "execution_count": 4,
   "id": "2a76e615",
   "metadata": {},
   "outputs": [],
   "source": [
    "\n",
    "#Extract links from hashtag page\n",
    "links=[]\n",
    "source = browser.page_source\n",
    "data=bs(source, 'html.parser')\n",
    "body = data.find('body')\n",
    "script = body.find('script', text=lambda t: t.startswith('window._sharedData'))\n",
    "page_json = script.text.split(' = ', 1)[1].rstrip(';')\n",
    "data = json.loads(page_json)\n",
    "for link in data['entry_data']['TagPage'][0]['graphql']['hashtag']['edge_hashtag_to_media']['edges']:\n",
    "    links.append('https://www.instagram.com'+'/p/'+link['node']['shortcode']+'/')"
   ]
  },
  {
   "cell_type": "code",
   "execution_count": 5,
   "id": "ddb47ce7",
   "metadata": {},
   "outputs": [
    {
     "name": "stdout",
     "output_type": "stream",
     "text": [
      "1\n"
     ]
    }
   ],
   "source": [
    "comment = []\n",
    "for i in range(len(links)):\n",
    "    browser.get(links[i])\n",
    "    #request =   urlopen('https://www.instagram.com/p/CcCuXfPsvpv/').read()\n",
    "    #requests.get('https://www.instagram.com/p/CcCuXfPsvpv/')\n",
    "    k=0\n",
    "    source = browser.page_source\n",
    "    data=bs(source, 'html.parser')\n",
    "    body = data.find('body')\n",
    "    span = data.find_all('span',\"_7UhW9 xLCgt MMzan KV-D4 se6yk T0kll\")\n",
    "    for j in span:\n",
    "        comment.append(j.text)\n",
    "        k=k+1\n",
    "print(k)   \n",
    "      \n"
   ]
  },
  {
   "cell_type": "code",
   "execution_count": 6,
   "id": "2c039903",
   "metadata": {},
   "outputs": [
    {
     "name": "stdout",
     "output_type": "stream",
     "text": [
      "👑follow me تابعونى 👑#تبریز #هيفاء_وهبي #اكسبلور #اكسبلور_فولو #مشاهير #sexy #sexylingerie #sexed #explore #explorepage #instagood #instagram #انستقرام #اينستاگرام #Instagram #directioners #tiktok #travelphotography #tbt #tflers #kiss #kanyewest #fitness #x #xxxtentacion🔥 #beautiful #quotes #wallpaper #reels #instagram #gay\n",
      "❤️⚜️.....#uncharted #uncharted2 #uncharted1 #uncharted3 #uncharted4 #unchartededit #unchartededits #nathandrake #tomholland #playstation #naughtydog #unchartedmovie #nathandrake #samdrake #markwalhberg #unchartednathan #tlou #tlou2 #instagram #samdrake #samuncharted #unchartedsam\n",
      "ALIMENTE SEU PET EM QUALQUER LUGAR, A QUALQUER HORA! 🐈🐕🐾Conheça agora a Garrafa Para Pets 2 em 1 que irá facilitar a alimentação do seu pet em passeios, viagens e etc.🌟 COMPRANDO AGORA VOCÊ GARANTE BRINDE: 2 TIGELAS; 1 PARA A RAÇÃO E OUTRA PARA A ÁGUA DO SEU PET 🐾POR R$ 149,90 ✈️ APROVEITE! ESTAMOS COM FRETE GRÁTIS PARA TODO O BRASIL! ✈️📦Clique no link e saiba mais: https://www.lojalinset.com.br/collections/queridinhosdasemana/products/garrafaparapets2em1#pet #brasil #acesssoriospet #compracerta #compraonline #fretegratis #foryou #instagram #petsofinstagram #petstagram #like #garrafas #garrafapet\n",
      "Mechas Iluminadas ⚜️#cwb #curitiba #curitilover #curitibaturismo #curitibichos #curitibaturismo #curitiba_pmc #curitibanos #curitibafood #mulheresempoderadas #mulheresquecorremcomoslobos #mulherescuritibanas #mulherescuritiba #blondehair #lojasderoupasfemininas #lojasonline #instagood #instagram #eduardomakehair #brasil #jardimbotanicocuritiba\n",
      "NOTÍCIAS RESENHA DO INTERIOR ☆#brasil #amor # #tbt #love #quarentena #paz #ınstagood #photography #riodejaneiro #ınstagood #photography #makeup #instagram #ficaemcasa #brazil #fotografia #natureza #praia #saopaulo #gratidao #moda #travel #fashion #nature #sp #beach #style #picoftheday #bomdia #beautiful #apresentador #comentarista\n",
      "#instagram #post\n",
      "KKR VS PBKS 🏏To support me plz follow @ipl_cafe #kkr #pbks #kkrvspbks #ipllive #iplstatus #ipl #ipl2022 #cricket #cricketlovers #kolkata #punjab #india #instagram #bcci\n",
      "❤️.....#newpost #instagram #viral\n",
      "Prima (LAVORO NON MIO)Dopo (LAVORO MIO )Etoilage platinum blond-gold Per info  e appuntamenti contattattaci ai numeri 051944041 / 3389239233Anche solo per una semplice consulenza!Scegli solo il buono per la cura dei tuoi capelli! #CinziaHairStylist #CasteSanPietroTerme #Bologna #Salonhair #ModaCapelli #IlMigliorsalone #CuraDeicapelli #Hair #like4likes #Medavita #instagram #instalike #facebook #photography #etoilage #graffiature #Thorchon #onde #ColoriBrillanti #CapelliPiuForti #LoveHair#Medavitainsieme#Choicecolorelite #KeratinMiracle\n",
      "........ #rec #beauty #beautynails #nailsfashion #instagram #instagood #instalike #liketime #likesforlike #followforfollowback #likeforlikes #liker #surgut #nogti #manicure #nails #nail #instanails #instanail #nailsofinstagram #surgutnails #nailsdesign #nailslay #nailart #nailsmagazine #surgut #nails #manicure #surgutnails #ногтидизайн #ногти2022 #укреплениеногтей #маникюр #маникюрныйинстаграм\n",
      "Bilerek çöpe atıp daha çok sebze meyvenin fiyat artışına sebep oldular… esas size yazıklar olsun..!!!#Repost @uyandran_anne_2 #islam #turkiye #muslumanlar #kuran #devlet #turkey #kesfet #repost #instagram #antalya #moslims #gündem #haber\n",
      "#photo #photoinsta #photography #photoinstagram #photographer #birds #instagram #romania\n",
      "¡Endulza tu día con nuestro dulce tres leche!🤩 Teléfono☎️ 846-1677#panaderia #pan #instagram #panaderos #panaderiaypasteleria\n",
      "mavi taşlı hayalet kolyemiz...💙•••••••••#instagram #instagood #keşfet #kesfetteyiz #madewithlove #munastore #takı #bijuteri #kolye #küpe #halhalmodelleri #bileklik #keşfet #kesfetteyiz #küçükişletmeleredestek #küçükişletme #çeliktakı #çelikbileklik #çelikkolye #çelikyüzük #çelikküpe #jelibonküpe #kelebekkolye\n",
      "🙂👊🇧🇷#pindamonhangaba #pinda #valedoparaiba #saopaulo #brasil 🇧🇷#nαdαєxαgєrαdσ#instagram #insta #instagood #me #followｍe #followforfollowback #picoftheday\n",
      "#google #instagram #gujranwala #gujranwala❣️ #gujrat #sialkot #jokes #sadpoetry #sad #heartouching #heartbreakquotes #trending #trendingreels ‎#GameOverIK‎#سلیکٹڈ_گھبرا_گیا #BilawalBhutto #bilawalbhuttozardari #BilawalBhuttoZardari #AseefaBhuttoZardari #AseefaBZ #PPP #gujranwala #Gujranwala\n",
      "Seja feliz neste momento. Este momento é a sua vida.🌈.....#natureza#praia#beach#euamosc#olhardesanta#santacatarina #santaebelacatarina #photooftheday #instagram #tonodiarinho#viversc#brasil#travel#sky#pordosol#sunset#ig_santacatarina #sea#ocean#betocarrero #worldshotz #inspiration #frases#instafrases#nancirenner#empreendedorismofeminino\n",
      "Akşamınız hayr olsun 💙💙💙💙Selamlar sevgiler 💫💫💫 herşey gönlünüzce olsun ❣❣👉@defnenin_ceyizi 👉@defnenin_ceyizi Sayfama hoş geldiniz.... 🧚‍♀️paylaşımlar şahsıma aittir🧚‍♀️alırken emeğe saygı gösterip lütfen etiketleyiniz ...📌yorumlarınız için teşekkür ederimYORUM YAP 🎈BEĞEN 🎈KAYDET🎈📌KEŞFETTEN💕GELENLER💕DAHA💕FAZLASI💕İÇİN💕TAKİPTE   KALIN...............❣❣❣#iğneoyası#desing#needlelace#handmadevideo#elemeginedestek#instagram#instalike#youtube#model#pinterest#keşfet#hepbirliktebüyüyoruz#örgü#ceyiz#dugun#madamcoco#englishome#izmir#ankara#sweden#yikanabilirhali#dubai\n",
      "❤️❤️❤️?........#instagram #cristianoronaldo #photography #viral #trending\n",
      ": @nureitabela @sec.educacaoitabela @prefeituraitabela @adryanna.assis..............🏷️TAG's:#serviçosocial #secretariadeeducação#serviçosocialporamor #assistentesocial #servicosocial #marketing #marketingdigital #empreendedorismo #brasil #publicidade #sucesso #instagram #business #instagood #design #love #foco #negocios #socialmedia #mktdigital #redessociais #mkt #motivação #divulgaçã #marketingmultinivel #coach\n",
      "✨3:13✨..313 says- you should maintain a positive outlook on life by maintaining a strong connection to the angelic realm...Glasses : @buckle Boots : @guess #influencers #influencer #instagram #blogger #fashion #influencerstyle #instagood #love #follow #influencermarketing #like #photography #fashionblogger #photooftheday #model #influencerdigital #spiritual #spirituality #love #meditation #spiritualawakening #healing #peace #life #god #yoga #wisdom #motivation #energy\n",
      "Send post on 👉 @black_model_product_\n",
      "Introducing a system which can help grow your business at absolutely no charge, Systeme.io: Manage up to 5,000 contacts with unlimited email sendingCreate 10 sales funnelsCreate 5 private membership sites to host your training coursesHave an unlimited number of clients for your training courses(unlike other platforms that limit the number of clients you can have)Benefit from free migration of your entire business as an annual subscriberClick here to take advantage website https://systeme.io/?sa=sa00324555586ee9c4b5d9dfcedc340f715532ccecThis offer will expire tonight at MIDNIGHT (EST)Here's to your success!Nisha Khanna#systemeio#landingpages #salesfunnels #emailmarketing #createcourses #onlinebusiness #affiliatemarketing #instareels #instagram #instabiz #instajobs #entrepreneurlife\n",
      "استغفراالله العظيم واتوب اليه ❤ اللهم صلِ وسلم على محمد وعلى آل محمد❤. #اكتب_شي_تؤجر_عليه #اكسبلور_فولو #اكسبلور #اكسبلور_explore #اكسبلور_2020 #explore #اكسبلور_فولو_للبيج #لايك_كومنت #فولو #explorer #explorepage #لايك #اكسبلورر #اكسبلور_ضيفونا #bts #exploremore #العراق #viral #edits #trending #edit #love #instagram #اكسبلور_طق_فولو✅ #كومنت #لايكات\n",
      "Buonanotte 🌙 🌙 🌙 #goodmorning #socialmediamarketing #inspiration #winterfun #likeforlike #like4like #instagram #selfie #debol#semplicity #likes#like#follow#love#instagood#photooftheday#photography#me#beatiful#fashion#comment#feliciatoader#buongiornoatutti#passione#poesie#amore#tramonti#viaggiarefollow#moto#zavorrina\n",
      "Dance with me • Le Youth, D.Y.U.••#Design #Music #coverart #art #theweeknd #graphicdesign #style #lifestyle #like #instagram #poster #artwork #colors #sneakers #night #collage #streetstyle #up #rap #house #vector #vintage #ad #cover #jayz #xo #ye #af1 #grammy\n",
      "🔫°°°°°°°°#hairstyle #photo #queen #aesthetic #goodvibes #beauty #women #outfitoftheday #outfit #life #lifestyle #diy #stylish #smile #fyp #makeup #girl #instagram #polishgirl #me\n",
      "Customer’s order Italy 🇮🇹 Kenya 🇰🇪 ...How to place order 👇📱 Call/Watsapp (link on my bio)🏬 walk in shop , ☎️ ‪+234 905 962 5420‬ 📍 Opposite Deeper Life Junction, upper stairs Beside Fine Boy bouquet, Uromi Edo State .#instagram #skincareinfluencer #explorepage #skincareroutine #felzbeautyhome\n",
      "Ció che amo del mio lavoro è aver la possibilità di scoprire sempre nuovi posti.Oggi ho avuto il piacere di visitare la location che accoglierà il matrimonio dei miei sposi del 23 Agosto S+T…incantevole!Stay tuned♥️🌿EXPERIENCE YOUR PASSION#inspection#weareinpuglia#wedding#weddinplanner#puglia#weddinginpuglia#eventmanager#weddingplanneritaly#weddingplannerlife #love#pugliagram #puglialovers #cisternino#valleditria#instagram\n",
      "Heute waren wir eine Runde spazieren😁Mit dem Wetter hatten wir sehr viel Glück, denn am stall angekommen hat es extrem stark angefangen zu schütten😳#fotografie #photography #foto #photo #photographer #photooftheday #fotograf #canon #naturephotography #natur #love #prehorse #fotografia #instagood #portrait #hobbyfotografie #pferd #instagram #deutschland #fail #landscape #liebe #fotos #travel #spanier #kokoleofriends\n",
      "Wir haben dir eine Nachricht gesendet )\n",
      "Promote it on @earth__nature.ig❣️\n",
      "Consider this is a manifestation post. At least I’m half way there.😲 #gaintrick #gainwithmchina #gainwithspikes #gain #follow me #follow #gainwithxtiandela #gainfollowers #gains #gainwithbandanafather #gaintrain #ass #nofilter #gainwithpaula #gainwithmtaaraw #gainlikefast #gainwithlarrymemes #gainwithjimmyclout #gainwithus #gainwithcarlz #gainwithbundi #instagood #instamood #instadaily #instagram #instapopular #beauty #photoftheday #bestoftheday #gainwiththeepluto\n",
      "#chistesyhumor #memepage #meme #memesespañol #memes #chistesmalos #chistescortos#dakmemes#memesdaly#memes😂#humor #españa #memes #risas  #comedia #risa #chistes #funny  #love  #venezuela #colombia #chiste #spain #instagram #follow #comedy #jajaja #instagood #humornegro\n",
      "Hoje é o dia do jornalista. #dia #do #jornalista #bahia #bomdia #brasil #jornalismo #salvador #sol #de #journalist #amor #brazil #mundo #tv #travel #instagram #love #praia #mais #fotografia #beach #day #riodejaneiro #baixadasantista #nordeste #natureza #a #entrevistas #paz\n",
      "Love it 🔰dm @paradise_of_travel\n",
      "Promote it on @earth__nature.ig❣️\n",
      "Disponível em nossa loja ou pelo atendimento online.📲 (82)99837.7611Rua Quinze de Novembro, n211. Centro - Arapiraca/Alagoas••••#vellingerie #conjuntoslingerie #lingerie #arapiraca #instagram #arapiracaalagoas #conjuntostrabalhados #novacoleção\n",
      ".It makes a great lunch or light dinner, with lots of veggies, chickpeas, and satiating avocado! You can switch up the fresh herbs as well, to use parsley, basil or cilantro. You can sub the vegan mayo for vegan yogurt, but may want to add a touch more vinegar or lemon juice for tang.The recipe is below:1 cup quinoa1/4 tsp kosher salt1/4 tsp pepper1/2 tbsp olive oilJuice of 1/2 lemon1 tsp white wine vinegar1 cup cherry or grape tomatoes, halved1/2 seedless cucumber, chopped1/2 cup (packed) roasted red peppers, drained, and sliced2 tbsp thinly sliced red onion (or finely chopped)1/4 cup (packed) olives1 tbsp fresh parsley1/2 avocado, dicedGarlic Paprika Chickpeas1 15 oz. can chickpeas, drained and rinsed2 tsp oil1/4 tsp each garlic powder, kosher salt and paprikaAvocado Dill Dressing (blend):1/2 an avocado1/4 cup vegan mayo1/4 tsp kosher salt1/4 tsp pepper1/4 tsp garlic powderJuice of 1/2 lemon2 tbsp fresh dill1 tbsp agave1 tbsp dijon mustardCook quinoa according to package directions and transfer to a large mixing bowl. Squeeze in the lemon juice, olive oil, salt, pepper, vinegar, stir.While the quinoa is cooking, chop the other ingredients and blend the dressing.Heat a large pan on medium heat and add oil, chickpeas, garlic powder and paprika. Cook for around 5 to 7 min, until the chickpeas get a bit crisp.Add all the components to the mixing bowl, stir, and top with the dressing. Add more salt and pepper if desired..#vegansalad #plantbasedsalad #eatmoreveggies #eatmoreplants  #keto #healthymeal #ketofriendly #ketoaf #dinner #ketosnacks #ketofam #ketocommunity #foodporn #foodie #ketocookies #fatlosstransformation #delicious #ketosis #weighlossmotivation #allrecipes #lowcarbmeals #ketodiet_ist #love #instagram #viral #lchf #ketomealprep #losefatfast #healthycuisines #ketochallenge�\n",
      "Um olhar Audi...@canal_adancar.....#canal_adancar #insta #instagood #instagram #viralpost #youtube #facebook #facebookpost #audi #adancar #vw #volkswagen #veiculos #carros #supercarros #hipercarros #esportivos #automoveis #automotivo #newpost #cars #auto #dubai #new #good #fyp #lovecars\n",
      "OC FORMS OUT NOW! LINK IN BIO....#Munning#mun#debate#conference#bhopal#millennialmodelun#lrimun#collaboration #event#share#instagram\n",
      "Memories... 🤔♥️ரொம்ப வசதியா ஆடம்பரமாவாழனும் என்றுஆசையில்லை. சில பேர்முன்னாடி கெத்தா வாழ்ந்துகாட்டணும் தான் ஆசை.#kallakurichi_district #kallakurichi #chennaisuperkings #photography #kolaru😇creations #kolaru_kids😇⚠️🤙🏻⚔️ #instagram #trending\n",
      "Armine 2022 yaz sezonu 🏷️Kargo ücretsiz🏷️ Havale-Eft.....#eşarp #şal #silkhome #vissona # twillipek #ürün #levidor #tesettür #kadın #tesettürelbise #tesettürmoda #kombin #twill #indirim #tbt #instalike #instagram #instamood #likeforlikes #sosyalmedya #tasarım #düzen #online #one #kalite #new #newcollection #vakko\n",
      "Happiness depends on your mindset and attitude.............👗 @lugadi_ 📷 @jst_dslr_thingz ........#fashion #style #love #instagood #like #photography #photooftheday #beautiful #follow #instagram #picoftheday #model #bhfyp #art #beauty #instadaily #me #smile#likeforlikes #followme #ootd #fashionblogger #moda #happy #myself #instalikend #cute #photo #followforfollowbackk #fashionstyle\n",
      "⏩⏩ a veces me sumo..................#workout #fitness #fitnessmotivation #gym #gymmotivation #training #trainingmotivation #instagram #wendsdayworkout #barbellsquats #squats #instagood #backsquats #strengthcoach #personaltraining #strengthtraining #instagram #strengthandconditioning #personaltrainer #strengthtraining #backsquat #instafit #workoutroutine #instagymfit #instaworkout #instatraining #workouttime #trainingtime #deadlift #fitnesstrainer #squat #deadlifts #instagood\n",
      "\"No, I'm rᥱᥲᥣᥣყ fιᥒᥱ..\"........#me #photo #girl #smile #happy #bestrong #alwaysmyself #kujicam #squaready #newpost #instagram #instasize #instame #instahappy #instagirl #instaselfie #instalike #instafollower #like #likeme #likemyphoto #likemypost #like4likes #l4l #follower #followme #follower4follower #f4f\n",
      "#makeuplovers #instagood #instagram #instalovers #instamakeup #wowlook #southindianbride #maharashtrianwedding #maharashtrianbride #smile ❤️❤️❤️❤️. Inframe @pranaali_5111 @ashw_inirathod963871  Click @photraiture  jewellery @salmakhan8181  Outfit @rajnigandhasarees_sanjaybhai\n",
      "The play of the sun and the clouds..........#mobileclick #mobile__photography___ #mobilephotography #mobilephotographer #samsung #samsungs21 #lightroomedit #lifeatgermany #german #germanydiaries #germantourism #dresdenaltstadt #dresdencity #dresden #dresdengram #dresdenneustadt #insta #instagood #saxoncity #saxony #saxonytourism #instagram #expatlife\n",
      "9-12-18-24 aylık takım ......#summer #sezon #giyim #çocukgiyim #kids #baby #babygirl #çocuk #bebek #bebe #yenidoğan #reels #instagram #antalya #manavgat #alanya #trend #gündem #yaz #elbise #moda #tarz\n",
      "✅whatsapp✅9741867756➡️📱Or DM For ORDER /QUERIES ❤️👍DM /WHATSAPPFOR WHOLESALE / RETAILSRESELLING AVAILABLE✅ 9741867756 ✅💖 FOLLOW FOR MORE COLLECTIONS 💖@inaya_hijabis_corner@bismillah_collections13The trend that wont die down and we’re not for one moment mad about it.❤Premium Tye Die hijabs juston my for ₹190 onlyMeasurement- 180cm × 70cmFabric- heavy chiffon#reels #instagram #reelsinstagram #trending #viral #love #explore #instagood #explorepage #tiktok #reelitfeelit #india #follow #photography #fyp #reel #instadaily #followforfollowback #likeforlikes #like #reelsvideo #memes #foryou #fashion #reelkarofeelkaro #music #ke #instagramreels #insta #outfitoftheday\n",
      "La gloria es tuya, mi amor te pertenece, mi canto es para alzar tu nombre, que la paz llegué a todos nuestros corazones no importa raza, religión, idioma o preferencia sexual o colo de piel 🙏#TeAmoDios ❤️🌹 #gaymexico #gaypride ——————————————————#americangirl #americanboy #instagram #instamoments #instafriends #instafollow #instagay #instagood #gaylife #gaylove #gayboy #lgbt #love #god #gay #follow #cdmx #instacool #sharewithpride #nature #beautiful #travel #photography #amor #like4like #picoftheday #gaylatino 📲\n",
      "🤎#picoftheday #post #photo #polishgirl #photomood #newpost #blogger #instagood #insta #instaphoto #instamood #instalike #instagram #instagirl #thursday #me #girl #mood #likeme #followme\n",
      "لایک فراموش نشه🥺👉🏻👈🏻💜کامنتا رو بترکونید🍑💦به دوستان تون هم معرفی کنید🥲♥️#تتلو #تتلیتی #پارتی_تهران #دافکده #اینستاگرام #instagram #تیک_تاک #ایرانی #فان #خنده #تتو #تهران #shaggy #حسن_ریوندی #استاد #nickiminaj #night #ماز_جبرانی #طنز_اجتماعی #طنزاجتماعی # #اکبراقبالی #tiktok #carporn #سارا #بیجنبه #دانشجو_بدبخت #محمدامین_کریم_پور #محمدامینکریمپور #سامان_گوران #کوسوشر_خالص\n",
      "Çalınan hesabımı heri almış bulunmaktayım en az kayıpla 🙏🥰 yine de fark edip çıkan arkadaşlarım beni bulun😂🙏🌼 #gizemogretmen #okulöncesietkinlik #okulöncesi #okulöncesipaylaşım #etkinlikonerisi#anasınıfı #anasinifietkinlik #okuloncesipaylasimlar#faaliyet#eğlence #instagram #reels #okuloncesietkinlik #preschool #kindergarden #kids #etkinlikonerisi\n",
      "پدر و مادر (عزیزترین آدم های هستی)❤️..#ehsanalikhani #explore #instagram #art #sohrabpakzad #music #moon #style #singer #edit #video #mood #mohsenebrahimzadeh #mohsenchavoshi #mohsenyeganeh #rezashiri #rezagolzar #rezabahram #shadmehr #shadmehraghili #salaraghili #mehradjam #mehdiyaghmaei #mehdiahmadvand #mehdijahani #garsharezaei #aronafshar #behnambani #hamedhomayoun #hamidsefat ..@ehsanalikhani@ehsanalikhani@ehsanalikhani\n",
      "NEWS ALERT!!🚨..Guess What??.We are now open on Mondays as well, starting 11th April 🎉So what are you waiting for? Come and enjoy your favourite meal at Indos Broughty Ferry and Cupar😍..Book Your table now!! 🥂#indosbroughtyferry #indoscupar #bangladeshirestaurants #broughtyferry #cupar #indianmeal #dundee #restaurant #bestindundee #food #instagram\n",
      "#poesia #poesiaitaliana #scrittura #scrivilosuimuri #frasi #aforismi #poeta #foto #buonanotte #muridiversi #poeti #scrivere #instagram #poetry #buonanotte #leggere #versi #amoremio #sentimento #montagna #amore #ali #luna #sogni #pensieri #pensierieparole #frasedelgiorno #cuore #padova #buongiorno #sole\n",
      "“No one is perfect - that’s why pencils have erasers.”#likefollow #like #follow #likes #likeforlikes #likeforfollow #followforfollowback #instagram #likesforlike #likeforlikeback #liketime #likelike #followers #instalike #instagood #love #followback #likeme #likeforlike #lfl #likephoto #likers #liker #l #me #e #followme #likelikelike #comment #liked4liked\n",
      "Send post on 👉 @black_model_product_\n",
      "#instagram #instagood #love #like #follow #photography #photooftheday #instadaily #likeforlikes #picoftheday #fashion #instalike #beautiful #bhfyp #followforfollowback #likes #art #me #photo #followme #smile #happy #style #nature #myself #insta #life #likeforfollow #india #l\n",
      "#instagram #instagood #love #like #follow #photography #photooftheday #instadaily #likeforlikes #picoftheday #fashion #instalike #beautiful #bhfyp #followforfollowback #likes #art #me #photo #followme #smile #happy #style #nature #myself #insta #life #likeforfollow #india #l\n",
      "#instagram #instagood #love #like #follow #photography #photooftheday #instadaily #likeforlikes #picoftheday #fashion #instalike #beautiful #bhfyp #followforfollowback #likes #art #me #photo #followme #smile #happy #style #nature #myself #insta #life #likeforfollow #india #l\n",
      "🌙 Buona serata a tutti 👮🏻‍♀️🇮🇹...#instagram #instagood#poliziadistato #carabinieri #poliziapenitenziaria #vigilidelfuoco#guardiadifinanza #neisecolifedele #essercisempre#italian_police #operatoridipolizia #policeman#possiamoaiutarvi #alserviziodelcittadino #forzedellordine #policewoman #divisenelcuore #operatoricarabinieri #donneindivisa#esercitoitaliano #armadeicarabinieri #angeliindivisa #atwork\n",
      "Rübabe Muradova-\"Unuda bilmirem\"#retro #retromusic #retrogabala#tehminezaur#milli#70ler #millimusiqi #kaman#dünyam #instagram ##yadinasal#sir\n",
      "🎧\n",
      "💓\n",
      "It’s weekend, guys…“FORMAT” your mind! 🌴🕊From Berlin with peace & love 📸🚶🏻‍♂️#me #photographer #coaching #garden #fotografie #liebe #sunset #art #goodvibes #instagram #sun #success #instagood #style #mindset #peaceful #positivevibes #forest #faith #green #photography #healthy #fitness #rain #health #nature #sky #healthyliving #healthylifestyle #break\n",
      "#travel #travelphotography #photography #nature #travelgram #love #photooftheday #instagood #instatravel #wanderlust #travelblogger #summer #trip #adventure #traveling #vacation #travelling #explore #picoftheday #holiday #landscape #instagram #beautiful #ig #beach #photo #art #like #traveler #bhfyp\n",
      "하트 반대로 하는 너는 혼나야해 🥲\n",
      "Tbt #calisthenics #fitness #workout #streetworkout #motivation #gym #handstand #fitnessmotivation #training #gymnastics #calistenia #calisthenicsworkout #fitness #bodyweight #bodybuilding #crossfit #instagram #yoga #bodyweighttraining #picoftheday #barstarzz #calisthenicsmovement #instagood #sport #planche #photography #bodyweightworkout #workoutmotivation #calisteniabrasil\n",
      "Mirror check🪞!#throwback #throwbackthursday #transformation #changes #mirrorselfie #mirrorgram #mirrorimage #mirrorcheck #reverseaging #instagood #instapic #instamood #instagram #instafit #fitlife #fitness #fitfam #fit #black #greys #saltnpepper #silverfox #google #googlepixel #pixelphotography #pixel6pro #toomanyhashtags #okbye\n",
      "🐾🐾#photo #cat #catlover #british #scottish #likeforlikes #love #followforfollowback #instagram #cookie #şila #🐾\n",
      "X-MEN\n",
      "Exploring Germany!! Driving through the mountains, walking the streets of little towns, meeting your friends and family, seeing where you grew up. Germany was everything you told me it would be and more!! Thanks for sharing this experience with me I can’t wait to go back!! 🇩🇪 #germany\n",
      "1er plat :  tadjine lahlou , 🍯Une explosion de saveurs qui régale nos papilles.Saha ftorkom Follow ➡️➡️ @cuisine_el_bahdja Follow ➡️➡️ @cuisine_el_bahdjaFollow ➡️➡️ @cuisine_el_bahdja➖➖➖➖➖➖➖➖➖➖➖➖➖➖#gourmandise #ramadan #tajinelahlou #foodporn #foodphotography #foodphoto #foodblogger #dzair #gouter #delicious #gateauauchocolat #foodstyling #instagram #instapic #faitmaison #foodie #foodies #foodstagram #foodlover #sweet #ramadankareem #foodstyling #patisserie #delicious #sahaftorkoum#رمضان #حلويات_جزائرية #رمضان_يجمعنا #طاجين_لحلو_الجزائري #المطبخ_الجزائري #شهيوات #الجزائر\n",
      "Send pic on 📸  @food_promo__ig_\n",
      "DM it  @cuisine_.culture_\n",
      "Promote it DM @house_of_food._\n",
      "𝕡𝕚𝕔 𝕤𝕖𝕟𝕕 𝕠𝕟👉 @food_paradise_gallery 😍\n",
      "Send Pic 💖 @thefoodsvibe\n",
      "Send post on  @FOOD__HUB_IG\n",
      "I’m gemini & marilyn’s gemini that’s it@princess_eba7 @princess_eba7 @princess_eba7 @princess_eba7 #リヴァイ兵長 #リヴァイ‏#artist #beauty #art #love #like #explore ‏‎‏#art #artwork #artist #drawing #color #arts #painting #anime #color # #instagood #illustration #イラスト ‏@princess_eba7 ‏#リヴァイ兵長 #リヴァイ ‏ #fashion #selfie #instagood #explore #love #اكسبلور #instagram #follow #nature #exploremore #photography #fashion #fashion #셀카 #selfie #instagood #explore #love #followforfollowback #اكسبلور #instagram #follow #photography #fashion #makeup #StatStory #اكسبلور #explore #art #makeup #اكسبلور #explore . . ...... ....‏.#explore #explore #explore #explore #explore‏.#explore #explore #explore #explore #explore #explore ‏.#explore #explore #explore #explore #explore #explore ‏.#explore #explore #explore #explore #explore #explore ‏.#explore #explore #explore #explore #explore #explore‏.#explore #explore #explore #explore #explore‏.#explore #explore #explore #explore #explore #explore ‏.#explore #explore #explore #explore #explore #explore ‏.#explore #explore #explore #explore #explore #explore ‏.#explore #explore #explore #explore #explore\n",
      "A na niebie księżyc i żurawie................#poland #pomorskie #kaszuby #sky #skyporn #moon #crane #cranebird #red #blue #igerspoland #nature #travelphotography #sunset #nft #birds #nationalgeographic #mobilephotography #instagood #filmphotography #instadaily #beautiful #instagram #skyporn #LGG5 #lgg5photography #naturephotography #igersgdansk #instagood #nature #horizon #jelenskahuta\n"
     ]
    }
   ],
   "source": [
    "for i in range(len(comment)):\n",
    "    print(comment[i])"
   ]
  },
  {
   "cell_type": "code",
   "execution_count": 13,
   "id": "79257466",
   "metadata": {},
   "outputs": [],
   "source": [
    "comment_dict={}\n",
    "num=[]\n",
    "for i in range(len(comment)):\n",
    "    num.append(i)\n",
    "\n",
    "comment_dict=dict(zip(num, comment))"
   ]
  },
  {
   "cell_type": "code",
   "execution_count": 14,
   "id": "43b238de",
   "metadata": {
    "scrolled": false
   },
   "outputs": [
    {
     "data": {
      "text/plain": [
       "{0: '👑follow me تابعونى 👑#تبریز #هيفاء_وهبي #اكسبلور #اكسبلور_فولو #مشاهير #sexy #sexylingerie #sexed #explore #explorepage #instagood #instagram #انستقرام #اينستاگرام #Instagram #directioners #tiktok #travelphotography #tbt #tflers #kiss #kanyewest #fitness #x #xxxtentacion🔥 #beautiful #quotes #wallpaper #reels #instagram #gay',\n",
       " 1: '❤️⚜️.....#uncharted #uncharted2 #uncharted1 #uncharted3 #uncharted4 #unchartededit #unchartededits #nathandrake #tomholland #playstation #naughtydog #unchartedmovie #nathandrake #samdrake #markwalhberg #unchartednathan #tlou #tlou2 #instagram #samdrake #samuncharted #unchartedsam',\n",
       " 2: 'ALIMENTE SEU PET EM QUALQUER LUGAR, A QUALQUER HORA! 🐈🐕🐾Conheça agora a Garrafa Para Pets 2 em 1 que irá facilitar a alimentação do seu pet em passeios, viagens e etc.🌟 COMPRANDO AGORA VOCÊ GARANTE BRINDE: 2 TIGELAS; 1 PARA A RAÇÃO E OUTRA PARA A ÁGUA DO SEU PET 🐾POR R$ 149,90 ✈️ APROVEITE! ESTAMOS COM FRETE GRÁTIS PARA TODO O BRASIL! ✈️📦Clique no link e saiba mais: https://www.lojalinset.com.br/collections/queridinhosdasemana/products/garrafaparapets2em1#pet #brasil #acesssoriospet #compracerta #compraonline #fretegratis #foryou #instagram #petsofinstagram #petstagram #like #garrafas #garrafapet',\n",
       " 3: 'Mechas Iluminadas ⚜️#cwb #curitiba #curitilover #curitibaturismo #curitibichos #curitibaturismo #curitiba_pmc #curitibanos #curitibafood #mulheresempoderadas #mulheresquecorremcomoslobos #mulherescuritibanas #mulherescuritiba #blondehair #lojasderoupasfemininas #lojasonline #instagood #instagram #eduardomakehair #brasil #jardimbotanicocuritiba',\n",
       " 4: 'NOTÍCIAS RESENHA DO INTERIOR ☆#brasil #amor # #tbt #love #quarentena #paz #ınstagood #photography #riodejaneiro #ınstagood #photography #makeup #instagram #ficaemcasa #brazil #fotografia #natureza #praia #saopaulo #gratidao #moda #travel #fashion #nature #sp #beach #style #picoftheday #bomdia #beautiful #apresentador #comentarista',\n",
       " 5: '#instagram #post',\n",
       " 6: 'KKR VS PBKS 🏏To support me plz follow @ipl_cafe #kkr #pbks #kkrvspbks #ipllive #iplstatus #ipl #ipl2022 #cricket #cricketlovers #kolkata #punjab #india #instagram #bcci',\n",
       " 7: '❤️.....#newpost #instagram #viral',\n",
       " 8: 'Prima (LAVORO NON MIO)Dopo (LAVORO MIO )Etoilage platinum blond-gold Per info\\xa0 e appuntamenti contattattaci ai numeri 051944041 / 3389239233Anche solo per una semplice consulenza!Scegli solo il buono per la cura dei tuoi capelli! #CinziaHairStylist #CasteSanPietroTerme #Bologna #Salonhair #ModaCapelli #IlMigliorsalone #CuraDeicapelli #Hair #like4likes #Medavita #instagram #instalike #facebook #photography #etoilage #graffiature #Thorchon #onde #ColoriBrillanti #CapelliPiuForti #LoveHair#Medavitainsieme#Choicecolorelite #KeratinMiracle',\n",
       " 9: '........ #rec #beauty #beautynails #nailsfashion #instagram #instagood #instalike #liketime #likesforlike #followforfollowback #likeforlikes #liker #surgut #nogti #manicure #nails #nail #instanails #instanail #nailsofinstagram #surgutnails #nailsdesign #nailslay #nailart #nailsmagazine #surgut #nails #manicure #surgutnails #ногтидизайн #ногти2022 #укреплениеногтей #маникюр #маникюрныйинстаграм',\n",
       " 10: 'Bilerek çöpe atıp daha çok sebze meyvenin fiyat artışına sebep oldular… esas size yazıklar olsun..!!!#Repost @uyandran_anne_2 #islam #turkiye #muslumanlar #kuran #devlet #turkey #kesfet #repost #instagram #antalya #moslims #gündem #haber',\n",
       " 11: '#photo #photoinsta #photography #photoinstagram #photographer #birds #instagram #romania',\n",
       " 12: '¡Endulza tu día con nuestro dulce tres leche!🤩 Teléfono☎️ 846-1677#panaderia #pan #instagram #panaderos #panaderiaypasteleria',\n",
       " 13: 'mavi taşlı hayalet kolyemiz...💙•••••••••#instagram #instagood #keşfet #kesfetteyiz #madewithlove #munastore #takı #bijuteri #kolye #küpe #halhalmodelleri #bileklik #keşfet #kesfetteyiz #küçükişletmeleredestek #küçükişletme #çeliktakı #çelikbileklik #çelikkolye #çelikyüzük #çelikküpe #jelibonküpe #kelebekkolye',\n",
       " 14: '🙂👊🇧🇷#pindamonhangaba #pinda #valedoparaiba #saopaulo #brasil 🇧🇷#nαdαєxαgєrαdσ#instagram #insta #instagood #me #followｍe #followforfollowback #picoftheday',\n",
       " 15: '#google #instagram #gujranwala #gujranwala❣️ #gujrat #sialkot #jokes #sadpoetry #sad #heartouching #heartbreakquotes #trending #trendingreels \\u200e#GameOverIK\\u200e#سلیکٹڈ_گھبرا_گیا #BilawalBhutto #bilawalbhuttozardari #BilawalBhuttoZardari #AseefaBhuttoZardari #AseefaBZ #PPP #gujranwala #Gujranwala',\n",
       " 16: 'Seja feliz neste momento. Este momento é a sua vida.🌈.....#natureza#praia#beach#euamosc#olhardesanta#santacatarina #santaebelacatarina #photooftheday #instagram #tonodiarinho#viversc#brasil#travel#sky#pordosol#sunset#ig_santacatarina #sea#ocean#betocarrero #worldshotz #inspiration #frases#instafrases#nancirenner#empreendedorismofeminino',\n",
       " 17: 'Akşamınız hayr olsun 💙💙💙💙Selamlar sevgiler 💫💫💫 herşey gönlünüzce olsun ❣❣👉@defnenin_ceyizi 👉@defnenin_ceyizi Sayfama hoş geldiniz.... 🧚\\u200d♀️paylaşımlar şahsıma aittir🧚\\u200d♀️alırken emeğe saygı gösterip lütfen etiketleyiniz ...📌yorumlarınız için teşekkür ederimYORUM YAP 🎈BEĞEN 🎈KAYDET🎈📌KEŞFETTEN💕GELENLER💕DAHA💕FAZLASI💕İÇİN💕TAKİPTE\\xa0\\xa0 KALIN...............❣❣❣#iğneoyası#desing#needlelace#handmadevideo#elemeginedestek#instagram#instalike#youtube#model#pinterest#keşfet#hepbirliktebüyüyoruz#örgü#ceyiz#dugun#madamcoco#englishome#izmir#ankara#sweden#yikanabilirhali#dubai',\n",
       " 18: '❤️❤️❤️?........#instagram #cristianoronaldo #photography #viral #trending',\n",
       " 19: \": @nureitabela @sec.educacaoitabela @prefeituraitabela @adryanna.assis..............🏷️TAG's:#serviçosocial #secretariadeeducação#serviçosocialporamor #assistentesocial #servicosocial #marketing #marketingdigital #empreendedorismo #brasil #publicidade #sucesso #instagram #business #instagood #design #love #foco #negocios #socialmedia #mktdigital #redessociais #mkt #motivação #divulgaçã #marketingmultinivel #coach\",\n",
       " 20: '✨3:13✨..313 says- you should maintain a positive outlook on life by maintaining a strong connection to the angelic realm...Glasses : @buckle Boots : @guess #influencers #influencer #instagram #blogger #fashion #influencerstyle #instagood #love #follow #influencermarketing #like #photography #fashionblogger #photooftheday #model #influencerdigital #spiritual #spirituality #love #meditation #spiritualawakening #healing #peace #life #god #yoga #wisdom #motivation #energy',\n",
       " 21: 'Send post on 👉 @black_model_product_',\n",
       " 22: \"Introducing a system which can help grow your business at absolutely no charge, Systeme.io: Manage up to 5,000 contacts with unlimited email sendingCreate 10\\xa0sales funnelsCreate\\xa05\\xa0private membership sites\\xa0to host your training coursesHave an\\xa0unlimited number of clients\\xa0for your training courses(unlike other platforms that limit the number of clients you can have)Benefit from\\xa0free migration of your entire business\\xa0as an annual subscriberClick here to take advantage website https://systeme.io/?sa=sa00324555586ee9c4b5d9dfcedc340f715532ccecThis offer will expire\\xa0tonight at MIDNIGHT\\xa0(EST)Here's to your success!Nisha Khanna#systemeio#landingpages #salesfunnels #emailmarketing #createcourses #onlinebusiness #affiliatemarketing #instareels #instagram #instabiz #instajobs #entrepreneurlife\",\n",
       " 23: 'استغفراالله العظيم واتوب اليه ❤ اللهم صلِ وسلم على محمد وعلى آل محمد❤. #اكتب_شي_تؤجر_عليه #اكسبلور_فولو #اكسبلور #اكسبلور_explore #اكسبلور_2020 #explore #اكسبلور_فولو_للبيج #لايك_كومنت #فولو #explorer #explorepage #لايك #اكسبلورر #اكسبلور_ضيفونا #bts #exploremore #العراق #viral #edits #trending #edit #love #instagram #اكسبلور_طق_فولو✅ #كومنت #لايكات',\n",
       " 24: 'Buonanotte 🌙 🌙 🌙 #goodmorning #socialmediamarketing #inspiration #winterfun #likeforlike #like4like #instagram #selfie #debol#semplicity #likes#like#follow#love#instagood#photooftheday#photography#me#beatiful#fashion#comment#feliciatoader#buongiornoatutti#passione#poesie#amore#tramonti#viaggiarefollow#moto#zavorrina',\n",
       " 25: 'Dance with me • Le Youth, D.Y.U.••#Design #Music #coverart #art #theweeknd #graphicdesign #style #lifestyle #like #instagram #poster #artwork #colors #sneakers #night #collage #streetstyle #up #rap #house #vector #vintage #ad #cover #jayz #xo #ye #af1 #grammy',\n",
       " 26: '🔫°°°°°°°°#hairstyle #photo #queen #aesthetic #goodvibes #beauty #women #outfitoftheday #outfit #life #lifestyle #diy #stylish #smile #fyp #makeup #girl #instagram #polishgirl #me',\n",
       " 27: 'Customer’s order Italy 🇮🇹 Kenya 🇰🇪 ...How to place order 👇📱 Call/Watsapp (link on my bio)🏬 walk in shop , ☎️ \\u202a+234\\xa0905\\xa0962\\xa05420\\u202c 📍 Opposite Deeper Life Junction, upper stairs Beside Fine Boy bouquet, Uromi Edo State .#instagram #skincareinfluencer #explorepage #skincareroutine #felzbeautyhome',\n",
       " 28: 'Ció che amo del mio lavoro è aver la possibilità di scoprire sempre nuovi posti.Oggi ho avuto il piacere di visitare la location che accoglierà il matrimonio dei miei sposi del 23 Agosto S+T…incantevole!Stay tuned♥️🌿EXPERIENCE YOUR PASSION#inspection#weareinpuglia#wedding#weddinplanner#puglia#weddinginpuglia#eventmanager#weddingplanneritaly#weddingplannerlife #love#pugliagram #puglialovers #cisternino#valleditria#instagram',\n",
       " 29: 'Heute waren wir eine Runde spazieren😁Mit dem Wetter hatten wir sehr viel Glück, denn am stall angekommen hat es extrem stark angefangen zu schütten😳#fotografie #photography #foto #photo #photographer #photooftheday #fotograf #canon #naturephotography #natur #love #prehorse #fotografia #instagood #portrait #hobbyfotografie #pferd #instagram #deutschland #fail #landscape #liebe #fotos #travel #spanier #kokoleofriends',\n",
       " 30: 'Wir haben dir eine Nachricht gesendet )',\n",
       " 31: 'Promote it on @earth__nature.ig❣️',\n",
       " 32: 'Consider this is a manifestation post. At least I’m half way there.😲 #gaintrick #gainwithmchina #gainwithspikes #gain #follow me #follow #gainwithxtiandela #gainfollowers #gains #gainwithbandanafather #gaintrain #ass #nofilter #gainwithpaula #gainwithmtaaraw #gainlikefast #gainwithlarrymemes #gainwithjimmyclout #gainwithus #gainwithcarlz #gainwithbundi #instagood #instamood #instadaily #instagram #instapopular #beauty #photoftheday #bestoftheday #gainwiththeepluto',\n",
       " 33: '#chistesyhumor #memepage #meme #memesespañol #memes #chistesmalos #chistescortos#dakmemes#memesdaly#memes😂#humor #españa #memes #risas\\xa0 #comedia #risa #chistes #funny\\xa0 #love\\xa0 #venezuela #colombia #chiste #spain #instagram #follow #comedy #jajaja #instagood #humornegro',\n",
       " 34: 'Hoje é o dia do jornalista. #dia #do #jornalista #bahia #bomdia #brasil #jornalismo #salvador #sol #de #journalist #amor #brazil #mundo #tv #travel #instagram #love #praia #mais #fotografia #beach #day #riodejaneiro #baixadasantista #nordeste #natureza #a #entrevistas #paz',\n",
       " 35: 'Love it 🔰dm @paradise_of_travel',\n",
       " 36: 'Promote it on @earth__nature.ig❣️',\n",
       " 37: 'Disponível em nossa loja ou pelo atendimento online.📲 (82)99837.7611Rua Quinze de Novembro, n211. Centro - Arapiraca/Alagoas••••#vellingerie #conjuntoslingerie #lingerie #arapiraca #instagram #arapiracaalagoas #conjuntostrabalhados #novacoleção',\n",
       " 38: '.It makes a great lunch or light dinner, with lots of veggies, chickpeas, and satiating avocado! You can switch up the fresh herbs as well, to use parsley, basil or cilantro. You can sub the vegan mayo for vegan yogurt, but may want to add a touch more vinegar or lemon juice for tang.The recipe is below:1 cup quinoa1/4 tsp kosher salt1/4 tsp pepper1/2 tbsp olive oilJuice of 1/2 lemon1 tsp white wine vinegar1 cup cherry or grape tomatoes, halved1/2 seedless cucumber, chopped1/2 cup (packed) roasted red peppers, drained, and sliced2 tbsp thinly sliced red onion (or finely chopped)1/4 cup (packed) olives1 tbsp fresh parsley1/2 avocado, dicedGarlic Paprika Chickpeas1 15 oz. can chickpeas, drained and rinsed2 tsp oil1/4 tsp each garlic powder, kosher salt and paprikaAvocado Dill Dressing (blend):1/2 an avocado1/4 cup vegan mayo1/4 tsp kosher salt1/4 tsp pepper1/4 tsp garlic powderJuice of 1/2 lemon2 tbsp fresh dill1 tbsp agave1 tbsp dijon mustardCook quinoa according to package directions and transfer to a large mixing bowl. Squeeze in the lemon juice, olive oil, salt, pepper, vinegar, stir.While the quinoa is cooking, chop the other ingredients and blend the dressing.Heat a large pan on medium heat and add oil, chickpeas, garlic powder and paprika.\\xa0Cook for around 5 to 7 min, until the chickpeas get a bit crisp.Add all the components to the mixing bowl, stir, and top with the dressing. Add more salt and pepper if desired..#vegansalad\\xa0#plantbasedsalad\\xa0#eatmoreveggies\\xa0#eatmoreplants\\xa0 #keto #healthymeal #ketofriendly #ketoaf #dinner #ketosnacks #ketofam #ketocommunity #foodporn #foodie #ketocookies #fatlosstransformation #delicious #ketosis #weighlossmotivation #allrecipes #lowcarbmeals #ketodiet_ist #love #instagram #viral #lchf #ketomealprep #losefatfast #healthycuisines #ketochallenge�',\n",
       " 39: 'Um olhar Audi...@canal_adancar.....#canal_adancar #insta #instagood #instagram #viralpost #youtube #facebook #facebookpost #audi #adancar #vw #volkswagen #veiculos #carros #supercarros #hipercarros #esportivos #automoveis #automotivo #newpost #cars #auto #dubai #new #good #fyp #lovecars',\n",
       " 40: 'OC FORMS OUT NOW! LINK IN BIO....#Munning#mun#debate#conference#bhopal#millennialmodelun#lrimun#collaboration #event#share#instagram',\n",
       " 41: 'Memories... 🤔♥️ரொம்ப வசதியா ஆடம்பரமாவாழனும் என்றுஆசையில்லை. சில பேர்முன்னாடி கெத்தா வாழ்ந்துகாட்டணும் தான் ஆசை.#kallakurichi_district #kallakurichi #chennaisuperkings #photography #kolaru😇creations #kolaru_kids😇⚠️🤙🏻⚔️ #instagram #trending',\n",
       " 42: 'Armine 2022 yaz sezonu 🏷️Kargo ücretsiz🏷️ Havale-Eft.....#eşarp #şal #silkhome #vissona # twillipek #ürün #levidor #tesettür #kadın #tesettürelbise #tesettürmoda #kombin #twill #indirim #tbt #instalike #instagram #instamood #likeforlikes #sosyalmedya #tasarım #düzen #online #one #kalite #new #newcollection #vakko',\n",
       " 43: 'Happiness depends on your mindset and attitude.............👗 @lugadi_ 📷 @jst_dslr_thingz ........#fashion #style #love #instagood #like #photography #photooftheday #beautiful #follow #instagram #picoftheday #model #bhfyp #art #beauty #instadaily #me #smile#likeforlikes #followme #ootd #fashionblogger #moda #happy #myself #instalikend #cute #photo #followforfollowbackk #fashionstyle',\n",
       " 44: '⏩⏩ a veces me sumo..................#workout #fitness #fitnessmotivation #gym #gymmotivation #training #trainingmotivation #instagram #wendsdayworkout #barbellsquats #squats #instagood #backsquats #strengthcoach #personaltraining #strengthtraining #instagram #strengthandconditioning #personaltrainer #strengthtraining #backsquat #instafit #workoutroutine #instagymfit #instaworkout #instatraining #workouttime #trainingtime #deadlift #fitnesstrainer #squat #deadlifts #instagood',\n",
       " 45: '\"No, I\\'m rᥱᥲᥣᥣყ fιᥒᥱ..\"........#me #photo #girl #smile #happy #bestrong #alwaysmyself #kujicam #squaready #newpost #instagram #instasize #instame #instahappy #instagirl #instaselfie #instalike #instafollower #like #likeme #likemyphoto #likemypost #like4likes #l4l #follower #followme #follower4follower #f4f',\n",
       " 46: '#makeuplovers #instagood #instagram #instalovers #instamakeup #wowlook #southindianbride #maharashtrianwedding #maharashtrianbride #smile ❤️❤️❤️❤️. Inframe @pranaali_5111 @ashw_inirathod963871  Click @photraiture  jewellery @salmakhan8181  Outfit @rajnigandhasarees_sanjaybhai',\n",
       " 47: 'The play of the sun and the clouds..........#mobileclick #mobile__photography___ #mobilephotography #mobilephotographer #samsung #samsungs21 #lightroomedit #lifeatgermany #german #germanydiaries #germantourism #dresdenaltstadt #dresdencity #dresden #dresdengram #dresdenneustadt #insta #instagood #saxoncity #saxony #saxonytourism #instagram #expatlife',\n",
       " 48: '9-12-18-24 aylık takım ......#summer #sezon #giyim #çocukgiyim #kids #baby #babygirl #çocuk #bebek #bebe #yenidoğan #reels #instagram #antalya #manavgat #alanya #trend #gündem #yaz #elbise #moda #tarz',\n",
       " 49: '✅whatsapp✅9741867756➡️📱Or DM For ORDER /QUERIES ❤️👍DM /WHATSAPPFOR WHOLESALE / RETAILSRESELLING AVAILABLE✅ 9741867756 ✅💖 FOLLOW FOR MORE COLLECTIONS 💖@inaya_hijabis_corner@bismillah_collections13The trend that wont die down and we’re not for one moment mad about it.❤Premium Tye Die hijabs juston my for ₹190 onlyMeasurement- 180cm × 70cmFabric- heavy chiffon#reels #instagram #reelsinstagram #trending #viral #love #explore #instagood #explorepage #tiktok #reelitfeelit #india #follow #photography #fyp #reel #instadaily #followforfollowback #likeforlikes #like #reelsvideo #memes #foryou #fashion #reelkarofeelkaro #music #ke #instagramreels #insta #outfitoftheday',\n",
       " 50: 'La gloria es tuya, mi amor te pertenece, mi canto es para alzar tu nombre, que la paz llegué a todos nuestros corazones no importa raza, religión, idioma o preferencia sexual o colo de piel 🙏#TeAmoDios ❤️🌹 #gaymexico #gaypride ——————————————————#americangirl #americanboy #instagram #instamoments #instafriends #instafollow #instagay #instagood #gaylife #gaylove #gayboy #lgbt #love #god #gay #follow #cdmx #instacool #sharewithpride #nature #beautiful #travel #photography #amor #like4like #picoftheday #gaylatino 📲',\n",
       " 51: '🤎#picoftheday #post #photo #polishgirl #photomood #newpost #blogger #instagood #insta #instaphoto #instamood #instalike #instagram #instagirl #thursday #me #girl #mood #likeme #followme',\n",
       " 52: 'لایک فراموش نشه🥺👉🏻👈🏻💜کامنتا رو بترکونید🍑💦به دوستان تون هم معرفی کنید🥲♥️#تتلو #تتلیتی #پارتی_تهران #دافکده #اینستاگرام #instagram #تیک_تاک #ایرانی #فان #خنده #تتو #تهران #shaggy #حسن_ریوندی #استاد #nickiminaj #night #ماز_جبرانی #طنز_اجتماعی #طنزاجتماعی # #اکبراقبالی #tiktok #carporn #سارا #بیجنبه #دانشجو_بدبخت #محمدامین_کریم_پور #محمدامینکریمپور #سامان_گوران #کوسوشر_خالص',\n",
       " 53: 'Çalınan hesabımı heri almış bulunmaktayım en az kayıpla 🙏🥰 yine de fark edip çıkan arkadaşlarım beni bulun😂🙏🌼 #gizemogretmen #okulöncesietkinlik #okulöncesi #okulöncesipaylaşım #etkinlikonerisi#anasınıfı #anasinifietkinlik #okuloncesipaylasimlar#faaliyet#eğlence #instagram #reels #okuloncesietkinlik #preschool #kindergarden #kids #etkinlikonerisi',\n",
       " 54: 'پدر و مادر (عزیزترین آدم های هستی)❤️..#ehsanalikhani #explore #instagram #art #sohrabpakzad #music #moon #style #singer #edit #video #mood #mohsenebrahimzadeh #mohsenchavoshi #mohsenyeganeh #rezashiri #rezagolzar #rezabahram #shadmehr #shadmehraghili #salaraghili #mehradjam #mehdiyaghmaei #mehdiahmadvand #mehdijahani #garsharezaei #aronafshar #behnambani #hamedhomayoun #hamidsefat ..@ehsanalikhani@ehsanalikhani@ehsanalikhani',\n",
       " 55: 'NEWS ALERT!!🚨..Guess What??.We are now open on Mondays as well, starting 11th April 🎉So what are you waiting for? Come and enjoy your favourite meal at Indos Broughty Ferry and Cupar😍..Book Your table now!! 🥂#indosbroughtyferry #indoscupar #bangladeshirestaurants #broughtyferry #cupar #indianmeal #dundee #restaurant #bestindundee #food #instagram',\n",
       " 56: '#poesia #poesiaitaliana #scrittura #scrivilosuimuri #frasi #aforismi #poeta #foto #buonanotte #muridiversi #poeti #scrivere #instagram #poetry #buonanotte #leggere #versi #amoremio #sentimento #montagna #amore #ali #luna #sogni #pensieri #pensierieparole #frasedelgiorno #cuore #padova #buongiorno #sole',\n",
       " 57: '“No one is perfect - that’s why pencils have erasers.”#likefollow #like #follow #likes #likeforlikes #likeforfollow #followforfollowback #instagram #likesforlike #likeforlikeback #liketime #likelike #followers #instalike #instagood #love #followback #likeme #likeforlike #lfl #likephoto #likers #liker #l #me #e #followme #likelikelike #comment #liked4liked',\n",
       " 58: 'Send post on 👉 @black_model_product_',\n",
       " 59: '#instagram #instagood #love #like #follow #photography #photooftheday #instadaily #likeforlikes #picoftheday #fashion #instalike #beautiful #bhfyp #followforfollowback #likes #art #me #photo #followme #smile #happy #style #nature #myself #insta #life #likeforfollow #india #l',\n",
       " 60: '#instagram #instagood #love #like #follow #photography #photooftheday #instadaily #likeforlikes #picoftheday #fashion #instalike #beautiful #bhfyp #followforfollowback #likes #art #me #photo #followme #smile #happy #style #nature #myself #insta #life #likeforfollow #india #l',\n",
       " 61: '#instagram #instagood #love #like #follow #photography #photooftheday #instadaily #likeforlikes #picoftheday #fashion #instalike #beautiful #bhfyp #followforfollowback #likes #art #me #photo #followme #smile #happy #style #nature #myself #insta #life #likeforfollow #india #l',\n",
       " 62: '🌙 Buona serata a tutti 👮🏻\\u200d♀️🇮🇹...#instagram #instagood#poliziadistato #carabinieri #poliziapenitenziaria #vigilidelfuoco#guardiadifinanza #neisecolifedele #essercisempre#italian_police #operatoridipolizia #policeman#possiamoaiutarvi #alserviziodelcittadino #forzedellordine #policewoman #divisenelcuore #operatoricarabinieri #donneindivisa#esercitoitaliano #armadeicarabinieri #angeliindivisa #atwork',\n",
       " 63: 'Rübabe Muradova-\"Unuda bilmirem\"#retro #retromusic #retrogabala#tehminezaur#milli#70ler #millimusiqi #kaman#dünyam #instagram ##yadinasal#sir',\n",
       " 64: '🎧',\n",
       " 65: '💓',\n",
       " 66: 'It’s weekend, guys…“FORMAT” your mind! 🌴🕊From Berlin with peace & love 📸🚶🏻\\u200d♂️#me #photographer #coaching #garden #fotografie #liebe #sunset #art #goodvibes #instagram #sun #success #instagood #style #mindset #peaceful #positivevibes #forest #faith #green #photography #healthy #fitness #rain #health #nature #sky #healthyliving #healthylifestyle #break',\n",
       " 67: '#travel #travelphotography #photography #nature #travelgram #love #photooftheday #instagood #instatravel #wanderlust #travelblogger #summer #trip #adventure #traveling #vacation #travelling #explore #picoftheday #holiday #landscape #instagram #beautiful #ig #beach #photo #art #like #traveler #bhfyp',\n",
       " 68: '하트 반대로 하는 너는 혼나야해 🥲',\n",
       " 69: 'Tbt #calisthenics #fitness #workout #streetworkout #motivation #gym #handstand #fitnessmotivation #training #gymnastics #calistenia #calisthenicsworkout #fitness #bodyweight #bodybuilding #crossfit #instagram #yoga #bodyweighttraining #picoftheday #barstarzz #calisthenicsmovement #instagood #sport #planche #photography #bodyweightworkout #workoutmotivation #calisteniabrasil',\n",
       " 70: 'Mirror check🪞!#throwback #throwbackthursday #transformation #changes #mirrorselfie #mirrorgram #mirrorimage #mirrorcheck #reverseaging #instagood #instapic #instamood #instagram #instafit #fitlife #fitness #fitfam #fit #black #greys #saltnpepper #silverfox #google #googlepixel #pixelphotography #pixel6pro #toomanyhashtags #okbye',\n",
       " 71: '🐾🐾#photo #cat #catlover #british #scottish #likeforlikes #love #followforfollowback #instagram #cookie #şila #🐾',\n",
       " 72: 'X-MEN',\n",
       " 73: 'Exploring Germany!! Driving through the mountains, walking the streets of little towns, meeting your friends and family, seeing where you grew up. Germany was everything you told me it would be and more!! Thanks for sharing this experience with me I can’t wait to go back!! 🇩🇪 #germany',\n",
       " 74: '1er plat :  tadjine lahlou , 🍯Une explosion de saveurs qui régale nos papilles.Saha ftorkom Follow ➡️➡️ @cuisine_el_bahdja Follow ➡️➡️ @cuisine_el_bahdjaFollow ➡️➡️ @cuisine_el_bahdja➖➖➖➖➖➖➖➖➖➖➖➖➖➖#gourmandise #ramadan #tajinelahlou #foodporn #foodphotography #foodphoto #foodblogger #dzair #gouter #delicious #gateauauchocolat #foodstyling #instagram #instapic #faitmaison #foodie #foodies #foodstagram #foodlover #sweet #ramadankareem #foodstyling #patisserie #delicious #sahaftorkoum#رمضان #حلويات_جزائرية #رمضان_يجمعنا #طاجين_لحلو_الجزائري #المطبخ_الجزائري #شهيوات #الجزائر',\n",
       " 75: 'Send pic on 📸  @food_promo__ig_',\n",
       " 76: 'DM it  @cuisine_.culture_',\n",
       " 77: 'Promote it DM @house_of_food._',\n",
       " 78: '𝕡𝕚𝕔 𝕤𝕖𝕟𝕕 𝕠𝕟👉 @food_paradise_gallery 😍',\n",
       " 79: 'Send Pic 💖 @thefoodsvibe',\n",
       " 80: 'Send post on  @FOOD__HUB_IG',\n",
       " 81: 'I’m gemini & marilyn’s gemini that’s it@princess_eba7 @princess_eba7 @princess_eba7 @princess_eba7 #リヴァイ兵長 #リヴァイ\\u200f#artist #beauty #art #love #like #explore \\u200f\\u200e\\u200f#art #artwork #artist #drawing #color #arts #painting #anime #color # #instagood #illustration #イラスト \\u200f@princess_eba7 \\u200f#リヴァイ兵長 #リヴァイ \\u200f #fashion #selfie #instagood #explore #love #اكسبلور #instagram #follow #nature #exploremore #photography #fashion #fashion #셀카 #selfie #instagood #explore #love #followforfollowback #اكسبلور #instagram #follow #photography #fashion #makeup #StatStory #اكسبلور #explore #art #makeup #اكسبلور #explore . . ...... ....\\u200f.#explore #explore #explore #explore #explore\\u200f.#explore #explore #explore #explore #explore #explore \\u200f.#explore #explore #explore #explore #explore #explore \\u200f.#explore #explore #explore #explore #explore #explore \\u200f.#explore #explore #explore #explore #explore #explore\\u200f.#explore #explore #explore #explore #explore\\u200f.#explore #explore #explore #explore #explore #explore \\u200f.#explore #explore #explore #explore #explore #explore \\u200f.#explore #explore #explore #explore #explore #explore \\u200f.#explore #explore #explore #explore #explore',\n",
       " 82: 'A na niebie księżyc i żurawie................#poland #pomorskie #kaszuby #sky #skyporn #moon #crane #cranebird #red #blue #igerspoland #nature #travelphotography #sunset #nft #birds #nationalgeographic #mobilephotography #instagood #filmphotography #instadaily #beautiful #instagram #skyporn #LGG5 #lgg5photography #naturephotography #igersgdansk #instagood #nature #horizon #jelenskahuta'}"
      ]
     },
     "execution_count": 14,
     "metadata": {},
     "output_type": "execute_result"
    }
   ],
   "source": [
    "comment_dict"
   ]
  },
  {
   "cell_type": "code",
   "execution_count": null,
   "id": "5ad9290e",
   "metadata": {},
   "outputs": [],
   "source": [
    "result=pd.DataFrame([comment])"
   ]
  },
  {
   "cell_type": "code",
   "execution_count": null,
   "id": "ac036349",
   "metadata": {},
   "outputs": [],
   "source": [
    "result = result.T"
   ]
  },
  {
   "cell_type": "code",
   "execution_count": null,
   "id": "2b7f104f",
   "metadata": {},
   "outputs": [],
   "source": [
    "result"
   ]
  },
  {
   "cell_type": "code",
   "execution_count": null,
   "id": "85689a07",
   "metadata": {},
   "outputs": [],
   "source": []
  }
 ],
 "metadata": {
  "kernelspec": {
   "display_name": "Python 3 (ipykernel)",
   "language": "python",
   "name": "python3"
  },
  "language_info": {
   "codemirror_mode": {
    "name": "ipython",
    "version": 3
   },
   "file_extension": ".py",
   "mimetype": "text/x-python",
   "name": "python",
   "nbconvert_exporter": "python",
   "pygments_lexer": "ipython3",
   "version": "3.9.7"
  }
 },
 "nbformat": 4,
 "nbformat_minor": 5
}
