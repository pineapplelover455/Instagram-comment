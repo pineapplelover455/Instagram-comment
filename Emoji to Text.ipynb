{
 "cells": [
  {
   "cell_type": "code",
   "execution_count": 1,
   "metadata": {},
   "outputs": [
    {
     "name": "stdout",
     "output_type": "stream",
     "text": [
      "Downloading emoji data ...\n",
      "... OK (Got response in 1.02 seconds)\n",
      "Writing emoji data to C:\\Users\\User\\.demoji\\codes.json ...\n",
      "... OK\n"
     ]
    }
   ],
   "source": [
    "import demoji\n",
    " \n",
    "demoji.download_codes()\n",
    "\n",
    "import emot\n",
    "import re\n",
    "from emot.emo_unicode import UNICODE_EMO, EMOTICONS"
   ]
  },
  {
   "cell_type": "code",
   "execution_count": 2,
   "metadata": {},
   "outputs": [],
   "source": [
    "def convert_emojis(text):\n",
    "    for emot in UNICODE_EMO:\n",
    "        text = text.replace(emot, \"_\".join(UNICODE_EMO[emot].replace(\",\",\"\").replace(\":\",\"\").split()))\n",
    "    return text\n"
   ]
  },
  {
   "cell_type": "code",
   "execution_count": 3,
   "metadata": {},
   "outputs": [],
   "source": [
    "# Example\n",
    "text1 = \"Hilarious 😂. The feeling 😍 of making a sale 😎, The feeling of actually fulfilling orders 😒\""
   ]
  },
  {
   "cell_type": "code",
   "execution_count": 4,
   "metadata": {},
   "outputs": [
    {
     "data": {
      "text/plain": [
       "{'😍': 'smiling face with heart-eyes',\n",
       " '😒': 'unamused face',\n",
       " '😎': 'smiling face with sunglasses',\n",
       " '😂': 'face with tears of joy'}"
      ]
     },
     "execution_count": 4,
     "metadata": {},
     "output_type": "execute_result"
    }
   ],
   "source": [
    "demoji.findall(text1)"
   ]
  },
  {
   "cell_type": "code",
   "execution_count": 4,
   "metadata": {},
   "outputs": [
    {
     "data": {
      "text/plain": [
       "'Hilarious face_with_tears_of_joy. The feeling smiling_face_with_heart-eyes of making a sale smiling_face_with_sunglasses, The feeling of actually fulfilling orders unamused_face'"
      ]
     },
     "execution_count": 4,
     "metadata": {},
     "output_type": "execute_result"
    }
   ],
   "source": [
    "convert_emojis(text1)"
   ]
  },
  {
   "cell_type": "code",
   "execution_count": 5,
   "metadata": {},
   "outputs": [],
   "source": [
    "text=\"\"\"Happy anniversary! ❤ Next stop: Paris! ✈ #vacation,                             \n",
    "Haha, BBQ on the beach, engage smug mode! 😍 😎 ❤ 🎉 #vacation,                  \n",
    "getting ready for Saturday night 🍕 #yum #weekend 😎,                            \n",
    "Say it with me - I NEED A #VACATION!!! ☹,                              \n",
    "😎 Chilling 😎 at home for the first time in ages…This is the life,               \n",
    "can’t believe my #vacation is over 😢 so unfair                                 \n",
    "Can’t wait for tennis this #weekend 🎾🍓🥂 😀\"\"\""
   ]
  },
  {
   "cell_type": "code",
   "execution_count": 6,
   "metadata": {},
   "outputs": [
    {
     "data": {
      "text/plain": [
       "{'🎉': 'party popper',\n",
       " '😀': 'grinning face',\n",
       " '🍕': 'pizza',\n",
       " '🎾': 'tennis',\n",
       " '🍓': 'strawberry',\n",
       " '😍': 'smiling face with heart-eyes',\n",
       " '🥂': 'clinking glasses',\n",
       " '☹': 'frowning face',\n",
       " '😢': 'crying face',\n",
       " '😎': 'smiling face with sunglasses',\n",
       " '✈': 'airplane',\n",
       " '❤': 'red heart'}"
      ]
     },
     "execution_count": 6,
     "metadata": {},
     "output_type": "execute_result"
    }
   ],
   "source": [
    "demoji.findall(text)"
   ]
  },
  {
   "cell_type": "code",
   "execution_count": 7,
   "metadata": {},
   "outputs": [
    {
     "data": {
      "text/plain": [
       "'Happy anniversary! red_heart Next stop: Paris! airplane #vacation,                             \\nHaha, BBQ on the beach, engage smug mode! smiling_face_with_heart-eyes smiling_face_with_sunglasses red_heart party_popper #vacation,                  \\ngetting ready for Saturday night pizza #yum #weekend smiling_face_with_sunglasses,                            \\nSay it with me - I NEED A #VACATION!!! frowning_face,                              \\nsmiling_face_with_sunglasses Chilling smiling_face_with_sunglasses at home for the first time in ages…This is the life,               \\ncan’t believe my #vacation is over crying_face so unfair                                 \\nCan’t wait for tennis this #weekend tennisstrawberryclinking_glasses grinning_face'"
      ]
     },
     "execution_count": 7,
     "metadata": {},
     "output_type": "execute_result"
    }
   ],
   "source": [
    "convert_emojis(text)"
   ]
  }
 ],
 "metadata": {
  "kernelspec": {
   "display_name": "Python 3",
   "language": "python",
   "name": "python3"
  },
  "language_info": {
   "codemirror_mode": {
    "name": "ipython",
    "version": 3
   },
   "file_extension": ".py",
   "mimetype": "text/x-python",
   "name": "python",
   "nbconvert_exporter": "python",
   "pygments_lexer": "ipython3",
   "version": "3.7.4"
  }
 },
 "nbformat": 4,
 "nbformat_minor": 4
}
